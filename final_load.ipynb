{
 "cells": [
  {
   "cell_type": "code",
   "execution_count": 18,
   "metadata": {},
   "outputs": [],
   "source": [
    "from langchain.vectorstores.chroma import Chroma\n",
    "from langchain_community.embeddings import HuggingFaceEmbeddings\n",
    "import time, os, shutil\n",
    "CHROMA_PATH = \"final_test/chroma_test\"\n",
    "CHROMA_PATH = \"final_test/chroma_test2\""
   ]
  },
  {
   "cell_type": "code",
   "execution_count": 2,
   "metadata": {},
   "outputs": [],
   "source": [
    "from langchain.text_splitter import RecursiveCharacterTextSplitter\n",
    "from langchain_core.documents import Document\n",
    "\n",
    "def split_text(documents: list[Document]):\n",
    "    print(\"Starting chunking\")\n",
    "\n",
    "    \"Recursive Splitter\"\n",
    "    text_splitter = RecursiveCharacterTextSplitter(\n",
    "        chunk_size=1500,\n",
    "        chunk_overlap=300,\n",
    "        length_function=len,\n",
    "        add_start_index=True,\n",
    "    )\n",
    "    chunks = text_splitter.split_documents(documents)\n",
    "    print(f\"Split {len(documents)} documents into {len(chunks)} chunks.\")\n",
    "    print(f\"len docs {len(chunks)}\")\n",
    "    document = chunks[10]\n",
    "    print(\"page content \\n\", document.page_content)\n",
    "    print(\"doc metadata \\n\", document.metadata)\n",
    "    return chunks"
   ]
  },
  {
   "cell_type": "code",
   "execution_count": 20,
   "metadata": {},
   "outputs": [
    {
     "name": "stderr",
     "output_type": "stream",
     "text": [
      "d:\\Python\\lib\\site-packages\\tqdm\\auto.py:21: TqdmWarning: IProgress not found. Please update jupyter and ipywidgets. See https://ipywidgets.readthedocs.io/en/stable/user_install.html\n",
      "  from .autonotebook import tqdm as notebook_tqdm\n"
     ]
    },
    {
     "name": "stdout",
     "output_type": "stream",
     "text": [
      "model load time 132.0 second\n"
     ]
    }
   ],
   "source": [
    "def load_embedding_model():\n",
    "    start_time = time.time()\n",
    "    model_path=\"intfloat/multilingual-e5-large\"   \n",
    "    encode_kwargs = {\"normalize_embeddings\": True}\n",
    "    local_embedding = HuggingFaceEmbeddings(\n",
    "        model_name=model_path,\n",
    "        cache_folder=\"./models\",\n",
    "        encode_kwargs=encode_kwargs\n",
    "    )\n",
    "    end_time = time.time()\n",
    "    print(f'model load time {round(end_time - start_time, 0)} second')\n",
    "    return local_embedding\n",
    "\n",
    "embedding = load_embedding_model()"
   ]
  },
  {
   "cell_type": "code",
   "execution_count": 4,
   "metadata": {},
   "outputs": [],
   "source": [
    "def save_to_chroma(chunks: list[Document]):\n",
    "    print(\"Starting Embedding\")\n",
    "    # Clear out the database first.\n",
    "    if os.path.exists(CHROMA_PATH):\n",
    "        shutil.rmtree(CHROMA_PATH)\n",
    "\n",
    "    # Create a new DB from the documents.\n",
    "    start_time = time.time()\n",
    "    db = Chroma.from_documents(\n",
    "        chunks, \n",
    "        embedding, \n",
    "        persist_directory=CHROMA_PATH,\n",
    "        collection_metadata={\"hnsw:space\": \"cosine\"}\n",
    "    )\n",
    "    db.persist()\n",
    "    end_time = time.time()\n",
    "    print(f'embedding time {round(end_time - start_time, 0)} second')\n",
    "    print(f\"Saved {len(chunks)} chunks to {CHROMA_PATH}.\")"
   ]
  },
  {
   "cell_type": "markdown",
   "metadata": {},
   "source": [
    "# Nutrisi pada anak dengan penyakit ginjal"
   ]
  },
  {
   "cell_type": "markdown",
   "metadata": {},
   "source": [
    "### unstructured"
   ]
  },
  {
   "cell_type": "code",
   "execution_count": 4,
   "metadata": {},
   "outputs": [],
   "source": [
    "from unstructured.partition.text import partition_text\n",
    "\n",
    "elements = partition_text(filename=\"final_clean/nutrisi_pada_anak_dengan_penyakit_ginjal_clean_poster_final.txt\")"
   ]
  },
  {
   "cell_type": "code",
   "execution_count": 16,
   "metadata": {},
   "outputs": [],
   "source": [
    "from unstructured.chunking.basic import chunk_elements\n",
    "\n",
    "chunks = chunk_elements(elements, \n",
    "                        max_characters=1500, \n",
    "                        new_after_n_chars=1000, \n",
    "                        overlap=300, \n",
    "                        overlap_all=True)"
   ]
  },
  {
   "cell_type": "code",
   "execution_count": 33,
   "metadata": {},
   "outputs": [
    {
     "data": {
      "text/plain": [
       "{'file_directory': 'final_clean',\n",
       " 'filename': 'nutrisi_pada_anak_dengan_penyakit_ginjal_clean_poster_final.txt',\n",
       " 'filetype': 'text/plain',\n",
       " 'languages': ['ind'],\n",
       " 'last_modified': '2024-04-28T12:28:39'}"
      ]
     },
     "execution_count": 33,
     "metadata": {},
     "output_type": "execute_result"
    }
   ],
   "source": [
    "chunks[0].metadata.to_dict()"
   ]
  },
  {
   "cell_type": "code",
   "execution_count": 35,
   "metadata": {},
   "outputs": [],
   "source": [
    "document_chunks = []\n",
    "for chunk in chunks:\n",
    "    temp_metadata = chunk.metadata.to_dict()\n",
    "    temp_metadata[\"languages\"] = 'ind'\n",
    "    temp = Document(\n",
    "            page_content=chunk.text,\n",
    "            metadata=temp_metadata,\n",
    "        )\n",
    "    document_chunks.append(temp)"
   ]
  },
  {
   "cell_type": "code",
   "execution_count": null,
   "metadata": {},
   "outputs": [],
   "source": [
    "# unstructured\n",
    "db = Chroma.from_documents(\n",
    "        document_chunks, \n",
    "        embedding, \n",
    "        persist_directory=CHROMA_PATH, \n",
    "        collection_metadata={\"hnsw:space\": \"cosine\"}\n",
    "    )\n",
    "db.persist()"
   ]
  },
  {
   "cell_type": "markdown",
   "metadata": {},
   "source": [
    "### langchain"
   ]
  },
  {
   "cell_type": "code",
   "execution_count": null,
   "metadata": {},
   "outputs": [],
   "source": [
    "from langchain_community.document_loaders import TextLoader\n",
    "\n",
    "loader = TextLoader(\"final_clean/nutrisi_pada_anak_dengan_penyakit_ginjal_clean_poster_final.txt\")\n",
    "documents = loader.load()"
   ]
  },
  {
   "cell_type": "code",
   "execution_count": null,
   "metadata": {},
   "outputs": [],
   "source": [
    "# langchain splitter\n",
    "chunks = split_text(documents)\n",
    "db = Chroma.from_documents(\n",
    "        chunks, \n",
    "        embedding, \n",
    "        persist_directory=CHROMA_PATH, \n",
    "        collection_metadata={\"hnsw:space\": \"cosine\"}\n",
    "    )\n",
    "db.persist()"
   ]
  },
  {
   "cell_type": "markdown",
   "metadata": {},
   "source": [
    "### tabel"
   ]
  },
  {
   "cell_type": "markdown",
   "metadata": {},
   "source": []
  },
  {
   "cell_type": "code",
   "execution_count": 10,
   "metadata": {},
   "outputs": [],
   "source": [
    "from unstructured.partition.docx import partition_docx\n",
    "\n",
    "elements = partition_docx(filename=\"docx/nutrisi tabel.docx\")"
   ]
  },
  {
   "cell_type": "code",
   "execution_count": 12,
   "metadata": {},
   "outputs": [
    {
     "data": {
      "text/plain": [
       "{'category_depth': 0,\n",
       " 'emphasized_text_contents': ['Tabel 1'],\n",
       " 'emphasized_text_tags': ['b'],\n",
       " 'last_modified': '2024-05-02T00:11:11',\n",
       " 'page_number': 1,\n",
       " 'languages': ['ind'],\n",
       " 'file_directory': 'docx',\n",
       " 'filename': 'nutrisi tabel.docx',\n",
       " 'filetype': 'application/vnd.openxmlformats-officedocument.wordprocessingml.document'}"
      ]
     },
     "execution_count": 12,
     "metadata": {},
     "output_type": "execute_result"
    }
   ],
   "source": [
    "elements[0].metadata.to_dict()"
   ]
  },
  {
   "cell_type": "code",
   "execution_count": 13,
   "metadata": {},
   "outputs": [
    {
     "name": "stdout",
     "output_type": "stream",
     "text": [
      "Tabel 1Klasifikasi derajat penyakit ginjal kronik.Derajat 1: Kerusakan ginjal dengan LFG normal atau meningkat, GFR 60-89 mL/min/1.73 m².Derajat 2: Kerusakan ginjal dengan penurunan ringan LFG, GFR 60-89 mL/min/1.73 m².Derajat 3: Penurunan sedang LFG, GFR 30-59 mL/min/1.73 m².Derajat 4: Penurunan berat LFG,  GFR 15-29 mL/min/1.73 m².Derajat 5: gagal ginjal,  GFR <15 mL/min/1.73 m²atau dialisis.Tabel 2 Rekomendasi parameter dan frekuensi penilaian nutrisi untuk anak dengan PGK derajat 2 sampai 5 dan 5-dialisis (5D)Umur < 1 tahun, PGK 2 – 3, Asupan makanan : 0,5 – 3 bulan, Persentil tinggi badan terhadap umur : 0,5 – 1,5 bulan, Persentil velocity tinggi badan terhadap umur : 0,5 – 2 bulan, Perkiraan berat kering dan persentil berat badan terhadap umur : 0,5 – 1,5 bulan, Indeks massa tubuh : 0,5 – 1,5 bulan, Persentil lingkar kepala : 0,5 – 1,5 bulanUmur < 1 tahun, PGK 4 – 5, Asupan makanan : 0,5 – 3 bulan, Persentil tinggi badan terhadap umur : 0,5 – 1,5 bulan, Persentil velocity tinggi badan terhadap umur : 0,5 – 2 bulan, Perkiraan berat kering dan persentil berat badan terhadap umur : 0,5 – 1,5 bulan, Indeks massa tubuh : 0,5 – 1,5 bulan, Persentil lingkar kepala : 0,5 – 1,5 bulanUmur < 1 tahun, PGK 5D, Asupan makanan : 0,5 – 2 bulan, Persentil tinggi badan terhadap umur : 0,5 – 1 bulan, Persentil velocity tinggi badan terhadap umur : 0,5 – 1 bulan, Perkiraan berat kering dan persentil berat badan terhadap umur 0,25 – 1 bulan, Indeks massa tubuh : 0,5 – 1 bulan, Persentil lingkar kepala : 0,5 – 1 bulanUmur 1 – 3 tahun, PGK 2 – 3, Asupan makanan : 1 – 3 bulan, Persentil tinggi badan terhadap umur : 1 – 3 bulan, Persentil velocity tinggi badan terhadap umur : 1 – 6 bulan, Perkiraan berat kering dan persentil berat badan terhadap umur : 1 – 3 bulan, Indeks massa tubuh : 1 – 3 bulan, Persentil lingkar kepala : 1 – 3 bulanUmur 1 – 3 tahun, PGK 4 – 5, Asupan makanan : 1 – 3 bulan, Persentil tinggi badan terhadap umur : 1 – 2 bulan, Persentil velocity tinggi badan terhadap umur : 1 – 3 bulan, Perkiraan berat kering dan persentil berat badan terhadap umur : 1 – 2 bulan, Indeks massa tubuh : 1 – 2 bulan, Persentil lingkar kepala : 1 – 2 bulanUmur 1 – 3 tahun, PGK 5D, Asupan makanan : : 1 – 3 bulan, Persentil tinggi badan terhadap umur : 1 bulan, Persentil velocity tinggi badan terhadap umur : 1 – 2 bulan, Perkiraan berat kering dan persentil berat badan terhadap umur : 0,5 – 1 bulan, Indeks massa tubuh : 1 bulan, Persentil lingkar kepala : 1 – 2 bulanUmur > 3 tahun, PGK 2, Asupan makanan : 6 – 12 bulan, Persentil tinggi badan terhadap umur : 3 – 6 bulan, Persentil velocity tinggi badan terhadap umur : 6 bulan, Perkiraan berat kering dan persentil berat badan terhadap umur : 3 – 6 bulan, Indeks massa tubuh : 3 – 6 bulanUmur > 3 tahun, PGK 3, Asupan makanan : 6 bulan, Persentil tinggi badan terhadap umur : 3 – 6 bulan, Persentil velocity tinggi badan terhadap umur :  6 bulan, Perkiraan berat kering dan persentil berat badan terhadap umur : 3 – 6 bulan, Indeks massa tubuh : 3 – 6 bulanUmur > 3 tahun, PGK 4 – 5, Asupan makanan : 3 – 4 bulan, Persentil tinggi badan terhadap umur : 1 – 3 bulan, Persentil velocity tinggi badan terhadap umur : 6 bulan, Perkiraan berat kering dan persentil berat badan terhadap umur : 1 – 3 bulan, Indeks massa tubuh : 1 – 3 bulanUmur > 3 tahun, PGK 5D, Asupan makanan : 3 – 4 bulan, Persentil tinggi badan terhadap umur : 1 – 3 bulan, Persentil velocity tinggi badan terhadap umur : 6 bulan, Perkiraan berat kering dan persentil berat badan terhadap umur : 1 – 3 bulan, Indeks massa tubuh : 1 – 3 bulanTabel 3Distribusi kebutuhan makronutrien pada anak PGK. Rerata distribusi makronutrien.Umur 1 – 4 tahun : karbohidrat 45% - 65%, lemak 30%-40%, protein 5%-20%Umur 1 – 4 tahun : karbohidrat 45% - 65%, lemak 25%-35%, protein 10%-30%Tabel 4 Rekomendasi asupan makanan yang adekuat pada PGK.Bayi 0-6 bulan:Bayi usia 0-6 bulan memerlukan 400 mikrogram per hari vitamin A, 40 miligram per hari vitamin C, 4 miligram per hari vitamin E, 2,0 mikrogram per hari vitamin K, 0,2 miligram per hari vitamin B1, 0,3 miligram per hari vitamin B2, 2 miligram per hari vitamin B3, 0,4 mikrogram per hari vitamin B6, 65 mikrogram per hari asam folat, 0,4 mikrogram per hari vitamin B12, 1,7 miligram per hari asam pantotenat, 5 mikrogram per hari biotin, 200 mikrogram per hari tembaga, 15 mikrogram per hari selenium, dan 2 miligram per hari zink.Bayi 7-12 bulan:Bayi usia 7-12 bulan memerlukan 500 mikrogram per hari vitamin A, 50 miligram per hari vitamin C, 5 miligram per hari vitamin E, 2,5 mikrogram per hari vitamin K, 0,3 miligram per hari vitamin B1, 0,4 miligram per hari vitamin B2, 4 miligram per hari vitamin B3, 0,5 mikrogram per hari vitamin B6, 89 mikrogram per hari asam folat, 0,5 mikrogram per hari vitamin B12, 1,8 miligram per hari asam pantotenat, 6 mikrogram per hari biotin, 220 mikrogram per hari tembaga, 20 mikrogram per hari selenium, dan 3 miligram per hari zink.Anak 1-3 tahun:Anak usia 1-3 tahun memerlukan 300 mikrogram per hari vitamin A, 15 miligram per hari vitamin C, 6 miligram per hari vitamin E, 30 mikrogram per hari vitamin K, 0,5 miligram per hari vitamin B1, 0,5 miligram per hari vitamin B2, 6 miligram per hari vitamin B3, 0,9 mikrogram per hari vitamin B6, 150 mikrogram per hari asam folat, 0,9 mikrogram per hari vitamin B12, 2 miligram per hari asam pantotenat, 8 mikrogram per hari biotin, 340 mikrogram per hari tembaga, 20 mikrogram per hari selenium, dan 3 miligram per hari zink.Anak 4-8 tahun:Anak usia 4-8 tahun memerlukan 400 mikrogram per hari vitamin A, 25 miligram per hari vitamin C, 7 miligram per hari vitamin E, 55 mikrogram per hari vitamin K, 0,6 miligram per hari vitamin B1, 0,6 miligram per hari vitamin B2, 8 miligram per hari vitamin B3, 1,2 mikrogram per hari vitamin B6, 200 mikrogram per hari asam folat, 1,2 mikrogram per hari vitamin B12, 3 miligram per hari asam pantotenat, 12 mikrogram per hari biotin, 440 mikrogram per hari tembaga, 30 mikrogram per hari selenium, dan 5 miligram per hari zink.Laki-laki 9-13 tahun:Laki-laki usia 9-13 tahun memerlukan 600 mikrogram per hari vitamin A, 45 miligram per hari vitamin C, 11 miligram per hari vitamin E, 60 mikrogram per hari vitamin K, 0,9 miligram per hari vitamin B1, 0,9 miligram per hari vitamin B2, 12 miligram per hari vitamin B3, 1,8 mikrogram per hari vitamin B6, 300 mikrogram per hari asam folat, 1,8 mikrogram per hari vitamin B12, 4 miligram per hari asam pantotenat, 20 mikrogram per hari biotin, 700 mikrogram per hari tembaga, 40 mikrogram per hari selenium, dan 8 miligram per hari zink.Laki-laki 14-18 tahun:Laki-laki usia 14-18 tahun memerlukan 900 mikrogram per hari vitamin A, 75 miligram per hari vitamin C, 15 miligram per hari vitamin E, 75 mikrogram per hari vitamin K, 1,2 miligram per hari vitamin B1, 1,3 miligram per hari vitamin B2, 16 miligram per hari vitamin B3, 2,4 mikrogram per hari vitamin B6, 400 mikrogram per hari asam folat, 2,4 mikrogram per hari vitamin B12, 5 miligram per hari asam pantotenat, 25 mikrogram per hari biotin, 890 mikrogram per hari tembaga, 55 mikrogram per hari selenium, dan 11 miligram per hari zink.Perempuan 9-13 tahun:Perempuan usia 9-13 tahun memerlukan 600 mikrogram per hari vitamin A, 45 miligram per hari vitamin C, 11 miligram per hari vitamin E, 60 mikrogram per hari vitamin K, 0,9 miligram per hari vitamin B1, 0,9 miligram per hari vitamin B2, 12 miligram per hari vitamin B3, 1,8 mikrogram per hari vitamin B6, 300 mikrogram per hari asam folat, 1,8 mikrogram per hari vitamin B12, 4 miligram per hari asam pantotenat, 20 mikrogram per hari biotin, 700 mikrogram per hari tembaga, 40 mikrogram per hari selenium, dan 8 miligram per hari zink.Perempuan 14-18 tahun:Perempuan usia 14-18 tahun memerlukan 700 mikrogram per hari vitamin A, 65 miligram per hari vitamin C, 15 miligram per hari vitamin E, 75 mikrogram per hari vitamin K, 1,0 miligram per hari vitamin B1, 1,0 miligram per hari vitamin B2, 14 miligram per hari vitamin B3, 2,4 mikrogram per hari vitamin B6, 400 mikrogram per hari asam folat, 2,4 mikrogram per hari vitamin B12, 5 miligram per hari asam pantotenat, 25 mikrogram per hari biotin, 890 mikrogram per hari tembaga, 55 mikrogram per hari selenium, dan 9 miligram per hari zink.Tabel 5 Rekomendasi asupan protein pada anak PGK derajat 3-5 dan 5DUmur 0 – 6 bulan, DRI 1,5 g/kg/hari, Rekomendasi PGK derajat 3 1,5 – 2,1 g/kg/h (100% - 140% DRI), Rekomendasi PGK derajat 4-5 1,5-1,9 g/kg/h (100%-120% DRI), Rekomendasi untuk hemodialisis 1,6 g/kg/h, Rekomendasi untuk dialisis peritoneal 1,8 g/kg/hUmur 7 – 12 bulan, DRI 1,2 g/kg/hari, Rekomendasi PGK derajat 3 1,2 – 1,7 g/kg/h (100% - 140% DRI), Rekomendasi PGK derajat 4-5 1,2-1,5 g/kg/h (100%-120% DRI), Rekomendasi untuk hemodialisis 1,9 g/kg/h, Rekomendasi untuk dialisis peritoneal 1,5 g/kg/hUmur 1 – 8 tahun, DRI 1,06 g/kg/hari, Rekomendasi PGK derajat 3 1,06 – 1,5 g/kg/h (100% - 140% DRI), Rekomendasi PGK derajat 4-5 1,06-1,25 g/kg/h (100%-120% DRI), Rekomendasi untuk hemodialisis 1,15 g/kg/h, Rekomendasi untuk dialisis peritoneal 1,9 g/kg/hUmur 4 – 13 tahun, DRI 0,95 g/kg/hari, Rekomendasi PGK derajat 3 0,95 – 1,95 g/kg/h (100% - 140% DRI), Rekomendasi PGK derajat 4-5 0,95-1,15 g/kg/h (100%-120% DRI), Rekomendasi untuk hemodialisis 1,06 g/kg/h, Rekomendasi untuk dialisis peritoneal 1,1 g/kg/hUmur 14 – 18 tahun, DRI 0,85 g/kg/hari, Rekomendasi PGK derajat 3 0,85 – 1,2 g/kg/h (100% - 140% DRI), Rekomendasi PGK derajat 4-5 0,95-1,06 g/kg/h (100%-120% DRI), Rekomendasi untuk hemodialisis 0,95 g/kg/h, Rekomendasi untuk dialisis peritoneal 1,0 g/kg/hTabel 6Rekomendasi asupan kalsium untuk anak dengan PGK derajat 2-5 dan 5D.0-6 bulan: DRI 210 mg/dL, Batas atas untuk PGK derajat 2-5 & 5D (diet + pengikat fosfat) ≤ 4207-12 bulan: DRI 270 mg/dL, Batas atas untuk PGK derajat 2-5 & 5D (diet + pengikat fosfat) ≤ 5401-3 tahun: DRI 500 mg/dL, batas atas untuk anak sehat 2500, Batas atas untuk PGK derajat 2-5 & 5D (diet + pengikat fosfat) ≤ 10004-9 tahun: DRI 800 mg/dL, batas atas untuk anak sehat 2500, Batas atas untuk PGK derajat 2-5 & 5D (diet + pengikat fosfat) ≤ 16009-18 tahun: DRI 1800 mg/dL, batas atas untuk anak sehat 2500, Batas atas untuk PGK derajat 2-5 & 5D (diet + pengikat fosfat) ≤ 2500Tabel 7 Rekomendasi maksimum asupan fosfor secara oral atau enteral untuk anak dengan PGK.0-6 bulan: DRI 100 mg/dL, Tinggi PTH dan normal fosfor ≤ 100, Tinggi PTH dan tinggi fosfor ≤ 807-12 bulan: DRI 275 mg/dL, Tinggi PTH dan normal fosfor ≤ 275, Tinggi PTH dan tinggi fosfor ≤ 2201-3 tahun: DRI 460 mg/dL, Tinggi PTH dan normal fosfor ≤ 460, Tinggi PTH dan tinggi fosfor ≤ 3704-9 tahun: DRI 500 mg/dL, Tinggi PTH dan normal fosfor ≤ 500, Tinggi PTH dan tinggi fosfor ≤ 4009-18 tahun: DRI 1250 mg/dL, Tinggi PTH dan normal fosfor ≤ 1250, Tinggi PTH dan tinggi fosfor ≤ 1000Tabel 8 Target rerata PTH serum berdasarkan derajat PGK.Derajat PGK 3, Rerata LFG 30 – 59 mL/mnt/1,73m2, Target serum PTH 35 – 70 pg/mLDerajat PGK 4, Rerata LFG 15 – 29 mL/mnt/1,73m2, Target serum PTH 70 – 110 pg/mLDerajat PGK 5 dan 5D, Rerata LFG < 15 mL/mnt/1,73m2, Target serum PTH 200 – 300 pg/mL\n"
     ]
    },
    {
     "data": {
      "text/plain": [
       "''"
      ]
     },
     "execution_count": 13,
     "metadata": {},
     "output_type": "execute_result"
    }
   ],
   "source": [
    "import re\n",
    "\n",
    "text = \"\"\n",
    "for elem in elements:\n",
    "    text += elem.text\n",
    "print(text)\n",
    "table_list = re.split(r\"Tabel \\d\", text)\n",
    "table_list.pop(0)"
   ]
  },
  {
   "cell_type": "code",
   "execution_count": 14,
   "metadata": {},
   "outputs": [
    {
     "data": {
      "text/plain": [
       "['Klasifikasi derajat penyakit ginjal kronik.Derajat 1: Kerusakan ginjal dengan LFG normal atau meningkat, GFR 60-89 mL/min/1.73 m².Derajat 2: Kerusakan ginjal dengan penurunan ringan LFG, GFR 60-89 mL/min/1.73 m².Derajat 3: Penurunan sedang LFG, GFR 30-59 mL/min/1.73 m².Derajat 4: Penurunan berat LFG,  GFR 15-29 mL/min/1.73 m².Derajat 5: gagal ginjal,  GFR <15 mL/min/1.73 m²atau dialisis.',\n",
       " ' Rekomendasi parameter dan frekuensi penilaian nutrisi untuk anak dengan PGK derajat 2 sampai 5 dan 5-dialisis (5D)Umur < 1 tahun, PGK 2 – 3, Asupan makanan : 0,5 – 3 bulan, Persentil tinggi badan terhadap umur : 0,5 – 1,5 bulan, Persentil velocity tinggi badan terhadap umur : 0,5 – 2 bulan, Perkiraan berat kering dan persentil berat badan terhadap umur : 0,5 – 1,5 bulan, Indeks massa tubuh : 0,5 – 1,5 bulan, Persentil lingkar kepala : 0,5 – 1,5 bulanUmur < 1 tahun, PGK 4 – 5, Asupan makanan : 0,5 – 3 bulan, Persentil tinggi badan terhadap umur : 0,5 – 1,5 bulan, Persentil velocity tinggi badan terhadap umur : 0,5 – 2 bulan, Perkiraan berat kering dan persentil berat badan terhadap umur : 0,5 – 1,5 bulan, Indeks massa tubuh : 0,5 – 1,5 bulan, Persentil lingkar kepala : 0,5 – 1,5 bulanUmur < 1 tahun, PGK 5D, Asupan makanan : 0,5 – 2 bulan, Persentil tinggi badan terhadap umur : 0,5 – 1 bulan, Persentil velocity tinggi badan terhadap umur : 0,5 – 1 bulan, Perkiraan berat kering dan persentil berat badan terhadap umur 0,25 – 1 bulan, Indeks massa tubuh : 0,5 – 1 bulan, Persentil lingkar kepala : 0,5 – 1 bulanUmur 1 – 3 tahun, PGK 2 – 3, Asupan makanan : 1 – 3 bulan, Persentil tinggi badan terhadap umur : 1 – 3 bulan, Persentil velocity tinggi badan terhadap umur : 1 – 6 bulan, Perkiraan berat kering dan persentil berat badan terhadap umur : 1 – 3 bulan, Indeks massa tubuh : 1 – 3 bulan, Persentil lingkar kepala : 1 – 3 bulanUmur 1 – 3 tahun, PGK 4 – 5, Asupan makanan : 1 – 3 bulan, Persentil tinggi badan terhadap umur : 1 – 2 bulan, Persentil velocity tinggi badan terhadap umur : 1 – 3 bulan, Perkiraan berat kering dan persentil berat badan terhadap umur : 1 – 2 bulan, Indeks massa tubuh : 1 – 2 bulan, Persentil lingkar kepala : 1 – 2 bulanUmur 1 – 3 tahun, PGK 5D, Asupan makanan : : 1 – 3 bulan, Persentil tinggi badan terhadap umur : 1 bulan, Persentil velocity tinggi badan terhadap umur : 1 – 2 bulan, Perkiraan berat kering dan persentil berat badan terhadap umur : 0,5 – 1 bulan, Indeks massa tubuh : 1 bulan, Persentil lingkar kepala : 1 – 2 bulanUmur > 3 tahun, PGK 2, Asupan makanan : 6 – 12 bulan, Persentil tinggi badan terhadap umur : 3 – 6 bulan, Persentil velocity tinggi badan terhadap umur : 6 bulan, Perkiraan berat kering dan persentil berat badan terhadap umur : 3 – 6 bulan, Indeks massa tubuh : 3 – 6 bulanUmur > 3 tahun, PGK 3, Asupan makanan : 6 bulan, Persentil tinggi badan terhadap umur : 3 – 6 bulan, Persentil velocity tinggi badan terhadap umur :  6 bulan, Perkiraan berat kering dan persentil berat badan terhadap umur : 3 – 6 bulan, Indeks massa tubuh : 3 – 6 bulanUmur > 3 tahun, PGK 4 – 5, Asupan makanan : 3 – 4 bulan, Persentil tinggi badan terhadap umur : 1 – 3 bulan, Persentil velocity tinggi badan terhadap umur : 6 bulan, Perkiraan berat kering dan persentil berat badan terhadap umur : 1 – 3 bulan, Indeks massa tubuh : 1 – 3 bulanUmur > 3 tahun, PGK 5D, Asupan makanan : 3 – 4 bulan, Persentil tinggi badan terhadap umur : 1 – 3 bulan, Persentil velocity tinggi badan terhadap umur : 6 bulan, Perkiraan berat kering dan persentil berat badan terhadap umur : 1 – 3 bulan, Indeks massa tubuh : 1 – 3 bulan',\n",
       " 'Distribusi kebutuhan makronutrien pada anak PGK. Rerata distribusi makronutrien.Umur 1 – 4 tahun : karbohidrat 45% - 65%, lemak 30%-40%, protein 5%-20%Umur 1 – 4 tahun : karbohidrat 45% - 65%, lemak 25%-35%, protein 10%-30%',\n",
       " ' Rekomendasi asupan makanan yang adekuat pada PGK.Bayi 0-6 bulan:Bayi usia 0-6 bulan memerlukan 400 mikrogram per hari vitamin A, 40 miligram per hari vitamin C, 4 miligram per hari vitamin E, 2,0 mikrogram per hari vitamin K, 0,2 miligram per hari vitamin B1, 0,3 miligram per hari vitamin B2, 2 miligram per hari vitamin B3, 0,4 mikrogram per hari vitamin B6, 65 mikrogram per hari asam folat, 0,4 mikrogram per hari vitamin B12, 1,7 miligram per hari asam pantotenat, 5 mikrogram per hari biotin, 200 mikrogram per hari tembaga, 15 mikrogram per hari selenium, dan 2 miligram per hari zink.Bayi 7-12 bulan:Bayi usia 7-12 bulan memerlukan 500 mikrogram per hari vitamin A, 50 miligram per hari vitamin C, 5 miligram per hari vitamin E, 2,5 mikrogram per hari vitamin K, 0,3 miligram per hari vitamin B1, 0,4 miligram per hari vitamin B2, 4 miligram per hari vitamin B3, 0,5 mikrogram per hari vitamin B6, 89 mikrogram per hari asam folat, 0,5 mikrogram per hari vitamin B12, 1,8 miligram per hari asam pantotenat, 6 mikrogram per hari biotin, 220 mikrogram per hari tembaga, 20 mikrogram per hari selenium, dan 3 miligram per hari zink.Anak 1-3 tahun:Anak usia 1-3 tahun memerlukan 300 mikrogram per hari vitamin A, 15 miligram per hari vitamin C, 6 miligram per hari vitamin E, 30 mikrogram per hari vitamin K, 0,5 miligram per hari vitamin B1, 0,5 miligram per hari vitamin B2, 6 miligram per hari vitamin B3, 0,9 mikrogram per hari vitamin B6, 150 mikrogram per hari asam folat, 0,9 mikrogram per hari vitamin B12, 2 miligram per hari asam pantotenat, 8 mikrogram per hari biotin, 340 mikrogram per hari tembaga, 20 mikrogram per hari selenium, dan 3 miligram per hari zink.Anak 4-8 tahun:Anak usia 4-8 tahun memerlukan 400 mikrogram per hari vitamin A, 25 miligram per hari vitamin C, 7 miligram per hari vitamin E, 55 mikrogram per hari vitamin K, 0,6 miligram per hari vitamin B1, 0,6 miligram per hari vitamin B2, 8 miligram per hari vitamin B3, 1,2 mikrogram per hari vitamin B6, 200 mikrogram per hari asam folat, 1,2 mikrogram per hari vitamin B12, 3 miligram per hari asam pantotenat, 12 mikrogram per hari biotin, 440 mikrogram per hari tembaga, 30 mikrogram per hari selenium, dan 5 miligram per hari zink.Laki-laki 9-13 tahun:Laki-laki usia 9-13 tahun memerlukan 600 mikrogram per hari vitamin A, 45 miligram per hari vitamin C, 11 miligram per hari vitamin E, 60 mikrogram per hari vitamin K, 0,9 miligram per hari vitamin B1, 0,9 miligram per hari vitamin B2, 12 miligram per hari vitamin B3, 1,8 mikrogram per hari vitamin B6, 300 mikrogram per hari asam folat, 1,8 mikrogram per hari vitamin B12, 4 miligram per hari asam pantotenat, 20 mikrogram per hari biotin, 700 mikrogram per hari tembaga, 40 mikrogram per hari selenium, dan 8 miligram per hari zink.Laki-laki 14-18 tahun:Laki-laki usia 14-18 tahun memerlukan 900 mikrogram per hari vitamin A, 75 miligram per hari vitamin C, 15 miligram per hari vitamin E, 75 mikrogram per hari vitamin K, 1,2 miligram per hari vitamin B1, 1,3 miligram per hari vitamin B2, 16 miligram per hari vitamin B3, 2,4 mikrogram per hari vitamin B6, 400 mikrogram per hari asam folat, 2,4 mikrogram per hari vitamin B12, 5 miligram per hari asam pantotenat, 25 mikrogram per hari biotin, 890 mikrogram per hari tembaga, 55 mikrogram per hari selenium, dan 11 miligram per hari zink.Perempuan 9-13 tahun:Perempuan usia 9-13 tahun memerlukan 600 mikrogram per hari vitamin A, 45 miligram per hari vitamin C, 11 miligram per hari vitamin E, 60 mikrogram per hari vitamin K, 0,9 miligram per hari vitamin B1, 0,9 miligram per hari vitamin B2, 12 miligram per hari vitamin B3, 1,8 mikrogram per hari vitamin B6, 300 mikrogram per hari asam folat, 1,8 mikrogram per hari vitamin B12, 4 miligram per hari asam pantotenat, 20 mikrogram per hari biotin, 700 mikrogram per hari tembaga, 40 mikrogram per hari selenium, dan 8 miligram per hari zink.Perempuan 14-18 tahun:Perempuan usia 14-18 tahun memerlukan 700 mikrogram per hari vitamin A, 65 miligram per hari vitamin C, 15 miligram per hari vitamin E, 75 mikrogram per hari vitamin K, 1,0 miligram per hari vitamin B1, 1,0 miligram per hari vitamin B2, 14 miligram per hari vitamin B3, 2,4 mikrogram per hari vitamin B6, 400 mikrogram per hari asam folat, 2,4 mikrogram per hari vitamin B12, 5 miligram per hari asam pantotenat, 25 mikrogram per hari biotin, 890 mikrogram per hari tembaga, 55 mikrogram per hari selenium, dan 9 miligram per hari zink.',\n",
       " ' Rekomendasi asupan protein pada anak PGK derajat 3-5 dan 5DUmur 0 – 6 bulan, DRI 1,5 g/kg/hari, Rekomendasi PGK derajat 3 1,5 – 2,1 g/kg/h (100% - 140% DRI), Rekomendasi PGK derajat 4-5 1,5-1,9 g/kg/h (100%-120% DRI), Rekomendasi untuk hemodialisis 1,6 g/kg/h, Rekomendasi untuk dialisis peritoneal 1,8 g/kg/hUmur 7 – 12 bulan, DRI 1,2 g/kg/hari, Rekomendasi PGK derajat 3 1,2 – 1,7 g/kg/h (100% - 140% DRI), Rekomendasi PGK derajat 4-5 1,2-1,5 g/kg/h (100%-120% DRI), Rekomendasi untuk hemodialisis 1,9 g/kg/h, Rekomendasi untuk dialisis peritoneal 1,5 g/kg/hUmur 1 – 8 tahun, DRI 1,06 g/kg/hari, Rekomendasi PGK derajat 3 1,06 – 1,5 g/kg/h (100% - 140% DRI), Rekomendasi PGK derajat 4-5 1,06-1,25 g/kg/h (100%-120% DRI), Rekomendasi untuk hemodialisis 1,15 g/kg/h, Rekomendasi untuk dialisis peritoneal 1,9 g/kg/hUmur 4 – 13 tahun, DRI 0,95 g/kg/hari, Rekomendasi PGK derajat 3 0,95 – 1,95 g/kg/h (100% - 140% DRI), Rekomendasi PGK derajat 4-5 0,95-1,15 g/kg/h (100%-120% DRI), Rekomendasi untuk hemodialisis 1,06 g/kg/h, Rekomendasi untuk dialisis peritoneal 1,1 g/kg/hUmur 14 – 18 tahun, DRI 0,85 g/kg/hari, Rekomendasi PGK derajat 3 0,85 – 1,2 g/kg/h (100% - 140% DRI), Rekomendasi PGK derajat 4-5 0,95-1,06 g/kg/h (100%-120% DRI), Rekomendasi untuk hemodialisis 0,95 g/kg/h, Rekomendasi untuk dialisis peritoneal 1,0 g/kg/h',\n",
       " 'Rekomendasi asupan kalsium untuk anak dengan PGK derajat 2-5 dan 5D.0-6 bulan: DRI 210 mg/dL, Batas atas untuk PGK derajat 2-5 & 5D (diet + pengikat fosfat) ≤ 4207-12 bulan: DRI 270 mg/dL, Batas atas untuk PGK derajat 2-5 & 5D (diet + pengikat fosfat) ≤ 5401-3 tahun: DRI 500 mg/dL, batas atas untuk anak sehat 2500, Batas atas untuk PGK derajat 2-5 & 5D (diet + pengikat fosfat) ≤ 10004-9 tahun: DRI 800 mg/dL, batas atas untuk anak sehat 2500, Batas atas untuk PGK derajat 2-5 & 5D (diet + pengikat fosfat) ≤ 16009-18 tahun: DRI 1800 mg/dL, batas atas untuk anak sehat 2500, Batas atas untuk PGK derajat 2-5 & 5D (diet + pengikat fosfat) ≤ 2500',\n",
       " ' Rekomendasi maksimum asupan fosfor secara oral atau enteral untuk anak dengan PGK.0-6 bulan: DRI 100 mg/dL, Tinggi PTH dan normal fosfor ≤ 100, Tinggi PTH dan tinggi fosfor ≤ 807-12 bulan: DRI 275 mg/dL, Tinggi PTH dan normal fosfor ≤ 275, Tinggi PTH dan tinggi fosfor ≤ 2201-3 tahun: DRI 460 mg/dL, Tinggi PTH dan normal fosfor ≤ 460, Tinggi PTH dan tinggi fosfor ≤ 3704-9 tahun: DRI 500 mg/dL, Tinggi PTH dan normal fosfor ≤ 500, Tinggi PTH dan tinggi fosfor ≤ 4009-18 tahun: DRI 1250 mg/dL, Tinggi PTH dan normal fosfor ≤ 1250, Tinggi PTH dan tinggi fosfor ≤ 1000',\n",
       " ' Target rerata PTH serum berdasarkan derajat PGK.Derajat PGK 3, Rerata LFG 30 – 59 mL/mnt/1,73m2, Target serum PTH 35 – 70 pg/mLDerajat PGK 4, Rerata LFG 15 – 29 mL/mnt/1,73m2, Target serum PTH 70 – 110 pg/mLDerajat PGK 5 dan 5D, Rerata LFG < 15 mL/mnt/1,73m2, Target serum PTH 200 – 300 pg/mL']"
      ]
     },
     "execution_count": 14,
     "metadata": {},
     "output_type": "execute_result"
    }
   ],
   "source": [
    "table_list"
   ]
  },
  {
   "cell_type": "code",
   "execution_count": 16,
   "metadata": {},
   "outputs": [],
   "source": [
    "from langchain_core.documents import Document\n",
    "\n",
    "document_chunks = []\n",
    "for table in table_list:\n",
    "    temp = Document(\n",
    "            page_content=table,\n",
    "            metadata={'filename':'nutrisi_pada_anak_dengan_penyakit_ginjal.pdf'}\n",
    "        )\n",
    "    document_chunks.append(temp)"
   ]
  },
  {
   "cell_type": "code",
   "execution_count": 21,
   "metadata": {},
   "outputs": [
    {
     "data": {
      "text/plain": [
       "['0672aa08-084f-11ef-ad4c-b6b024e70617',\n",
       " '0672aa09-084f-11ef-9189-b6b024e70617',\n",
       " '0672aa0a-084f-11ef-b700-b6b024e70617',\n",
       " '0672aa0b-084f-11ef-9b66-b6b024e70617',\n",
       " '0672aa0c-084f-11ef-bac4-b6b024e70617',\n",
       " '0672aa0d-084f-11ef-868f-b6b024e70617',\n",
       " '0672aa0e-084f-11ef-a2bb-b6b024e70617',\n",
       " '0672aa0f-084f-11ef-9db0-b6b024e70617']"
      ]
     },
     "execution_count": 21,
     "metadata": {},
     "output_type": "execute_result"
    }
   ],
   "source": [
    "db = Chroma(persist_directory=CHROMA_PATH, embedding_function=embedding)\n",
    "db.add_documents(document_chunks)"
   ]
  },
  {
   "cell_type": "markdown",
   "metadata": {},
   "source": [
    "# Tatalaksana Hemodialisis pada Anak dan Bayi"
   ]
  },
  {
   "cell_type": "markdown",
   "metadata": {},
   "source": [
    "### Unstructured"
   ]
  },
  {
   "cell_type": "code",
   "execution_count": 37,
   "metadata": {},
   "outputs": [],
   "source": [
    "elements = partition_text(filename=\"final_clean/Tatalaksana_Hemodialisis_pada_Anak_dan_Bayi_clean_test.txt\")"
   ]
  },
  {
   "cell_type": "code",
   "execution_count": null,
   "metadata": {},
   "outputs": [],
   "source": [
    "chunks = chunk_elements(elements, \n",
    "                        max_characters=1500, \n",
    "                        new_after_n_chars=1000, \n",
    "                        overlap=300, \n",
    "                        overlap_all=True)"
   ]
  },
  {
   "cell_type": "code",
   "execution_count": null,
   "metadata": {},
   "outputs": [],
   "source": [
    "document_chunks = []\n",
    "for chunk in chunks:\n",
    "    temp_metadata = chunk.metadata.to_dict()\n",
    "    temp_metadata[\"languages\"] = 'ind'\n",
    "    temp = Document(\n",
    "            page_content=chunk.text,\n",
    "            metadata=temp_metadata,\n",
    "        )\n",
    "    document_chunks.append(temp)"
   ]
  },
  {
   "cell_type": "code",
   "execution_count": null,
   "metadata": {},
   "outputs": [],
   "source": [
    "db.add_documents(document_chunks)"
   ]
  },
  {
   "cell_type": "markdown",
   "metadata": {},
   "source": [
    "### langchain"
   ]
  },
  {
   "cell_type": "code",
   "execution_count": 8,
   "metadata": {},
   "outputs": [],
   "source": [
    "loader = TextLoader(\"final_clean/Tatalaksana_Hemodialisis_pada_Anak_dan_Bayi_clean_test.txt\", encoding='utf-8')\n",
    "documents = loader.load()"
   ]
  },
  {
   "cell_type": "code",
   "execution_count": 9,
   "metadata": {},
   "outputs": [
    {
     "name": "stdout",
     "output_type": "stream",
     "text": [
      "Starting chunking\n",
      "Split 1 documents into 28 chunks.\n",
      "len docs 28\n",
      "page content \n",
      " dewasa dan pediatrik. Misalnya, pada pediatrik, aliran darah dan hemodialyzer dipilih atas dasar bahwa anak-anak dapat mentolerir 8% (maksimum 10%) total volume darah mereka di sirkuit ekstrakorporeal berdasarkan perkiraan volume darah total 80 mL/ kg untuk bayi dan 70 mL/ kg untuk anak yang lebih tua. Jika sirkuit hemodialisis terkecil yang tersedia melebihi volume kritis ini, dapat ditutupi dengan larutan albumin manusia 4,5% atau darah donor untuk mencegah gejala hipovolemia.12,14 Karena aliran darah bayi dan anak memiliki kaliber lebih kecil, kecepatan pompa darah cenderung lebih cepat, dengan sasaran 8–10 mL/kg/menit, dibandingkan 3-5 mL/kg/menit untuk hemodialisis dewasa. Penggulung kepala pompa darah (blood pump head rollers) harus disesuaikan dengan ukuran aliran dialisis, hemolisis mekanik dapat terjadi jika aliran darah dewasa digunakan dalam mesin dialisis yang disiapkan untuk saluran pediatrik.12 Untuk menghindari hipovolemia dan hipotensi, pedoman dari Inggris\n",
      "doc metadata \n",
      " {'source': 'final_clean/Tatalaksana_Hemodialisis_pada_Anak_dan_Bayi_clean_test.txt', 'start_index': 9959}\n"
     ]
    },
    {
     "data": {
      "text/plain": [
       "['ed96aad5-0525-11ef-90e0-b6b024e70617',\n",
       " 'ed96aad6-0525-11ef-abd2-b6b024e70617',\n",
       " 'ed96aad7-0525-11ef-acdb-b6b024e70617',\n",
       " 'ed96aad8-0525-11ef-837a-b6b024e70617',\n",
       " 'ed96aad9-0525-11ef-b452-b6b024e70617',\n",
       " 'ed96aada-0525-11ef-9e79-b6b024e70617',\n",
       " 'ed96aadb-0525-11ef-ac62-b6b024e70617',\n",
       " 'ed96aadc-0525-11ef-83eb-b6b024e70617',\n",
       " 'ed96aadd-0525-11ef-8bdf-b6b024e70617',\n",
       " 'ed96aade-0525-11ef-997e-b6b024e70617',\n",
       " 'ed96aadf-0525-11ef-a0cb-b6b024e70617',\n",
       " 'ed96aae0-0525-11ef-9a1b-b6b024e70617',\n",
       " 'ed96aae1-0525-11ef-a3b2-b6b024e70617',\n",
       " 'ed96aae2-0525-11ef-900a-b6b024e70617',\n",
       " 'ed96d1e8-0525-11ef-a656-b6b024e70617',\n",
       " 'ed96d1e9-0525-11ef-b720-b6b024e70617',\n",
       " 'ed96d1ea-0525-11ef-a4e5-b6b024e70617',\n",
       " 'ed96d1eb-0525-11ef-8d86-b6b024e70617',\n",
       " 'ed96d1ec-0525-11ef-aeb1-b6b024e70617',\n",
       " 'ed96d1ed-0525-11ef-a026-b6b024e70617',\n",
       " 'ed96d1ee-0525-11ef-8594-b6b024e70617',\n",
       " 'ed96d1ef-0525-11ef-9f3e-b6b024e70617',\n",
       " 'ed96d1f0-0525-11ef-914a-b6b024e70617',\n",
       " 'ed96d1f1-0525-11ef-a6f4-b6b024e70617',\n",
       " 'ed96d1f2-0525-11ef-8c3d-b6b024e70617',\n",
       " 'ed96d1f3-0525-11ef-9db0-b6b024e70617',\n",
       " 'ed96d1f4-0525-11ef-8399-b6b024e70617',\n",
       " 'ed96d1f5-0525-11ef-a476-b6b024e70617']"
      ]
     },
     "execution_count": 9,
     "metadata": {},
     "output_type": "execute_result"
    }
   ],
   "source": [
    "chunks = split_text(documents)\n",
    "db.add_documents(chunks)"
   ]
  },
  {
   "cell_type": "markdown",
   "metadata": {},
   "source": [
    "# Tatalaksana Penyakit Ginjal Kronik pada Anak"
   ]
  },
  {
   "cell_type": "markdown",
   "metadata": {},
   "source": [
    "### unstructured"
   ]
  },
  {
   "cell_type": "code",
   "execution_count": 41,
   "metadata": {},
   "outputs": [],
   "source": [
    "elements = partition_text(filename=\"final_clean/Tatalaksana_Penyakit_Ginjal_Kronik_pada_Anak_clean_split_final.txt\")"
   ]
  },
  {
   "cell_type": "code",
   "execution_count": null,
   "metadata": {},
   "outputs": [],
   "source": [
    "chunks = chunk_elements(elements, \n",
    "                        max_characters=1500, \n",
    "                        new_after_n_chars=1000, \n",
    "                        overlap=300, \n",
    "                        overlap_all=True)"
   ]
  },
  {
   "cell_type": "code",
   "execution_count": null,
   "metadata": {},
   "outputs": [],
   "source": [
    "document_chunks = []\n",
    "for chunk in chunks:\n",
    "    temp_metadata = chunk.metadata.to_dict()\n",
    "    temp_metadata[\"languages\"] = 'ind'\n",
    "    temp = Document(\n",
    "            page_content=chunk.text,\n",
    "            metadata=temp_metadata,\n",
    "        )\n",
    "    document_chunks.append(temp)"
   ]
  },
  {
   "cell_type": "code",
   "execution_count": null,
   "metadata": {},
   "outputs": [],
   "source": [
    "db.add_documents(document_chunks)"
   ]
  },
  {
   "cell_type": "markdown",
   "metadata": {},
   "source": [
    "### langchain"
   ]
  },
  {
   "cell_type": "code",
   "execution_count": 10,
   "metadata": {},
   "outputs": [],
   "source": [
    "loader = TextLoader(\"final_clean/Tatalaksana_Penyakit_Ginjal_Kronik_pada_Anak_clean_split_final.txt\", encoding='utf-8')\n",
    "documents = loader.load()"
   ]
  },
  {
   "cell_type": "code",
   "execution_count": 11,
   "metadata": {},
   "outputs": [
    {
     "name": "stdout",
     "output_type": "stream",
     "text": [
      "Starting chunking\n",
      "Split 1 documents into 12 chunks.\n",
      "len docs 12\n",
      "page content \n",
      " Penyakit ginjal kronis stadium 5 merupakan indikasi untuk transplantasi. Meskipun demikian, tidak semua \n",
      "pasien dengan penyakit ginjal kronis stadium 5 dapat \n",
      "menjadi kandidat untuk transplantasi ginjal. Prosedur ini \n",
      "dapat terlalu berisiko bagi sebagian karena komorbiditas\n",
      "yang telah diderita pasien atau karena kontraindikasi \n",
      "tertentu, seperti infeksi kronis yang akan dieksaserbasi oleh imunosupresi. Kontraindikasi absolut bagi transplantasi ginjal adalah keganasan aktif, terutama jika telah bermetastasis. Infeksi HIV dan potensi rekurensi penyakit ginjal juga perlu dipertimbangkan \n",
      "dalam rencana transplantasi.\n",
      "Prognosis pasien dengan penyakit ginjal kronis adalah \n",
      "bervariasi menurut stadium dan penatalaksanaan yang dilakukan. Dengandeteksi dan penatalaksanaan dini,morbiditas dan mortalitas diharapkan dapat diturunkan.\n",
      "3.Kesimpulan\n",
      "Penyakit ginjal kronis pada anak dapat disebabkan penyakit \n",
      "kongenital, didapat, genetik, atau metabolik. Tujuan penatalaksanaan penyakit ginjal kronik adalah untuk menganani penyebab gangguan ginjal, primer\n",
      "menghilangkan atau kondisi-kondisi meminimalisir \n",
      "komorbid, mencegah atau memperlambat penurunan fungsi ginjal, menangani gangguan metabolik yang terkait,mencegah dan menangani penyakit kardiovaskular, dan \n",
      "mengoptimalkan pertumbuhan dan perkembangan.\n",
      "doc metadata \n",
      " {'source': 'final_clean/Tatalaksana_Penyakit_Ginjal_Kronik_pada_Anak_clean_split_final.txt', 'start_index': 11740}\n"
     ]
    },
    {
     "data": {
      "text/plain": [
       "['3be104ae-0526-11ef-b7ab-b6b024e70617',\n",
       " '3be104af-0526-11ef-b8b7-b6b024e70617',\n",
       " '3be104b0-0526-11ef-a1a2-b6b024e70617',\n",
       " '3be104b1-0526-11ef-84a6-b6b024e70617',\n",
       " '3be104b2-0526-11ef-b991-b6b024e70617',\n",
       " '3be104b3-0526-11ef-98c0-b6b024e70617',\n",
       " '3be104b4-0526-11ef-b8af-b6b024e70617',\n",
       " '3be104b5-0526-11ef-9178-b6b024e70617',\n",
       " '3be104b6-0526-11ef-a6e7-b6b024e70617',\n",
       " '3be104b7-0526-11ef-a582-b6b024e70617',\n",
       " '3be104b8-0526-11ef-b79e-b6b024e70617',\n",
       " '3be104b9-0526-11ef-994e-b6b024e70617']"
      ]
     },
     "execution_count": 11,
     "metadata": {},
     "output_type": "execute_result"
    }
   ],
   "source": [
    "chunks = split_text(documents)\n",
    "db.add_documents(chunks)"
   ]
  },
  {
   "cell_type": "markdown",
   "metadata": {},
   "source": [
    "### tabel"
   ]
  },
  {
   "cell_type": "code",
   "execution_count": 4,
   "metadata": {},
   "outputs": [],
   "source": [
    "from unstructured.partition.docx import partition_docx\n",
    "\n",
    "tata_laksana_tabel_elements = partition_docx(filename=\"docx/tatalaksana anak tabel.docx\")"
   ]
  },
  {
   "cell_type": "code",
   "execution_count": 24,
   "metadata": {},
   "outputs": [
    {
     "data": {
      "text/plain": [
       "''"
      ]
     },
     "execution_count": 24,
     "metadata": {},
     "output_type": "execute_result"
    }
   ],
   "source": [
    "import re\n",
    "\n",
    "tata_anak_tabel_text = \"\"\n",
    "for elem in tata_laksana_tabel_elements:\n",
    "    tata_anak_tabel_text += elem.text\n",
    "# print(tata_anak_tabel_text)\n",
    "table_list = re.split(r\"Tabel \\d\", tata_anak_tabel_text)\n",
    "table_list.pop(0)"
   ]
  },
  {
   "cell_type": "code",
   "execution_count": 25,
   "metadata": {},
   "outputs": [
    {
     "data": {
      "text/plain": [
       "['. Stadium Penyakit ginjal kronik berdasarkan laju filtrasi glomerulusStadium 1 Kerusakan ginjal dengan LFG normal/meningkat (<90 ml/menit/1,73 m2), Pengobatan primer dan kondisi komorbiditas.Stadium 2 Kerusakan ginjal dengan sedikit penurunan LFG (60-89 ml/menit/1,73 m2), Menekan laju kejadian PGKStadium 3 Kerusakan ginjal dengan penurunan sedang LFG (30-59 ml/menit/1,73 m2), Evaluasi dan pengobatan komplikasiStadium 4 Kerusakan ginjal dengan penurunan besar LFG (15-29 ml/menit/1,73 m2), Persiapan transplantasi ginjalStadium 5 Gagal ginjal, LFG < 15 ml/menit/1,73 m2, Terapi pengganti ginjal',\n",
       " '. Dosis Obat Hipertensi Pada AnakDiuretikaHidroklorotiazid, dosis oral awal per hari 1mg/kg, dosis oral maksimal per hari 4 mg/kg, interval dosis Tiap 12 jamKlortalidon, dosis oral awal per hari 1 mg/kg, dosis oral maksimal per hari 2 mg/kg, interval dosis Sekali sehariSpironolakton, dosis oral awal per hari 1 mg/kg, dosis oral maksimal per hari 3  mg/kg, interval dosis Tiap 12 jamFurosemid, dosis oral awal per hari 2 mg/kg, dosis oral maksimal per hari 6 mg/kg, interval dosis tiap 6 – 8 jamPenghambat adrenergikPenghambat betaPropanolol, dosis oral awal per hari 0,5 mg/kg, dosis oral maksimal per hari 10mg/kg, interval dosis tiap 8 jamPenghambat alfaPrazosin, dosis oral awal per hari 0,05 mg/kg, dosis oral maksimal 0,4 mg/kg, interval dosis Tiap 8 jamPenghambat alfa-betaLabetalol, dosis oral awal per hari 1-3 mg/kg, dosis oral maksimal 3 mg/kg, Interval dosis Tiap 12 jamAntiadrenergik sentralKlonidin, Dosis oral awal 0,002 mg/kg, Dosis oral maksimal 0,06 mg, Interval dosis Tiap 8 jamMetildopa, Dosis oral awal 5 mg/kg, Dosis oral maksimal 40 mg/kg, Interval dosis Tiap 6-8 jamSimpatolitik Reserpin, Dosis oral awal 0,02-0,07 mg/kg, Dosis oral maksimal 2,5 mg, Interval dosis Sekali sehariVasolidator langsungHidralazin, Dosis oral awal 1-2 mg/kg, Dosis oral maksimal 8 mg/kg, Interval dosis Tiap 8-12 jamMinoksidil, Dosis oral awal 0,1-0,2 mg/kg, Dosis oral maksimal 1-2 mg/kg, interval dosis Tiap 12 jamPenyekat kanal kalsiumNifedipine, Dosis oral awal 0,25 mg/kg, Dosis oral maksimal 1 mg/kg, Interval dosis Tiap 6-8 jamDiltiazem, Dosis oral awal 2 mg/kg, Dosis oral maksimal 3,5 mg/kg, Interval dosis Tiap 12 jamACE inhibitorCaptopril, Dosis oral awal 0,5 mg/kg, Dosis oral maksimal 5 mg/kg, Interval dosis Tiap 8 jamEnalapril, Dosis oral awal 0,08-0,1 mg/kg, Dosis oral maksimal 1 mg/kg, Interval dosis Tiap 24 jam',\n",
       " 'Rumus holliday segarAir, 100 ml/kg BB untuk 10 kg pertama, 50 ml/kg BB untuk 10 kg kedua, dan 20 ml/kg untuk tiap kg berikutnya.Natrium 3 mmol/kg BB/hari.Kalium 2 mmol/kg BB/hari.',\n",
       " 'Penanganan gangguan elektrolitHiponatremia (konsentrasi natrium plasma < 135 mmol/L), terapi hiponatremia berat simptomatik 3% NaCl, 4-5 ml/kg dalam 15-30 menit; atau hitung defisit natrium dan berikan dalam 4 jam Hiponatremia asimptomatik Jumlah Na yang sama menurut perhitungan di atas, dalam 24 jam.Hipovolemia dengan hiponatremia, terapi pemulihan cairan ekstraselular dengan natrium dan air.Hipervolemia dengan hiponatremi, terapi restriksi air dan garam ACE inhibitor, diuretik loop pada gagal jantung kongestif Diuretik dan albumin pada sindrom nefrotik Diuretik loop dengan spironolakton pada sirosis hati.hipernatremia (konsentrasi natrium plasma > 150 mmol/L), terapi volume air yang dibutuhkan: {[Na+ plasma terukur x air tubuh total] – air tubuh total} / [Na+ plasma yang diinginkan]Hipovolemia dengan hipernatremia, terapi ditangani seperti dehidrasi.hipernatremia euvolemik, terapi berikan cairan sesuai rumus di atas.Hipernatremia hipervolemik, terapi Diuresis dengan furosemide, gantikan kehilangan cairan denganlarutan dextrosa Dialisis.Hipokalemia (kadar kalium serum < 3,5 mmol/L, terapi jika pasien dapat makan per oral, KCl sirup dapat diberikan pada dosis 0,5-1 mmol/kg BB/dosis dapat diulang tiap 4-6 jam Bagi pasien yang tidak dapat dikoreksi per oral, 40 mmol KCl dimasukkan dalam tiap liter cairan infus.',\n",
       " 'Rekomendasi Nutrisi Bagi Anak Dengan Penyakit Ginjal Stadium AkhirEnergi:Bayi (0-1 tahun) membutuhkan antara 108 hingga kkal/kg berat badan (BB) per hari untuk usia 0-0,5 tahun, dan lebih dari kkal/kg BB per hari untuk usia 0,5-1 tahun.Batita (1-3 tahun) membutuhkan sekitar 102 kkal/kg BB per hari.Anak (3-10 tahun) membutuhkan sekitar 90 kkal/kg BB per hari untuk usia 4-6 tahun, dan 70 kkal/kg BB per hari untuk usia 7-10 tahun.Remaja (11-18 tahun) membutuhkan sekitar 47 kkal/kg BB per hari untuk perempuan usia 11-14 tahun, 40 kkal/kg BB per hari untuk perempuan usia 15-18 tahun, 55 kkal/kg BB per hari untuk laki-laki usia 11-14 tahun, dan 45 kkal/kg BB per hari untuk laki-laki usia 15-18 tahun.Protein:Bayi (0-1 tahun) membutuhkan sekitar 2,2 g/kg BB per hari untuk usia 0-0,5 tahun, dan 1,6 g/kg BB per hari untuk usia 0,5-1 tahun.Batita (1-3 tahun) membutuhkan sekitar 1,2 g/kg BB per hari.Anak (3-10 tahun) membutuhkan sekitar 1,2 g/kg BB per hari untuk usia 4-6 tahun, dan 1,0 g/kg BB per hari untuk usia 7-10 tahun.Remaja (11-18 tahun) membutuhkan sekitar 1,0 g/kg BB per hari untuk usia 11-14 tahun, dan 0,9 g/kg BB per hari untuk usia 15-18 tahun.Natrium:Untuk semua kelompok usia, natrium umumnya tidak perlu dibatasi, tetapi bisa mencapai 1-3 mEq/kg BB per hari jika terjadi edema atau hipertensi.Kalium:Kalium biasanya tidak perlu dibatasi hingga kadar fungsi ginjal (LFG) kurang dari 10% dari normal, dengan jumlah sekitar 1-3 mEq/kg BB jika diperlukan.Kalsium:Bayi (0-1 tahun) membutuhkan sekitar 400 mg/hari untuk usia 0-0,5 tahun, dan 600 mg/hari untuk usia 0,5-1 tahun.Batita (1-3 tahun) membutuhkan sekitar 800 mg/hari.Anak (3-10 tahun) membutuhkan sekitar 800 mg/hari.Remaja (11-18 tahun) membutuhkan sekitar 1200 mg/hari. Ini berlaku jika tidak ada hiperkalsemia dan produk kalsium-fosfor tidak melebihi 70.Fosfor:Untuk semua kelompok usia, gunakan formula rendah fosfor jika kadar fosfat serum naik, dan hindari makanan yang tinggi fosfor. Biasanya diperlukan sekitar 600-800 mg/hari ketika kadar fosfat serum naik.Vitamin:Untuk semua kelompok usia, berikan multivitamin jika diperlukan. Berikan metabolit vitamin D jika diperlukan, berdasarkan kadar kalsium, PTH, dan alkalin fosfatase.Mineral Mikro:Untuk semua kelompok usia, berikan suplemen zink, besi, atau tembaga jika diperlukan.']"
      ]
     },
     "execution_count": 25,
     "metadata": {},
     "output_type": "execute_result"
    }
   ],
   "source": [
    "table_list"
   ]
  },
  {
   "cell_type": "code",
   "execution_count": 26,
   "metadata": {},
   "outputs": [],
   "source": [
    "document_chunks = []\n",
    "for table in table_list:\n",
    "    temp = Document(\n",
    "            page_content=table,\n",
    "            metadata={'filename':'Tatalaksana_Penyakit_Ginjal_Kronik_pada_Anak.pdf'}\n",
    "        )\n",
    "    document_chunks.append(temp)"
   ]
  },
  {
   "cell_type": "code",
   "execution_count": 27,
   "metadata": {},
   "outputs": [
    {
     "data": {
      "text/plain": [
       "['4d04dade-084f-11ef-b9de-b6b024e70617',\n",
       " '4d04dadf-084f-11ef-8479-b6b024e70617',\n",
       " '4d04dae0-084f-11ef-850c-b6b024e70617',\n",
       " '4d04dae1-084f-11ef-9fbb-b6b024e70617',\n",
       " '4d04dae2-084f-11ef-9458-b6b024e70617']"
      ]
     },
     "execution_count": 27,
     "metadata": {},
     "output_type": "execute_result"
    }
   ],
   "source": [
    "db.add_documents(document_chunks)"
   ]
  }
 ],
 "metadata": {
  "kernelspec": {
   "display_name": "Python 3",
   "language": "python",
   "name": "python3"
  },
  "language_info": {
   "codemirror_mode": {
    "name": "ipython",
    "version": 3
   },
   "file_extension": ".py",
   "mimetype": "text/x-python",
   "name": "python",
   "nbconvert_exporter": "python",
   "pygments_lexer": "ipython3",
   "version": "3.9.13"
  }
 },
 "nbformat": 4,
 "nbformat_minor": 2
}
