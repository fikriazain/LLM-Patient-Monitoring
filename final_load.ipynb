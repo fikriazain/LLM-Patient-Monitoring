{
 "cells": [
  {
   "cell_type": "code",
   "execution_count": 5,
   "metadata": {},
   "outputs": [],
   "source": [
    "from langchain.vectorstores.chroma import Chroma\n",
    "from langchain_community.embeddings import HuggingFaceEmbeddings, HuggingFaceBgeEmbeddings\n",
    "from langchain_core.documents import Document\n",
    "from unstructured.partition.text import partition_text\n",
    "from unstructured.chunking.basic import chunk_elements\n",
    "from unstructured.partition.docx import partition_docx\n",
    "\n",
    "import time, os, shutil\n",
    "# CHROMA_PATH = \"final_test/unstructured-multi\"\n",
    "CHROMA_PATH = \"final_test/unstructured-bge\"\n"
   ]
  },
  {
   "cell_type": "code",
   "execution_count": 84,
   "metadata": {},
   "outputs": [
    {
     "name": "stdout",
     "output_type": "stream",
     "text": [
      "model load time 100.0 second\n"
     ]
    }
   ],
   "source": [
    "def load_embedding_model(model_path : str):\n",
    "    start_time = time.time()\n",
    "    encode_kwargs = {\"normalize_embeddings\": True}\n",
    "    local_embedding = HuggingFaceEmbeddings(\n",
    "        model_name=model_path,\n",
    "        cache_folder=\"./models\",\n",
    "        encode_kwargs=encode_kwargs\n",
    "    )\n",
    "    end_time = time.time()\n",
    "    print(f'model load time {round(end_time - start_time, 0)} second')\n",
    "    return local_embedding\n",
    "\n",
    "embedding = load_embedding_model(model_path=\"intfloat/multilingual-e5-large\")"
   ]
  },
  {
   "cell_type": "code",
   "execution_count": 11,
   "metadata": {},
   "outputs": [
    {
     "name": "stdout",
     "output_type": "stream",
     "text": [
      "model load time 93.0 second\n"
     ]
    }
   ],
   "source": [
    "def load_embedding_model(model_path : str):\n",
    "    start_time = time.time()\n",
    "    encode_kwargs = {\"normalize_embeddings\": True}\n",
    "    local_embedding = HuggingFaceBgeEmbeddings(\n",
    "        model_name=model_path,\n",
    "        cache_folder=\"./models\",\n",
    "        encode_kwargs=encode_kwargs\n",
    "    )\n",
    "    end_time = time.time()\n",
    "    print(f'model load time {round(end_time - start_time, 0)} second')\n",
    "    return local_embedding\n",
    "\n",
    "embedding = load_embedding_model(model_path=\"BAAI/bge-m3\")"
   ]
  },
  {
   "cell_type": "code",
   "execution_count": 6,
   "metadata": {},
   "outputs": [],
   "source": [
    "def save_to_chroma(chunks: list[Document]):\n",
    "    print(\"Starting Embedding\")\n",
    "    # Clear out the database first.\n",
    "    if os.path.exists(CHROMA_PATH):\n",
    "        shutil.rmtree(CHROMA_PATH)\n",
    "\n",
    "    # Create a new DB from the documents.\n",
    "    start_time = time.time()\n",
    "    db = Chroma.from_documents(\n",
    "        chunks, \n",
    "        embedding, \n",
    "        persist_directory=CHROMA_PATH,\n",
    "        collection_metadata={\"hnsw:space\": \"cosine\"}\n",
    "    )\n",
    "    db.persist()\n",
    "    end_time = time.time()\n",
    "    print(f'embedding time {round(end_time - start_time, 0)} second')\n",
    "    print(f\"Saved {len(chunks)} chunks to {CHROMA_PATH}.\")"
   ]
  },
  {
   "cell_type": "markdown",
   "metadata": {},
   "source": [
    "# unstructured"
   ]
  },
  {
   "cell_type": "markdown",
   "metadata": {},
   "source": [
    "## PNPK 2023"
   ]
  },
  {
   "cell_type": "code",
   "execution_count": 12,
   "metadata": {},
   "outputs": [],
   "source": [
    "elements = partition_text(filename=\"final/PNPK 2023 GGK_clean.txt\")"
   ]
  },
  {
   "cell_type": "code",
   "execution_count": 13,
   "metadata": {},
   "outputs": [],
   "source": [
    "chunks = chunk_elements(elements, \n",
    "                        max_characters=1800, \n",
    "                        new_after_n_chars=1500, \n",
    "                        overlap=300, \n",
    "                        overlap_all=True)"
   ]
  },
  {
   "cell_type": "code",
   "execution_count": 14,
   "metadata": {},
   "outputs": [],
   "source": [
    "document_chunks = []\n",
    "for chunk in chunks:\n",
    "    temp_metadata = chunk.metadata.to_dict()\n",
    "    temp_metadata[\"languages\"] = 'ind'\n",
    "    temp = Document(\n",
    "            page_content=chunk.text,\n",
    "            metadata=temp_metadata,\n",
    "        )\n",
    "    document_chunks.append(temp)"
   ]
  },
  {
   "cell_type": "code",
   "execution_count": 15,
   "metadata": {},
   "outputs": [
    {
     "name": "stderr",
     "output_type": "stream",
     "text": [
      "d:\\Python\\lib\\site-packages\\langchain_core\\_api\\deprecation.py:119: LangChainDeprecationWarning: Since Chroma 0.4.x the manual persistence method is no longer supported as docs are automatically persisted.\n",
      "  warn_deprecated(\n"
     ]
    }
   ],
   "source": [
    "# unstructured\n",
    "db = Chroma.from_documents(\n",
    "        document_chunks, \n",
    "        embedding, \n",
    "        persist_directory=CHROMA_PATH, \n",
    "        collection_metadata={\"hnsw:space\": \"cosine\"}\n",
    "    )\n",
    "db.persist()"
   ]
  },
  {
   "cell_type": "markdown",
   "metadata": {},
   "source": [
    "### Tabel PNPK"
   ]
  },
  {
   "cell_type": "code",
   "execution_count": 16,
   "metadata": {},
   "outputs": [],
   "source": [
    "elements = partition_docx(filename=\"docx/PNPK tabel.docx\")"
   ]
  },
  {
   "cell_type": "code",
   "execution_count": 17,
   "metadata": {},
   "outputs": [
    {
     "data": {
      "text/plain": [
       "''"
      ]
     },
     "execution_count": 17,
     "metadata": {},
     "output_type": "execute_result"
    }
   ],
   "source": [
    "import re\n",
    "\n",
    "text = \"\"\n",
    "for elem in elements:\n",
    "    text += elem.text\n",
    "# print(text)\n",
    "table_list = re.split(r\"Tabel \\d+\", text)\n",
    "table_list.pop(0)"
   ]
  },
  {
   "cell_type": "code",
   "execution_count": 18,
   "metadata": {},
   "outputs": [],
   "source": [
    "document_chunks = []\n",
    "for table in table_list:\n",
    "    temp = Document(\n",
    "            page_content=table,\n",
    "            metadata={'filename':'PNPK 2023 GGK.pdf'}\n",
    "        )\n",
    "    document_chunks.append(temp)"
   ]
  },
  {
   "cell_type": "code",
   "execution_count": 19,
   "metadata": {},
   "outputs": [
    {
     "data": {
      "text/plain": [
       "['03c374b4-373d-4c02-86d1-34347ccead5c',\n",
       " '024998c6-ecdf-41a1-a1c5-a1ce1e1684ff',\n",
       " 'bc3803ce-346f-4f52-a81d-986bdf8c0b53',\n",
       " 'e73ca9ec-a97d-4358-bed0-29ef96e1c805',\n",
       " '319fb4f2-92fb-42df-a2c1-b8a3016a14c6',\n",
       " '2254300d-3f6e-4299-ab09-72b3f7ef8a3a',\n",
       " 'bd4619b9-704d-4560-99a7-f33bcec997ec',\n",
       " '7a9b7e12-95ff-4658-93f9-d46750a0f12f',\n",
       " '2deb9877-cd91-4b53-bcf1-75b07ea6e21c',\n",
       " '3ee31bee-4ed2-4a68-b1f9-55aa6e094aa1',\n",
       " '79594285-baad-4dde-a493-3b5d93a42517',\n",
       " 'f7a93cf2-1817-46b0-af0a-906e48920781',\n",
       " '6fedcf67-a3df-4956-bef0-f7a607eb1227',\n",
       " '8ec8f2a7-853b-4a6f-adf3-c58fa5e380e7',\n",
       " 'd2b582e0-70c3-4759-80ec-3ea6836c8d6e',\n",
       " '37f771f3-f2b7-4b4a-b205-3297344ee95c',\n",
       " '7acbb00e-65ae-422f-9b53-e7b96edfee94',\n",
       " '86c83822-4dca-426f-bd1e-49c6084b4cfb',\n",
       " 'edc52697-e259-4e0b-9c24-36a38614b7f8',\n",
       " 'd08dd1ff-e5e5-4a45-9fa9-caae7ab58ee3',\n",
       " '8b6f2893-e8be-4316-b27b-1e63c86268f2',\n",
       " '900992a8-2587-4954-8a85-d742d8eee95c',\n",
       " '8b364ed2-5ac8-4c8c-8ed3-e83d4d4d9985',\n",
       " '48d08502-7eda-4626-b769-98c3d18d9d62',\n",
       " '2c6c1745-2ad5-40be-b416-24dc11d9d68b',\n",
       " '68aa70a1-b58a-455a-88e5-76d9144b7f8e',\n",
       " 'ff033103-24db-4943-8b7c-1f3b749785d6',\n",
       " '11ba18cf-3d38-460f-9a44-96feb8d80e7a',\n",
       " '35641b65-18d2-40b8-a0b7-ef25d65737dc',\n",
       " '1fd3b3ce-c6c7-4071-9d3a-d4d6d4e9a919',\n",
       " '43f5f127-f1ca-4fb0-a7a6-f3ad49ae8e84',\n",
       " '85f74a41-76ed-4c83-87b6-55d274251113',\n",
       " '1b58ccab-f77e-4785-a378-e73ab7b0c956']"
      ]
     },
     "execution_count": 19,
     "metadata": {},
     "output_type": "execute_result"
    }
   ],
   "source": [
    "db.add_documents(document_chunks)"
   ]
  },
  {
   "cell_type": "markdown",
   "metadata": {},
   "source": [
    "## Nutrisi pada anak dengan penyakit ginjal"
   ]
  },
  {
   "cell_type": "code",
   "execution_count": 20,
   "metadata": {},
   "outputs": [],
   "source": [
    "elements = partition_text(filename=\"final/nutrisi_pada_anak_dengan_penyakit_ginjal - Copy_poster.txt\")"
   ]
  },
  {
   "cell_type": "code",
   "execution_count": 21,
   "metadata": {},
   "outputs": [],
   "source": [
    "chunks = chunk_elements(elements, \n",
    "                        max_characters=1500, \n",
    "                        new_after_n_chars=1000, \n",
    "                        overlap=300, \n",
    "                        overlap_all=True)"
   ]
  },
  {
   "cell_type": "code",
   "execution_count": 22,
   "metadata": {},
   "outputs": [],
   "source": [
    "document_chunks = []\n",
    "for chunk in chunks:\n",
    "    temp_metadata = chunk.metadata.to_dict()\n",
    "    temp_metadata[\"languages\"] = 'ind'\n",
    "    temp = Document(\n",
    "            page_content=chunk.text,\n",
    "            metadata=temp_metadata,\n",
    "        )\n",
    "    document_chunks.append(temp)"
   ]
  },
  {
   "cell_type": "code",
   "execution_count": 23,
   "metadata": {},
   "outputs": [
    {
     "data": {
      "text/plain": [
       "['30d5feb9-2176-4e1d-a867-9205952d90f1',\n",
       " 'b0266db9-a697-41d7-9ccf-adf2d6638447',\n",
       " '3eb0ce9f-db6e-48ba-861b-fc04d5a3e0f9',\n",
       " '1cb74adc-b960-45cf-ba3e-f0a5f085d7a7',\n",
       " 'a78b1f84-fee8-43dc-b5eb-3d8ed3b1097e',\n",
       " 'e83ba27a-bdef-4e6b-a506-4bb32c8c3f68',\n",
       " 'd40fe260-08d8-4fc4-b2a2-0e139a9d1260',\n",
       " 'c9e22e8b-908d-489b-80ae-268b53d38539',\n",
       " '7bc6f6e9-557f-4259-b133-63d1a94c6511',\n",
       " 'bb0f15ce-a13f-42cd-a7af-57a29df093b6',\n",
       " 'bf95bbef-a478-4d40-a140-7822f22d9e41',\n",
       " '00dc4534-8bee-414c-90d4-05575809adaa',\n",
       " '082e887c-acc0-4c3f-a2f4-6185a3517258',\n",
       " 'a62b4a8e-84cf-40e5-be73-6e4c3a7ca9ad',\n",
       " 'b9bcb337-3a56-46db-92bd-904b2c7d13ad',\n",
       " '949e2e6b-8b47-4f97-9d78-8e0d635a4577',\n",
       " '3968ea3a-c5b7-4ac0-9eb7-dc3ed09740e7',\n",
       " '87fa3962-9e01-4aed-9f8f-5eb2e742da0c',\n",
       " '297d7349-c9fd-451a-9757-48997227c4d0',\n",
       " 'dc57702b-862a-48f5-a8fb-c17e949d5e96',\n",
       " '84e97482-c627-4108-b532-f64ea7bb804e',\n",
       " '95259f92-40c2-489d-bdda-dc3d074a1cca',\n",
       " '43da9823-9055-46df-b357-85bc4b301be4',\n",
       " '0206a2f0-3e07-4f23-b326-dc377911f0e1',\n",
       " '4d94426c-cc37-4811-a8ac-afb982531b8a',\n",
       " '5f888d3f-711d-4925-9108-09e42ed2fce4',\n",
       " '4e7cc16d-8924-4ae0-b3b7-e8ec850f48f6',\n",
       " '0a0fd46a-1563-45a8-854b-d1fd07dd42a3',\n",
       " 'c041f260-4d6e-4b23-95c1-86f65ebd0df5',\n",
       " '9535c8d2-6da4-4c12-bb82-de4e366704dc',\n",
       " 'f75d3d94-7763-4c29-a342-0bf68e8065e1',\n",
       " 'f8380161-970d-4620-ac94-24f7eda989df',\n",
       " '28c79d4a-8b12-48d7-ab25-a9f7d50b87b6',\n",
       " 'e4721149-c308-41f9-99e9-c1667124a119']"
      ]
     },
     "execution_count": 23,
     "metadata": {},
     "output_type": "execute_result"
    }
   ],
   "source": [
    "# unstructured\n",
    "db.add_documents(document_chunks)"
   ]
  },
  {
   "cell_type": "markdown",
   "metadata": {},
   "source": [
    "### Tabel Nutrisi pada Anak dengan Penyakit Ginjal"
   ]
  },
  {
   "cell_type": "code",
   "execution_count": 24,
   "metadata": {},
   "outputs": [],
   "source": [
    "elements = partition_docx(filename=\"docx/nutrisi tabel.docx\")"
   ]
  },
  {
   "cell_type": "code",
   "execution_count": 25,
   "metadata": {},
   "outputs": [
    {
     "data": {
      "text/plain": [
       "''"
      ]
     },
     "execution_count": 25,
     "metadata": {},
     "output_type": "execute_result"
    }
   ],
   "source": [
    "import re\n",
    "\n",
    "text = \"\"\n",
    "for elem in elements:\n",
    "    text += elem.text\n",
    "# print(text)\n",
    "table_list = re.split(r\"Tabel \\d\", text)\n",
    "table_list.pop(0)"
   ]
  },
  {
   "cell_type": "code",
   "execution_count": 26,
   "metadata": {},
   "outputs": [],
   "source": [
    "from langchain_core.documents import Document\n",
    "\n",
    "document_chunks = []\n",
    "for table in table_list:\n",
    "    temp = Document(\n",
    "            page_content=table,\n",
    "            metadata={'filename':'nutrisi_pada_anak_dengan_penyakit_ginjal.pdf'}\n",
    "        )\n",
    "    document_chunks.append(temp)"
   ]
  },
  {
   "cell_type": "code",
   "execution_count": 27,
   "metadata": {},
   "outputs": [
    {
     "data": {
      "text/plain": [
       "['9945948f-4e09-487e-88cc-58277ce27c50',\n",
       " '00bb513e-7e5a-4e35-8592-72b04a7dcef6',\n",
       " '4db6e555-b701-406c-8a83-4f2ca9c35208',\n",
       " '9182bb3b-abbb-4322-8df4-8b5f09820cab',\n",
       " '5c4fc065-68d4-4247-afda-e271b18e22fa',\n",
       " '905039a2-e9da-4984-b1b9-8750118b9635',\n",
       " '23deacda-e745-45d5-91e8-bbe86fde62af',\n",
       " 'a07fbe7f-5da7-4d21-8b2e-3bc00220c86e']"
      ]
     },
     "execution_count": 27,
     "metadata": {},
     "output_type": "execute_result"
    }
   ],
   "source": [
    "db.add_documents(document_chunks)"
   ]
  },
  {
   "cell_type": "markdown",
   "metadata": {},
   "source": [
    "## Tatalaksana Hemodialisis pada Anak dan Bayi"
   ]
  },
  {
   "cell_type": "code",
   "execution_count": 28,
   "metadata": {},
   "outputs": [],
   "source": [
    "elements = partition_text(filename=\"final/Tatalaksana_Hemodialisis_pada_Anak_dan_Bayi_clean.txt\")"
   ]
  },
  {
   "cell_type": "code",
   "execution_count": 29,
   "metadata": {},
   "outputs": [],
   "source": [
    "chunks = chunk_elements(elements, \n",
    "                        max_characters=1500, \n",
    "                        new_after_n_chars=1000, \n",
    "                        overlap=300, \n",
    "                        overlap_all=True)"
   ]
  },
  {
   "cell_type": "code",
   "execution_count": 30,
   "metadata": {},
   "outputs": [],
   "source": [
    "document_chunks = []\n",
    "for chunk in chunks:\n",
    "    temp_metadata = chunk.metadata.to_dict()\n",
    "    temp_metadata[\"languages\"] = 'ind'\n",
    "    temp = Document(\n",
    "            page_content=chunk.text,\n",
    "            metadata=temp_metadata,\n",
    "        )\n",
    "    document_chunks.append(temp)"
   ]
  },
  {
   "cell_type": "code",
   "execution_count": 31,
   "metadata": {},
   "outputs": [
    {
     "data": {
      "text/plain": [
       "['36bf0944-fc04-4055-b4b7-8db547146b6c',\n",
       " '043cd7a2-3179-4952-9d7e-329734180034',\n",
       " 'bedf61cd-d2c2-4a6b-9f0c-f5a59e8c1742',\n",
       " '4b1919a0-da75-48c3-b244-9ef0e6ac4c11',\n",
       " 'fa6e26b9-711f-4f57-acbe-12398faa475b',\n",
       " '2065d4c9-9083-4994-b6b0-ed8ba9b493c1',\n",
       " '2c4b7c14-c253-4292-85a4-f7835831f124',\n",
       " 'df594951-cf1a-44d3-b6a0-11d3e6a15f0a',\n",
       " 'b2eed3e7-fcea-48bd-87a0-b3930b416cea',\n",
       " '226775b3-953e-43e5-b268-baf923e6bb36',\n",
       " '74fdb917-ebf5-4f94-8e1e-d9999bdc7dd2',\n",
       " 'b3ee7966-9735-4e9a-b053-6d21870e5e27',\n",
       " '654d04f2-c49d-445b-a707-1776fb07aa32',\n",
       " 'acd64141-0f28-4cf8-9dab-c4fc3a6e9c0d',\n",
       " '6e61896e-eea3-47d3-8cfe-1af36f0b3b63',\n",
       " 'a3ae4aab-b5a3-4132-a938-2c724f69d5ea',\n",
       " 'aa5dd0ae-321c-4a32-88ea-45c90e38c0dd',\n",
       " 'b9b161af-5792-4d28-9b88-54054ffbfd36',\n",
       " 'c4bf1ffc-d322-4804-a113-746a2d52b190',\n",
       " '763c33ba-7926-4db9-a044-ee2a9fd5da28',\n",
       " 'b55ac48f-66a3-4d9f-a1c5-c5cf71a1bffd',\n",
       " '4679bb86-7072-4cc1-9421-1961a4dbc040',\n",
       " '795f7440-06f2-437b-843a-92c146ad08d1',\n",
       " '69c68330-fd8b-40ab-9444-760edd3336cf',\n",
       " '395354fe-8ed4-4202-ae5b-a061f7113cae',\n",
       " '3816e63f-7d39-403a-8b3b-f81e53806267',\n",
       " '991387c1-cf44-42b0-965a-e9d27cbcaba8',\n",
       " '117eb014-65a1-4f7c-8446-99bbfb0c39eb',\n",
       " '6c8bba13-d73b-4c74-b9d2-93c39d77ed22',\n",
       " 'cd53d3b8-313b-4c4f-8618-e8aa865cff9e',\n",
       " '6f593e14-f095-4b77-b5a3-bb61ffbda911',\n",
       " 'fe137bba-b309-4964-9c1d-aa62695d261e',\n",
       " '6bcef4ef-bdc0-4d42-9047-400754b403a0',\n",
       " 'ebbcadfa-09d6-42e1-b418-e4b9303138b4',\n",
       " '9cfaf8fe-c1f5-4df3-bbb4-f8d410994b7b',\n",
       " '8780ab35-6447-4543-8c34-045a1e92f4bb',\n",
       " '639f109f-c04c-4637-ac46-b902e1e9320b',\n",
       " '7ef7ddce-2d15-4c8b-8bdc-4eeab6cf7bd9',\n",
       " '6cd82304-783f-4295-967c-5b02e53e03d0',\n",
       " '57bdbeb3-f6b7-4bc9-8493-370ceccdb325',\n",
       " 'a281c3c7-a884-4e23-aed8-e5f79abcc0d7',\n",
       " '30af7b46-c988-4949-bd6d-aa7e59f38fea',\n",
       " '49f2cbc0-1ace-48e8-a1a6-17cc05e8b01b',\n",
       " 'e50a698e-2974-4424-bf6b-54a967a432fd',\n",
       " '5f1c5e4c-79f5-4387-83da-fd500d1dbf5d']"
      ]
     },
     "execution_count": 31,
     "metadata": {},
     "output_type": "execute_result"
    }
   ],
   "source": [
    "db.add_documents(document_chunks)"
   ]
  },
  {
   "cell_type": "markdown",
   "metadata": {},
   "source": [
    "## Tatalaksana Penyakit Ginjal Kronik pada Anak"
   ]
  },
  {
   "cell_type": "code",
   "execution_count": 32,
   "metadata": {},
   "outputs": [],
   "source": [
    "elements = partition_text(filename=\"final/Tatalaksana_Penyakit_Ginjal_Kronik_pada_Anak_clean_split_final.txt\")"
   ]
  },
  {
   "cell_type": "code",
   "execution_count": 33,
   "metadata": {},
   "outputs": [],
   "source": [
    "chunks = chunk_elements(elements, \n",
    "                        max_characters=1500, \n",
    "                        new_after_n_chars=1000, \n",
    "                        overlap=300, \n",
    "                        overlap_all=True)"
   ]
  },
  {
   "cell_type": "code",
   "execution_count": 34,
   "metadata": {},
   "outputs": [],
   "source": [
    "document_chunks = []\n",
    "for chunk in chunks:\n",
    "    temp_metadata = chunk.metadata.to_dict()\n",
    "    temp_metadata[\"languages\"] = 'ind'\n",
    "    temp = Document(\n",
    "            page_content=chunk.text,\n",
    "            metadata=temp_metadata,\n",
    "        )\n",
    "    document_chunks.append(temp)"
   ]
  },
  {
   "cell_type": "code",
   "execution_count": 35,
   "metadata": {},
   "outputs": [
    {
     "data": {
      "text/plain": [
       "['9a230ba7-613e-4bf8-93d6-4e0164aa8bf3',\n",
       " '6adcd992-4ddf-4fd7-91ae-165679e9ab59',\n",
       " '9c82f641-9ce0-472e-aca6-3994e29f10b8',\n",
       " '6d1dd23f-5b6f-45a6-8554-10764edff0fc',\n",
       " '4dff2ce6-daa5-4276-8214-1bd44e64d95a',\n",
       " '9e8a6e3e-0453-4400-913a-2c287e2f0895',\n",
       " '057ff5d1-2a2b-4584-a731-89e4cfd6ac80',\n",
       " '807709ae-6438-47a8-aa7e-e92fe97a21d1',\n",
       " '5aaae9c0-a17b-404c-8ac8-c7a70dfba9d4',\n",
       " 'bf48aa31-2713-4487-9c34-a1e82646c456',\n",
       " 'd5df86ad-eb84-4693-9904-0d3f4d57ec4f',\n",
       " 'aab66174-8bb8-4939-8a4c-42cb7dfa1950',\n",
       " 'e849c64e-0736-456f-ad62-08f4f966d3ef',\n",
       " '9dc89847-3171-4a01-a6ad-99f9566610ef',\n",
       " 'cc3a2b7d-fcba-4162-9026-5610c86486da',\n",
       " 'c0e75629-5e21-4058-867b-f69fbee535b1',\n",
       " '35002af0-1164-48e4-86c2-7521a137bfc4']"
      ]
     },
     "execution_count": 35,
     "metadata": {},
     "output_type": "execute_result"
    }
   ],
   "source": [
    "db.add_documents(document_chunks)"
   ]
  },
  {
   "cell_type": "markdown",
   "metadata": {},
   "source": [
    "### Tabel Tatalaksana Penyakit Ginjal Kronik pada Anak"
   ]
  },
  {
   "cell_type": "code",
   "execution_count": 36,
   "metadata": {},
   "outputs": [],
   "source": [
    "tata_laksana_tabel_elements = partition_docx(filename=\"docx/tatalaksana anak tabel.docx\")"
   ]
  },
  {
   "cell_type": "code",
   "execution_count": 37,
   "metadata": {},
   "outputs": [
    {
     "data": {
      "text/plain": [
       "''"
      ]
     },
     "execution_count": 37,
     "metadata": {},
     "output_type": "execute_result"
    }
   ],
   "source": [
    "import re\n",
    "\n",
    "tata_anak_tabel_text = \"\"\n",
    "for elem in tata_laksana_tabel_elements:\n",
    "    tata_anak_tabel_text += elem.text\n",
    "# print(tata_anak_tabel_text)\n",
    "table_list = re.split(r\"Tabel \\d\", tata_anak_tabel_text)\n",
    "table_list.pop(0)"
   ]
  },
  {
   "cell_type": "code",
   "execution_count": 38,
   "metadata": {},
   "outputs": [],
   "source": [
    "document_chunks = []\n",
    "for table in table_list:\n",
    "    temp = Document(\n",
    "            page_content=table,\n",
    "            metadata={'filename':'Tatalaksana_Penyakit_Ginjal_Kronik_pada_Anak.pdf'}\n",
    "        )\n",
    "    document_chunks.append(temp)"
   ]
  },
  {
   "cell_type": "code",
   "execution_count": 39,
   "metadata": {},
   "outputs": [
    {
     "data": {
      "text/plain": [
       "['2c2d3230-c193-40b0-a417-3d4bf5ab2944',\n",
       " '9777c7ff-4b69-4294-a836-0d5390ce6e8e',\n",
       " 'b3b348eb-37aa-4033-96a5-8e740d987905',\n",
       " '0dfc9e77-21db-47ca-bdf9-8f549651e6a0',\n",
       " '67cfacdc-abc6-4316-9e3a-b133b2eb7cdf']"
      ]
     },
     "execution_count": 39,
     "metadata": {},
     "output_type": "execute_result"
    }
   ],
   "source": [
    "db.add_documents(document_chunks)"
   ]
  },
  {
   "cell_type": "markdown",
   "metadata": {},
   "source": [
    "\n",
    "# Langchain"
   ]
  },
  {
   "cell_type": "code",
   "execution_count": 85,
   "metadata": {},
   "outputs": [],
   "source": [
    "from langchain_community.document_loaders import TextLoader\n",
    "CHROMA_PATH = \"final_test/langchain-multi\"\n",
    "# CHROMA_PATH = \"final_test/langchain-bge\""
   ]
  },
  {
   "cell_type": "code",
   "execution_count": 86,
   "metadata": {},
   "outputs": [],
   "source": [
    "from langchain.text_splitter import RecursiveCharacterTextSplitter\n",
    "\n",
    "def split_text(documents: list[Document]):\n",
    "    print(\"Starting chunking\")\n",
    "\n",
    "    \"Recursive Splitter\"\n",
    "    text_splitter = RecursiveCharacterTextSplitter(\n",
    "        chunk_size=1500,\n",
    "        chunk_overlap=300,\n",
    "        length_function=len,\n",
    "        add_start_index=True,\n",
    "    )\n",
    "    chunks = text_splitter.split_documents(documents)\n",
    "    print(f\"Split {len(documents)} documents into {len(chunks)} chunks.\")\n",
    "    print(f\"len docs {len(chunks)}\")\n",
    "    document = chunks[10]\n",
    "    print(\"page content \\n\", document.page_content)\n",
    "    print(\"doc metadata \\n\", document.metadata)\n",
    "    return chunks"
   ]
  },
  {
   "cell_type": "markdown",
   "metadata": {},
   "source": [
    "## PNPK 2023"
   ]
  },
  {
   "cell_type": "code",
   "execution_count": 87,
   "metadata": {},
   "outputs": [],
   "source": [
    "loader = TextLoader(\"final/PNPK 2023 GGK_clean.txt\", encoding=\"UTF-8\")\n",
    "documents = loader.load()"
   ]
  },
  {
   "cell_type": "code",
   "execution_count": 88,
   "metadata": {},
   "outputs": [
    {
     "name": "stdout",
     "output_type": "stream",
     "text": [
      "Starting chunking\n",
      "Split 1 documents into 377 chunks.\n",
      "len docs 377\n",
      "page content \n",
      " albuminuria atau ACR urin.  \n",
      "3. Pasien dengan Hematuria\n",
      "Pasien dengan hematuria dilakukan pemeriksaan: [Peringkat bukti:\n",
      "Level IV]\n",
      "a.Pasien dengan hematuria harus disingkirkan kemungkinanpenyebab lain seperti infeksi saluran kemih\n",
      "b.Pasien dengan hematuria ma\n",
      "kroskopik/mikroskopik persisten,\n",
      "tanpa adanya proteinuria dan penurunan eGFR dirujuk kespesialis urologi untuk pemeriksaan lebih lanjut\n",
      "c.Pasien dengan hematuria makroskopik/mikroskopik, denganpenyerta klinis hipertensi, proteinuria, dan penurunan eGFR\n",
      "doc metadata \n",
      " {'source': 'final/PNPK 2023 GGK_clean.txt', 'start_index': 8941}\n"
     ]
    }
   ],
   "source": [
    "# langchain splitter\n",
    "chunks = split_text(documents)\n",
    "db = Chroma.from_documents(\n",
    "        chunks, \n",
    "        embedding, \n",
    "        persist_directory=CHROMA_PATH, \n",
    "        collection_metadata={\"hnsw:space\": \"cosine\"}\n",
    "    )\n",
    "db.persist()"
   ]
  },
  {
   "cell_type": "markdown",
   "metadata": {},
   "source": [
    "### Tabel PNPK"
   ]
  },
  {
   "cell_type": "code",
   "execution_count": 89,
   "metadata": {},
   "outputs": [],
   "source": [
    "elements = partition_docx(filename=\"docx/PNPK tabel.docx\")"
   ]
  },
  {
   "cell_type": "code",
   "execution_count": 90,
   "metadata": {},
   "outputs": [
    {
     "data": {
      "text/plain": [
       "''"
      ]
     },
     "execution_count": 90,
     "metadata": {},
     "output_type": "execute_result"
    }
   ],
   "source": [
    "import re\n",
    "\n",
    "text = \"\"\n",
    "for elem in elements:\n",
    "    text += elem.text\n",
    "# print(text)\n",
    "table_list = re.split(r\"Tabel \\d+\", text)\n",
    "table_list.pop(0)"
   ]
  },
  {
   "cell_type": "code",
   "execution_count": 91,
   "metadata": {},
   "outputs": [],
   "source": [
    "document_chunks = []\n",
    "for table in table_list:\n",
    "    temp = Document(\n",
    "            page_content=table,\n",
    "            metadata={'filename':'PNPK 2023 GGK.pdf'}\n",
    "        )\n",
    "    document_chunks.append(temp)"
   ]
  },
  {
   "cell_type": "code",
   "execution_count": 92,
   "metadata": {},
   "outputs": [
    {
     "data": {
      "text/plain": [
       "['3f43f44c-656a-4f1a-8ce0-fbf4bd6795f3',\n",
       " 'ff9d4fd9-453e-4fa1-9851-b3d66942b320',\n",
       " 'fd29cadf-e4ca-4d7d-b986-821c09ffccb3',\n",
       " '4e381dca-5916-4748-a0f9-1860693bfcbb',\n",
       " 'c9029008-5b41-4362-b2ea-4615a1fb46e8',\n",
       " '22170c4d-84f8-40f5-a954-136d1b47f2a8',\n",
       " '88b7deac-0053-4fea-8308-71c537635116',\n",
       " '50e68a83-1a3f-47d2-98ad-94e6b6af7d40',\n",
       " 'eb0ee422-4427-4af5-9c76-e8679e8bee1b',\n",
       " '0922b080-1014-4929-8afc-7eefb2a4397b',\n",
       " '840ef6c9-6879-458f-a7e1-f74f8493dcd2',\n",
       " 'a8686c62-428d-428b-9f24-a30cba7c1234',\n",
       " '61b51af2-0bb1-49eb-ab11-2fcf7cbf0490',\n",
       " 'b3ddc297-f944-4c17-81ea-cb54e0022ba3',\n",
       " '02b22249-c9df-4fa0-84d4-0090fc0bdf18',\n",
       " 'e4dbb789-1b1d-4a1b-a80b-7ce6dd03bd06',\n",
       " '2e29d98a-345f-430b-8958-e251505e9e96',\n",
       " 'd16cedc8-72bb-4284-93ec-00a73a1f54f2',\n",
       " '7998128c-2977-4dda-9a3d-a0d694ab9be6',\n",
       " '2e437528-d4cc-4e27-add3-e57ac850b586',\n",
       " '171ce9ca-648a-4566-be7b-07633639369e',\n",
       " 'af96fb2e-e219-45e6-86cd-7b4ba648c91a',\n",
       " '43cb250e-3c2b-4bfd-9982-c6b769b6cce8',\n",
       " '4ea3e6d2-412e-4fdb-b4d3-e9ce6e9eeda5',\n",
       " 'cc60ddc6-19bf-445b-b1eb-655415defd79',\n",
       " '2cb80bd4-4ace-46b5-8eff-feba4590de29',\n",
       " '46a661e2-8bad-4587-80d2-2ca3933d93ff',\n",
       " '99807790-4044-4842-a319-fcb6ce9875ef',\n",
       " '7cc9481a-0d53-42fa-aafa-c8890ae78d15',\n",
       " '28da6ed4-3f9a-45d8-aad1-135ee863332c',\n",
       " '81e44fc7-fe2c-45b5-bd87-e8f6afb30519',\n",
       " '0da49134-c996-4ebd-beed-23cae5c5705d',\n",
       " '62d89d7b-eb8b-475c-b010-9372ae343bdc']"
      ]
     },
     "execution_count": 92,
     "metadata": {},
     "output_type": "execute_result"
    }
   ],
   "source": [
    "db.add_documents(document_chunks)"
   ]
  },
  {
   "cell_type": "markdown",
   "metadata": {},
   "source": [
    "## Nutrisi pada anak dengan penyakit ginjal"
   ]
  },
  {
   "cell_type": "code",
   "execution_count": 93,
   "metadata": {},
   "outputs": [],
   "source": [
    "loader = TextLoader(\"final/nutrisi_pada_anak_dengan_penyakit_ginjal - Copy_poster.txt\", encoding=\"UTF-8\")\n",
    "documents = loader.load()"
   ]
  },
  {
   "cell_type": "code",
   "execution_count": 94,
   "metadata": {},
   "outputs": [
    {
     "name": "stdout",
     "output_type": "stream",
     "text": [
      "Starting chunking\n",
      "Split 1 documents into 20 chunks.\n",
      "len docs 20\n",
      "page content \n",
      " d. Kekurangan berat badan lebih dari 10% berat badan ideal. e. Indeks massa tubuh kurang dari persentil 5 atau lebih dari persentil 85 untuk tinggi badan menurut umur. f. Kenaikan berat badan yang tidak adekuat dan perawakan pendek. g. Abnormalitas nutrisi yang berhubungan dengan gangguan biokimiawi. 4. Terapi kebutuhan energi Penyebab gangguan asupan kalori pada pasien PGK adalah penurunan selera makan dan muntah. Angka kematian PGK lebih tinggi pada anak dengan indeks massa tubuh di bawah atau di atas nilai normal. Faktor penyebab gangguan selera makan pada pasien PGK antara lain:  a. Pada anak dengan poliuria, rasa haus lebih  nyata dibanding rasa lapar . b. Pasien lebih menyukai makanan bergaram  dibandingkan makanan manis sebagai asupan  energi. c. Akumulasi selera makan yang meregulasi sitokin dan hormon. d. Refl  uks gastroesofagus. e. Gangguan motilitas lambung. f.  Pengosongan lambung terlambat. g. Obat-obatan. Pada anak dengan PGK derajat 2-5 dan  5D, rekomendasi kebutuhan energi adalah  sebagai berikut:  a. Kebutuhan energi untuk anak PGK adalah  100% perkiraan energi yang dibutuhkan sesuai umur kronologis. Penyesuaian asupan energi  berdasarkan  respons  terhadap kenaikan atau kehilangan berat badan. b. Tambahan nutrisi pada keadaan kurang asupan makanan dan pada anak yang tidak mampu mencapai berat badan dan pertumbuhan sesuai umur. c. Makanan tambahan melalui sonde apabila  kebutuhan energi anak tidak terpenuhi. d. Mengatur  keseimbangan  kalori  dari\n",
      "doc metadata \n",
      " {'source': 'final/nutrisi_pada_anak_dengan_penyakit_ginjal - Copy_poster.txt', 'start_index': 10537}\n"
     ]
    },
    {
     "data": {
      "text/plain": [
       "['4263fda1-cd52-4820-976b-4e6dc61243a3',\n",
       " '8aaef94e-4a54-42a7-94ae-1cf6fc66b1a7',\n",
       " 'b9bad13d-327d-484e-9f7b-72d61a544556',\n",
       " '1a3decb1-150b-456a-aa63-ed8467f386ed',\n",
       " 'ffb6c5d1-1321-4d8b-8c34-94cb254e6d6d',\n",
       " '59261517-30d1-4472-a0a1-8adaf789db03',\n",
       " '76a56483-e6a9-4f17-9afd-167560e181d5',\n",
       " '70331218-c989-4bd0-af4f-018e712b78d1',\n",
       " 'ff959d8c-e4f3-4060-88cf-3aeba29ffcd1',\n",
       " 'c6556b70-f47c-4c7b-a1ae-ccb6662bbc0c',\n",
       " '46930e37-d2ef-4254-971e-4cadd6e5a7cb',\n",
       " 'd6768b42-4605-4acb-a350-2462266eeea3',\n",
       " '663857f9-8e4f-4f5f-b638-3d9cc68dedfd',\n",
       " '13d4dd5e-8273-41f5-8301-8284504b6637',\n",
       " 'f953cf3e-d043-4c86-86b4-9f278164addc',\n",
       " 'a7757ac1-068c-4272-977c-8c26c930ca35',\n",
       " 'c927af81-9d91-4159-b91f-3b6b370ea1a3',\n",
       " '29d6c390-4a2d-474c-bbc3-051d6f4515a0',\n",
       " '8b13ad2a-c717-43fc-98b7-c2c7c7fc4a45',\n",
       " '84604b62-bd4a-476d-9204-aae727613135']"
      ]
     },
     "execution_count": 94,
     "metadata": {},
     "output_type": "execute_result"
    }
   ],
   "source": [
    "# langchain splitter\n",
    "chunks = split_text(documents)\n",
    "db.add_documents(chunks)"
   ]
  },
  {
   "cell_type": "markdown",
   "metadata": {},
   "source": [
    "### Tabel Nutrisi pada Anak dengan Penyakit Ginjal"
   ]
  },
  {
   "cell_type": "code",
   "execution_count": 95,
   "metadata": {},
   "outputs": [],
   "source": [
    "elements = partition_docx(filename=\"docx/nutrisi tabel.docx\")"
   ]
  },
  {
   "cell_type": "code",
   "execution_count": 96,
   "metadata": {},
   "outputs": [
    {
     "data": {
      "text/plain": [
       "''"
      ]
     },
     "execution_count": 96,
     "metadata": {},
     "output_type": "execute_result"
    }
   ],
   "source": [
    "import re\n",
    "\n",
    "text = \"\"\n",
    "for elem in elements:\n",
    "    text += elem.text\n",
    "# print(text)\n",
    "table_list = re.split(r\"Tabel \\d\", text)\n",
    "table_list.pop(0)"
   ]
  },
  {
   "cell_type": "code",
   "execution_count": 97,
   "metadata": {},
   "outputs": [],
   "source": [
    "from langchain_core.documents import Document\n",
    "\n",
    "document_chunks = []\n",
    "for table in table_list:\n",
    "    temp = Document(\n",
    "            page_content=table,\n",
    "            metadata={'filename':'nutrisi_pada_anak_dengan_penyakit_ginjal.pdf'}\n",
    "        )\n",
    "    document_chunks.append(temp)"
   ]
  },
  {
   "cell_type": "code",
   "execution_count": 98,
   "metadata": {},
   "outputs": [
    {
     "data": {
      "text/plain": [
       "['3202a338-a574-4803-a527-379d932a1d6e',\n",
       " 'b9ad9adf-8a97-4c6f-ab67-61e3b0247963',\n",
       " '56de1f36-92be-4ee3-a97a-8ddc489a05bb',\n",
       " 'd81b95d1-abac-4644-be5c-39b2672f0421',\n",
       " 'e52ae3e4-594e-422b-8b02-a1a9c311f0a7',\n",
       " 'd12a5e7a-cd70-495e-9f34-b1740e4e83dc',\n",
       " 'fb378c2a-1220-4573-a4ff-c3512920d009',\n",
       " '5ccf2850-f90f-4615-9b7e-314c7a83a2e2']"
      ]
     },
     "execution_count": 98,
     "metadata": {},
     "output_type": "execute_result"
    }
   ],
   "source": [
    "db.add_documents(document_chunks)"
   ]
  },
  {
   "cell_type": "markdown",
   "metadata": {},
   "source": [
    "## Tatalaksana Hemodialisis pada Anak dan Bayi"
   ]
  },
  {
   "cell_type": "code",
   "execution_count": 99,
   "metadata": {},
   "outputs": [],
   "source": [
    "loader = TextLoader(\"final/Tatalaksana_Hemodialisis_pada_Anak_dan_Bayi_clean.txt\", encoding='utf-8')\n",
    "documents = loader.load()"
   ]
  },
  {
   "cell_type": "code",
   "execution_count": 100,
   "metadata": {},
   "outputs": [
    {
     "name": "stdout",
     "output_type": "stream",
     "text": [
      "Starting chunking\n",
      "Split 1 documents into 27 chunks.\n",
      "len docs 27\n",
      "page content \n",
      " mendasar antara  hemodialisis dewasa dan pediatrik. Misalnya,  pada pediatrik, aliran darah dan hemodialyzer  dipilih atas dasar bahwa anak-anak dapat  mentolerir 8% (maksimum 10%) total volume  darah mereka di sirkuit ekstrakorporeal  berdasarkan perkiraan volume darah total 80  mL/ kg untuk bayi dan 70 mL/ kg untuk anak  yang lebih tua. Jika sirkuit hemodialisis terkecil  yang tersedia melebihi volume kritis ini, dapat  ditutupi dengan larutan albumin manusia  4,5% atau darah donor untuk mencegah  gejala hipovolemia. Karena aliran darah bayi dan anak memiliki  kaliber lebih kecil, kecepatan pompa darah  cenderung lebih cepat, dengan sasaran 8–10  mL/kg/menit, dibandingkan 3-5 mL/kg/menit  untuk hemodialisis dewasa. Penggulung  kepala pompa darah (blood pump head  rollers) harus disesuaikan dengan ukuran  aliran dialisis, hemolisis mekanik dapat terjadi  jika aliran darah dewasa digunakan dalam  mesin dialisis yang disiapkan untuk saluran  pediatrik. Untuk menghindari hipovolemia  dan  hipotensi,  pedoman  dari  Inggris\n",
      "doc metadata \n",
      " {'source': 'final/Tatalaksana_Hemodialisis_pada_Anak_dan_Bayi_clean.txt', 'start_index': 10108}\n"
     ]
    },
    {
     "data": {
      "text/plain": [
       "['8361816d-c013-4474-af38-25165763e2a0',\n",
       " '95aa0200-c208-4392-bc4f-3da21a333656',\n",
       " '07307a43-3649-4d01-bcfd-f7d059900121',\n",
       " '101e7047-2e3e-44ee-9f34-1a92ef2038b7',\n",
       " '996d4c64-017d-4707-a169-93f468960e85',\n",
       " '93afae33-7690-432d-92aa-2dcbc171a3f7',\n",
       " '5d1e9615-47b5-46a9-8a14-d5d4d0993e14',\n",
       " 'd63c531b-5a4f-4015-9814-e015ea490d6c',\n",
       " '69e8f63b-fcc9-4c23-9619-179c5743af73',\n",
       " '9507e1d4-6d39-458c-8aa5-d1bf48ac9b00',\n",
       " '0f64f7a1-0776-401f-984c-9a4c706c3b63',\n",
       " '1f571e1c-5720-4b8e-b41c-7103ac72f02f',\n",
       " '05fa63f8-4a8d-4ba7-bd3a-17377273b46e',\n",
       " '2202a82c-5a2e-4405-8d39-19048592f9f0',\n",
       " '9f3652ef-d097-4178-b793-d043e05e3b98',\n",
       " 'd3856d1e-5be6-45f4-8683-3fa4d2618514',\n",
       " '79634c9e-96e7-49f8-81a9-9454bb6bfffe',\n",
       " '99850e73-6c08-4fa0-896f-f1f57c1113c5',\n",
       " '39c6ec1c-99b4-4217-aaf0-dc479d2cb167',\n",
       " '01a552d3-a3f1-4bb8-871c-d3704f475aba',\n",
       " '2c4e1959-d8e5-45e7-bc9f-41d3a104753e',\n",
       " '0b73cdeb-f5d3-4fa0-b9a8-64a9bac918dd',\n",
       " 'd3079430-146a-4795-836e-edd62059af0f',\n",
       " 'ba04d334-f69e-428e-9346-020b0a99c40d',\n",
       " '9707c4a7-2aa3-4520-98e2-63a127b0919e',\n",
       " 'fd3b1175-f7da-452f-9047-1b3e81ea4d6d',\n",
       " '60e95572-c4c1-428d-a5eb-dc699941b566']"
      ]
     },
     "execution_count": 100,
     "metadata": {},
     "output_type": "execute_result"
    }
   ],
   "source": [
    "chunks = split_text(documents)\n",
    "db.add_documents(chunks)"
   ]
  },
  {
   "cell_type": "markdown",
   "metadata": {},
   "source": [
    "## Tatalaksana Penyakit Ginjal Kronik pada Anak"
   ]
  },
  {
   "cell_type": "code",
   "execution_count": 101,
   "metadata": {},
   "outputs": [],
   "source": [
    "loader = TextLoader(\"final/Tatalaksana_Penyakit_Ginjal_Kronik_pada_Anak_clean_split_final.txt\", encoding='utf-8')\n",
    "documents = loader.load()"
   ]
  },
  {
   "cell_type": "code",
   "execution_count": 102,
   "metadata": {},
   "outputs": [
    {
     "name": "stdout",
     "output_type": "stream",
     "text": [
      "Starting chunking\n",
      "Split 1 documents into 12 chunks.\n",
      "len docs 12\n",
      "page content \n",
      " Penyakit ginjal kronis stadium 5 merupakan indikasi untuk transplantasi. Meskipun demikian, tidak semua \n",
      "pasien dengan penyakit ginjal kronis stadium 5 dapat \n",
      "menjadi kandidat untuk transplantasi ginjal. Prosedur ini \n",
      "dapat terlalu berisiko bagi sebagian karena komorbiditas\n",
      "yang telah diderita pasien atau karena kontraindikasi \n",
      "tertentu, seperti infeksi kronis yang akan dieksaserbasi oleh imunosupresi. Kontraindikasi absolut bagi transplantasi ginjal adalah keganasan aktif, terutama jika telah bermetastasis. Infeksi HIV dan potensi rekurensi penyakit ginjal juga perlu dipertimbangkan \n",
      "dalam rencana transplantasi. \n",
      "Prognosis pasien dengan penyakit ginjal kronis adalah \n",
      "bervariasi menurut stadium dan penatalaksanaan yang dilakukan. Dengandeteksi dan penatalaksanaan dini,morbiditas dan mortalitas diharapkan dapat diturunkan.  \n",
      "3.Kesimpulan\n",
      "Penyakit ginjal kronis pada anak dapat disebabkan penyakit \n",
      "kongenital, didapat, genetik, atau metabolik. Tujuan penatalaksanaan penyakit ginjal kronik adalah untuk menganani penyebab gangguan ginjal, primer\n",
      "menghilangkan atau kondisi-kondisi meminimalisir \n",
      "komorbid, mencegah atau memperlambat penurunan fungsi ginjal, menangani gangguan metabolik yang terkait,mencegah dan menangani penyakit kardiovaskular, dan \n",
      "mengoptimalkan pertumbuhan dan perkembangan.\n",
      "doc metadata \n",
      " {'source': 'final/Tatalaksana_Penyakit_Ginjal_Kronik_pada_Anak_clean_split_final.txt', 'start_index': 11755}\n"
     ]
    },
    {
     "data": {
      "text/plain": [
       "['0baac2f2-c6c1-4bc7-ac63-fb8e094b3cb2',\n",
       " 'd0d745be-1229-45d0-a419-233979a5bb49',\n",
       " '1384706d-0653-4d52-bb50-ca7266b156d9',\n",
       " '98853da8-5fea-4092-83dd-d09676542bb8',\n",
       " 'e03b2f78-d515-4ca4-a102-95f7779214dd',\n",
       " '3304b0d9-9ce6-4a58-bf16-d005f94900e5',\n",
       " '80208123-b72f-43bd-a564-f708dbf9ca1f',\n",
       " 'aea7b58d-3d28-490e-be16-a964deba4436',\n",
       " '83e6fb0a-23ef-40ef-86e1-55adaddf7126',\n",
       " '0e2d0bb8-3969-441f-9a6f-e90bf803e370',\n",
       " 'dba287e2-4fac-4271-9686-38278089bba9',\n",
       " '937011f3-4dde-46aa-b894-806898905b80']"
      ]
     },
     "execution_count": 102,
     "metadata": {},
     "output_type": "execute_result"
    }
   ],
   "source": [
    "chunks = split_text(documents)\n",
    "db.add_documents(chunks)"
   ]
  },
  {
   "cell_type": "markdown",
   "metadata": {},
   "source": [
    "### Tabel Tatalaksana Penyakit Ginjal Kronik pada Anak"
   ]
  },
  {
   "cell_type": "code",
   "execution_count": 103,
   "metadata": {},
   "outputs": [],
   "source": [
    "tata_laksana_tabel_elements = partition_docx(filename=\"docx/tatalaksana anak tabel.docx\")"
   ]
  },
  {
   "cell_type": "code",
   "execution_count": 104,
   "metadata": {},
   "outputs": [
    {
     "data": {
      "text/plain": [
       "''"
      ]
     },
     "execution_count": 104,
     "metadata": {},
     "output_type": "execute_result"
    }
   ],
   "source": [
    "import re\n",
    "\n",
    "tata_anak_tabel_text = \"\"\n",
    "for elem in tata_laksana_tabel_elements:\n",
    "    tata_anak_tabel_text += elem.text\n",
    "# print(tata_anak_tabel_text)\n",
    "table_list = re.split(r\"Tabel \\d\", tata_anak_tabel_text)\n",
    "table_list.pop(0)"
   ]
  },
  {
   "cell_type": "code",
   "execution_count": 105,
   "metadata": {},
   "outputs": [],
   "source": [
    "document_chunks = []\n",
    "for table in table_list:\n",
    "    temp = Document(\n",
    "            page_content=table,\n",
    "            metadata={'filename':'Tatalaksana_Penyakit_Ginjal_Kronik_pada_Anak.pdf'}\n",
    "        )\n",
    "    document_chunks.append(temp)"
   ]
  },
  {
   "cell_type": "code",
   "execution_count": 106,
   "metadata": {},
   "outputs": [
    {
     "data": {
      "text/plain": [
       "['39dc9a46-0db5-474b-bdbd-a4fb4d6f4d6d',\n",
       " 'a0c89e40-a60c-488f-bc15-76fe8992857e',\n",
       " 'b641ab96-da8b-4b31-bf75-a5f4f61290d1',\n",
       " '11be138e-99a7-43e5-9cb7-ca5c61cae9cd',\n",
       " '8c4c2893-b7c8-4a00-a140-10ecfb188a3f']"
      ]
     },
     "execution_count": 106,
     "metadata": {},
     "output_type": "execute_result"
    }
   ],
   "source": [
    "db.add_documents(document_chunks)"
   ]
  }
 ],
 "metadata": {
  "kernelspec": {
   "display_name": "Python 3",
   "language": "python",
   "name": "python3"
  },
  "language_info": {
   "codemirror_mode": {
    "name": "ipython",
    "version": 3
   },
   "file_extension": ".py",
   "mimetype": "text/x-python",
   "name": "python",
   "nbconvert_exporter": "python",
   "pygments_lexer": "ipython3",
   "version": "3.9.13"
  }
 },
 "nbformat": 4,
 "nbformat_minor": 2
}
