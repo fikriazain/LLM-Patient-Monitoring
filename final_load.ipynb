{
 "cells": [
  {
   "cell_type": "code",
   "execution_count": 1,
   "metadata": {},
   "outputs": [],
   "source": [
    "from langchain.vectorstores.chroma import Chroma\n",
    "from langchain_community.embeddings import HuggingFaceEmbeddings, HuggingFaceBgeEmbeddings\n",
    "from langchain_core.documents import Document\n",
    "from unstructured.partition.text import partition_text\n",
    "from unstructured.chunking.basic import chunk_elements\n",
    "from unstructured.partition.docx import partition_docx\n",
    "\n",
    "import time, os, shutil\n"
   ]
  },
  {
   "cell_type": "code",
   "execution_count": 2,
   "metadata": {},
   "outputs": [
    {
     "name": "stderr",
     "output_type": "stream",
     "text": [
      "d:\\Python\\lib\\site-packages\\tqdm\\auto.py:21: TqdmWarning: IProgress not found. Please update jupyter and ipywidgets. See https://ipywidgets.readthedocs.io/en/stable/user_install.html\n",
      "  from .autonotebook import tqdm as notebook_tqdm\n"
     ]
    },
    {
     "name": "stdout",
     "output_type": "stream",
     "text": [
      "model load time 13.0 second\n"
     ]
    }
   ],
   "source": [
    "# CHROMA_PATH = \"final_test/unstructured-multi\"\n",
    "\n",
    "# def load_embedding_model(model_path : str):\n",
    "#     start_time = time.time()\n",
    "#     encode_kwargs = {\"normalize_embeddings\": True}\n",
    "#     local_embedding = HuggingFaceEmbeddings(\n",
    "#         model_name=model_path,\n",
    "#         cache_folder=\"./models\",\n",
    "#         encode_kwargs=encode_kwargs\n",
    "#     )\n",
    "#     end_time = time.time()\n",
    "#     print(f'model load time {round(end_time - start_time, 0)} second')\n",
    "#     return local_embedding\n",
    "\n",
    "# embedding = load_embedding_model(model_path=\"intfloat/multilingual-e5-large\")"
   ]
  },
  {
   "cell_type": "code",
   "execution_count": 56,
   "metadata": {},
   "outputs": [
    {
     "name": "stdout",
     "output_type": "stream",
     "text": [
      "model load time 83.0 second\n"
     ]
    }
   ],
   "source": [
    "CHROMA_PATH = \"final_test/unstructured-bge\"\n",
    "\n",
    "def load_embedding_model(model_path : str):\n",
    "    start_time = time.time()\n",
    "    encode_kwargs = {\"normalize_embeddings\": True}\n",
    "    local_embedding = HuggingFaceBgeEmbeddings(\n",
    "        model_name=model_path,\n",
    "        cache_folder=\"./models\",\n",
    "        encode_kwargs=encode_kwargs\n",
    "    )\n",
    "    end_time = time.time()\n",
    "    print(f'model load time {round(end_time - start_time, 0)} second')\n",
    "    return local_embedding\n",
    "\n",
    "embedding = load_embedding_model(model_path=\"BAAI/bge-m3\")"
   ]
  },
  {
   "cell_type": "code",
   "execution_count": 57,
   "metadata": {},
   "outputs": [],
   "source": [
    "def save_to_chroma(chunks: list[Document]):\n",
    "    print(\"Starting Embedding\")\n",
    "    # Clear out the database first.\n",
    "    if os.path.exists(CHROMA_PATH):\n",
    "        shutil.rmtree(CHROMA_PATH)\n",
    "\n",
    "    # Create a new DB from the documents.\n",
    "    start_time = time.time()\n",
    "    db = Chroma.from_documents(\n",
    "        chunks, \n",
    "        embedding, \n",
    "        persist_directory=CHROMA_PATH,\n",
    "        collection_metadata={\"hnsw:space\": \"cosine\"}\n",
    "    )\n",
    "    db.persist()\n",
    "    end_time = time.time()\n",
    "    print(f'embedding time {round(end_time - start_time, 0)} second')\n",
    "    print(f\"Saved {len(chunks)} chunks to {CHROMA_PATH}.\")"
   ]
  },
  {
   "cell_type": "markdown",
   "metadata": {},
   "source": [
    "# Unstructured"
   ]
  },
  {
   "cell_type": "markdown",
   "metadata": {},
   "source": [
    "## PNPK 2023"
   ]
  },
  {
   "cell_type": "code",
   "execution_count": 58,
   "metadata": {},
   "outputs": [],
   "source": [
    "elements = partition_text(filename=\"final/PNPK 2023 GGK_clean.txt\")"
   ]
  },
  {
   "cell_type": "code",
   "execution_count": 59,
   "metadata": {},
   "outputs": [],
   "source": [
    "chunks = chunk_elements(elements, \n",
    "                        max_characters=1800, \n",
    "                        new_after_n_chars=1500, \n",
    "                        overlap=300, \n",
    "                        overlap_all=True)"
   ]
  },
  {
   "cell_type": "code",
   "execution_count": 60,
   "metadata": {},
   "outputs": [],
   "source": [
    "document_chunks = []\n",
    "for chunk in chunks:\n",
    "    temp_metadata = chunk.metadata.to_dict()\n",
    "    temp_metadata[\"languages\"] = 'ind'\n",
    "    temp = Document(\n",
    "            page_content=chunk.text,\n",
    "            metadata=temp_metadata,\n",
    "        )\n",
    "    document_chunks.append(temp)"
   ]
  },
  {
   "cell_type": "code",
   "execution_count": 61,
   "metadata": {},
   "outputs": [],
   "source": [
    "# unstructured\n",
    "db = Chroma.from_documents(\n",
    "        document_chunks, \n",
    "        embedding, \n",
    "        persist_directory=CHROMA_PATH, \n",
    "        collection_metadata={\"hnsw:space\": \"cosine\"}\n",
    "    )\n",
    "db.persist()"
   ]
  },
  {
   "cell_type": "markdown",
   "metadata": {},
   "source": [
    "### Tabel PNPK"
   ]
  },
  {
   "cell_type": "code",
   "execution_count": 62,
   "metadata": {},
   "outputs": [],
   "source": [
    "elements = partition_docx(filename=\"docx/PNPK tabel.docx\")"
   ]
  },
  {
   "cell_type": "code",
   "execution_count": 63,
   "metadata": {},
   "outputs": [
    {
     "data": {
      "text/plain": [
       "''"
      ]
     },
     "execution_count": 63,
     "metadata": {},
     "output_type": "execute_result"
    }
   ],
   "source": [
    "import re\n",
    "\n",
    "text = \"\"\n",
    "for elem in elements:\n",
    "    text += elem.text\n",
    "# print(text)\n",
    "table_list = re.split(r\"Tabel \\d+\", text)\n",
    "table_list.pop(0)"
   ]
  },
  {
   "cell_type": "code",
   "execution_count": 64,
   "metadata": {},
   "outputs": [],
   "source": [
    "document_chunks = []\n",
    "for table in table_list:\n",
    "    temp = Document(\n",
    "            page_content=table,\n",
    "            metadata={'filename':'PNPK 2023 GGK.pdf'}\n",
    "        )\n",
    "    document_chunks.append(temp)"
   ]
  },
  {
   "cell_type": "code",
   "execution_count": 65,
   "metadata": {},
   "outputs": [
    {
     "data": {
      "text/plain": [
       "['78af2ce2-df42-42d8-9e8b-b39fcd030cd1',\n",
       " '00cf4f53-f0de-40be-b51b-d8f173066fac',\n",
       " 'd782baa2-a78b-4568-adc8-b777afabc365',\n",
       " 'a451738d-d9d2-4632-9d0c-c7ee81e2a5e2',\n",
       " '21bc892e-25aa-4718-97f8-96bb92ecfc75',\n",
       " '14cdf428-36dc-4da5-a1a6-5a4cdf176285',\n",
       " '93e5b540-d977-4aba-be15-3a0b16026801',\n",
       " '4f092483-4e90-4d87-9efc-918ab9f4d34a',\n",
       " 'ab41ac18-5936-473a-be98-da9f679d92a5',\n",
       " '8d17b118-a691-4c2c-a296-41aa7e0bfb19',\n",
       " '113587e9-1529-4849-8c0b-c5f27849393a',\n",
       " 'bd6fdad6-bd5e-48e3-b636-caff6e52118c',\n",
       " '548a107c-deef-494e-941f-3e2fa701f974',\n",
       " '63e68607-11a4-400a-a4d0-880b2d44ac91',\n",
       " '9022c3da-65c9-4198-9480-d67a3f29be2b',\n",
       " '34f63502-24a9-4110-8498-942928326c1b',\n",
       " '7d79cf9b-daf9-42a6-8888-5b7e2ec49b4b',\n",
       " 'c4212c40-d7b9-4e75-b7d9-79a637a0e020',\n",
       " '471e7156-db6d-4325-8455-e8a1e9113694',\n",
       " '91c81a42-dcc7-4064-8c85-b501186f6ac7',\n",
       " '228e9777-ee09-4dea-b10a-0a7e4e047480',\n",
       " 'a0afb3bd-0d4d-43b7-a8ed-b7def6836b51',\n",
       " 'bca78471-db74-4175-8b85-41e889bd4fd6',\n",
       " '377c4cde-075a-4b0a-9dff-1821be870759',\n",
       " '0e5eb974-d549-4ed7-a3b0-8843a10b4f39',\n",
       " '5f8b57e1-38cb-4227-9a8a-adde3b40edea',\n",
       " 'fe2ccb88-f9aa-49b1-83ac-7a9d790e02b0',\n",
       " 'ca7703a6-6c2d-4dfb-a227-8982ef002f44',\n",
       " '622ec7a2-a69e-4b4a-87c6-fdd719aa2feb',\n",
       " '1167b385-9b58-481e-b8a1-4affb52c385d',\n",
       " '9b841e7a-8fea-4eef-be13-7183ece5184a',\n",
       " 'c0b1fb4b-293c-4685-a709-b5fe1f103ff7',\n",
       " 'ce58388f-626b-4a8a-8f24-6090f4da3153']"
      ]
     },
     "execution_count": 65,
     "metadata": {},
     "output_type": "execute_result"
    }
   ],
   "source": [
    "db.add_documents(document_chunks)"
   ]
  },
  {
   "cell_type": "markdown",
   "metadata": {},
   "source": [
    "## Nutrisi pada anak dengan penyakit ginjal"
   ]
  },
  {
   "cell_type": "code",
   "execution_count": 66,
   "metadata": {},
   "outputs": [],
   "source": [
    "elements = partition_text(filename=\"final/nutrisi_pada_anak_dengan_penyakit_ginjal - Copy_poster.txt\")"
   ]
  },
  {
   "cell_type": "code",
   "execution_count": 67,
   "metadata": {},
   "outputs": [],
   "source": [
    "chunks = chunk_elements(elements, \n",
    "                        max_characters=1500, \n",
    "                        new_after_n_chars=1000, \n",
    "                        overlap=300, \n",
    "                        overlap_all=True)"
   ]
  },
  {
   "cell_type": "code",
   "execution_count": 68,
   "metadata": {},
   "outputs": [],
   "source": [
    "document_chunks = []\n",
    "for chunk in chunks:\n",
    "    temp_metadata = chunk.metadata.to_dict()\n",
    "    temp_metadata[\"languages\"] = 'ind'\n",
    "    temp = Document(\n",
    "            page_content=chunk.text,\n",
    "            metadata=temp_metadata,\n",
    "        )\n",
    "    document_chunks.append(temp)"
   ]
  },
  {
   "cell_type": "code",
   "execution_count": 69,
   "metadata": {},
   "outputs": [
    {
     "data": {
      "text/plain": [
       "['f4710db2-7783-4261-946c-4972e11925c8',\n",
       " '168484d8-2e5b-4e2e-b5cd-fc9f63b5c348',\n",
       " '5f8b9b48-a63e-408a-993c-523213227366',\n",
       " '04684b0b-7dd6-4a90-b04e-f33ede486a27',\n",
       " 'b368e97b-4fc2-4fca-b6dd-38885dc4b92f',\n",
       " '855b15c4-b5e8-48a3-8bff-618f7c035990',\n",
       " '80215e08-53b2-40e7-869c-c449a0005309',\n",
       " 'dbc06895-4c12-4b90-b417-248d91b8e9c1',\n",
       " 'f00b8fe2-c154-41d4-831d-4f3b6634f8f8',\n",
       " '5ff77974-7927-477b-91ff-47b1c4dfff41',\n",
       " '19d9fc2c-6adf-46b7-8585-f6b08c60db1a',\n",
       " 'b6362db3-d8d6-4fdd-9ec0-f691d996cb73',\n",
       " '3650f4fe-52ca-4b45-baee-11c94041af19',\n",
       " 'ccfcb001-cc63-4a8f-9f0f-3d7b1c0cfa1a',\n",
       " '5b5828dd-9bfc-428f-aa2d-30de0c730219',\n",
       " '5d607467-681d-4071-bc4c-b7eb61aa4969',\n",
       " '58b33dca-e2e8-4d8c-ae53-4dff21c07be7',\n",
       " '393567c8-9ca9-4ab5-a66c-e42bf913d676',\n",
       " 'af8b76a5-88dd-4241-90af-e1de6b552846',\n",
       " '34e934fa-bdef-4d60-ad87-29126afd1239',\n",
       " '07c1860b-f52e-4d9c-8787-bbe3ae567f79',\n",
       " '5fbd844a-f258-43d8-99c0-a14677770d04',\n",
       " '7495a645-1c10-4fbf-a242-a50b4c5656c2',\n",
       " '74c1730e-bd6f-4519-b887-01c59e1adbad',\n",
       " '98be840b-5f53-4f23-be44-1be2d99723cc',\n",
       " '2b298cd3-8ff7-40fe-8ea8-a598f0674f81',\n",
       " '6d357a88-3761-4fd2-8f2e-fcb0cf9e4ea0',\n",
       " '61d2b419-2095-46fd-8b93-db68e37b8387',\n",
       " 'cdf87537-9cdc-44ed-81b4-3ab8a0b5bdc3',\n",
       " 'b4fb3780-4cac-49d0-8e03-2c5653114969',\n",
       " '9b53c1cc-a83a-4067-a275-13df446cd77f',\n",
       " '3f6aee2a-df15-44ec-ab3d-047c5bc9c6a3',\n",
       " 'b44a7c23-2fd5-4781-aa9d-749df8f3c23b',\n",
       " '0d2505c2-8e67-4695-86bb-482e6eab9abb']"
      ]
     },
     "execution_count": 69,
     "metadata": {},
     "output_type": "execute_result"
    }
   ],
   "source": [
    "# unstructured\n",
    "db.add_documents(document_chunks)"
   ]
  },
  {
   "cell_type": "markdown",
   "metadata": {},
   "source": [
    "### Tabel Nutrisi pada Anak dengan Penyakit Ginjal"
   ]
  },
  {
   "cell_type": "code",
   "execution_count": 70,
   "metadata": {},
   "outputs": [],
   "source": [
    "elements = partition_docx(filename=\"docx/nutrisi tabel.docx\")"
   ]
  },
  {
   "cell_type": "code",
   "execution_count": 71,
   "metadata": {},
   "outputs": [
    {
     "data": {
      "text/plain": [
       "''"
      ]
     },
     "execution_count": 71,
     "metadata": {},
     "output_type": "execute_result"
    }
   ],
   "source": [
    "import re\n",
    "\n",
    "text = \"\"\n",
    "for elem in elements:\n",
    "    text += elem.text\n",
    "# print(text)\n",
    "table_list = re.split(r\"Tabel \\d\", text)\n",
    "table_list.pop(0)"
   ]
  },
  {
   "cell_type": "code",
   "execution_count": 72,
   "metadata": {},
   "outputs": [],
   "source": [
    "from langchain_core.documents import Document\n",
    "\n",
    "document_chunks = []\n",
    "for table in table_list:\n",
    "    temp = Document(\n",
    "            page_content=table,\n",
    "            metadata={'filename':'nutrisi_pada_anak_dengan_penyakit_ginjal.pdf'}\n",
    "        )\n",
    "    document_chunks.append(temp)"
   ]
  },
  {
   "cell_type": "code",
   "execution_count": 73,
   "metadata": {},
   "outputs": [
    {
     "data": {
      "text/plain": [
       "['112df2a4-c78d-42d3-bf76-ced20f1e6fca',\n",
       " '64f41d44-8051-4416-9286-d62f287730a7',\n",
       " '6545ecdc-9a44-4850-8d5d-44fe9cbc022d',\n",
       " '4e23d188-1db7-49b3-98c2-fd8a7e21c03c',\n",
       " '314d3d8a-805d-4188-962f-d91e4e9d8d5a',\n",
       " 'f069f642-c155-46f6-bc90-c53fc9f30da8',\n",
       " 'ce707ad4-084a-473b-bdca-e8c7a1e7b525',\n",
       " '70a52d5e-2b38-4471-b7d4-176830cde4a3']"
      ]
     },
     "execution_count": 73,
     "metadata": {},
     "output_type": "execute_result"
    }
   ],
   "source": [
    "db.add_documents(document_chunks)"
   ]
  },
  {
   "cell_type": "markdown",
   "metadata": {},
   "source": [
    "## Tatalaksana Hemodialisis pada Anak dan Bayi"
   ]
  },
  {
   "cell_type": "code",
   "execution_count": 74,
   "metadata": {},
   "outputs": [],
   "source": [
    "elements = partition_text(filename=\"final/Tatalaksana_Hemodialisis_pada_Anak_dan_Bayi_clean.txt\")"
   ]
  },
  {
   "cell_type": "code",
   "execution_count": 75,
   "metadata": {},
   "outputs": [],
   "source": [
    "chunks = chunk_elements(elements, \n",
    "                        max_characters=1500, \n",
    "                        new_after_n_chars=1000, \n",
    "                        overlap=300, \n",
    "                        overlap_all=True)"
   ]
  },
  {
   "cell_type": "code",
   "execution_count": 76,
   "metadata": {},
   "outputs": [],
   "source": [
    "document_chunks = []\n",
    "for chunk in chunks:\n",
    "    temp_metadata = chunk.metadata.to_dict()\n",
    "    temp_metadata[\"languages\"] = 'ind'\n",
    "    temp = Document(\n",
    "            page_content=chunk.text,\n",
    "            metadata=temp_metadata,\n",
    "        )\n",
    "    document_chunks.append(temp)"
   ]
  },
  {
   "cell_type": "code",
   "execution_count": 77,
   "metadata": {},
   "outputs": [
    {
     "data": {
      "text/plain": [
       "['8211a60f-c425-42cb-8ba5-9f4a589e89ea',\n",
       " 'b3fa3761-612a-4134-9ed2-42a81cb40329',\n",
       " '1d607717-fc09-45c1-946e-8d633077ca41',\n",
       " '830831d0-0ec6-48c5-9f08-a072188dee4e',\n",
       " 'c5fbc31b-bdf4-4864-b585-0c9ab3914b32',\n",
       " '428b376a-469d-4ec2-98eb-95af24da080e',\n",
       " '7f25921d-b14d-40ec-bcb5-3c947c67c59f',\n",
       " '5ab03e45-c6e3-4edd-9d20-cd55c91227ba',\n",
       " '03fecae8-2b5b-41ee-bf47-4ba0465798bf',\n",
       " '8e338029-1721-4bc5-bfab-37a5a1d50d02',\n",
       " '03554512-22ba-4f7e-82f5-51dc5da337fc',\n",
       " '6cb07b20-2bf9-414b-bb36-1b7d0184a3f6',\n",
       " '0d101d98-ede7-406a-987a-41989b25c4a7',\n",
       " 'b5fc5467-115e-4dac-8540-644a9c2108d3',\n",
       " 'be4bf580-432d-4e23-825c-d5cdd0ac090f',\n",
       " 'ca39103a-313e-4dc2-900d-7475ba4d0b9a',\n",
       " 'c3376348-db65-433a-ba3e-9fbafef14b3a',\n",
       " '5494791a-4165-4c97-b33d-cb1dee790dfc',\n",
       " '5766997a-273e-4c69-a518-966656c4cfe3',\n",
       " '0324d6e1-aeb7-4d9c-ae1b-a343ce864f01',\n",
       " '6b9ee69c-0ffb-4b2e-b854-526795a0012c',\n",
       " 'b0261333-5190-4ef5-8b15-66c0c3ff4b2a',\n",
       " '2afb4f33-e52a-4df9-b99c-0984fed0f4d9',\n",
       " '9ca16966-38bf-412c-8b4b-247eb3c2a2a1',\n",
       " '2b530be2-28f5-4b90-bf7f-426d070b6730',\n",
       " 'cff9badd-0f34-4c1f-a032-56bac42cffde',\n",
       " 'fabda238-e8a2-4b55-a0c7-87caaf8ccaed',\n",
       " '361932cd-af71-4a2b-a970-f0b44fd35aa8',\n",
       " 'b2e619de-a895-4d67-bc7a-43e3771ad685',\n",
       " '59109bd5-4de7-4814-8b76-29808eddf53b',\n",
       " '647569ef-2430-412d-ac2d-c4de65f026c3',\n",
       " '6c28ba4a-019a-4c6c-8e51-7967f6c4831d',\n",
       " '6584f0e2-b7f0-498b-b972-013b09d213f1',\n",
       " '5290f063-3435-4b4e-a4de-a75af0dde0de',\n",
       " '4172f40d-7fbe-40dd-ac87-07ca6953697f',\n",
       " 'c48cb75d-5cc1-43de-9556-8652f576f407',\n",
       " '7b6f979b-1339-4557-b2ee-457b12decfd6',\n",
       " 'b316b9bd-a23b-4380-aa36-cabfb35d6f20',\n",
       " 'ba739dd3-4961-4522-8ce8-7b31ba74d2c6',\n",
       " '1609a46b-8eac-4a77-8390-5db373bc852f',\n",
       " '186ae0e1-7fe2-4bb1-b4f1-8e6aeacedd0e',\n",
       " '565e4129-9ed3-4418-a741-06aad3b30d68',\n",
       " 'aea7e329-0c77-4c64-ae8a-131715f501b3',\n",
       " '0d0d78d3-c6d3-49ac-bd66-3385a52448c1',\n",
       " '52618b4a-75a8-4507-8ad0-3a8e7e2fe354']"
      ]
     },
     "execution_count": 77,
     "metadata": {},
     "output_type": "execute_result"
    }
   ],
   "source": [
    "db.add_documents(document_chunks)"
   ]
  },
  {
   "cell_type": "markdown",
   "metadata": {},
   "source": [
    "## Tatalaksana Penyakit Ginjal Kronik pada Anak"
   ]
  },
  {
   "cell_type": "code",
   "execution_count": 78,
   "metadata": {},
   "outputs": [],
   "source": [
    "elements = partition_text(filename=\"final/Tatalaksana_Penyakit_Ginjal_Kronik_pada_Anak_clean_split_final.txt\")"
   ]
  },
  {
   "cell_type": "code",
   "execution_count": 79,
   "metadata": {},
   "outputs": [],
   "source": [
    "chunks = chunk_elements(elements, \n",
    "                        max_characters=1500, \n",
    "                        new_after_n_chars=1000, \n",
    "                        overlap=300, \n",
    "                        overlap_all=True)"
   ]
  },
  {
   "cell_type": "code",
   "execution_count": 80,
   "metadata": {},
   "outputs": [],
   "source": [
    "document_chunks = []\n",
    "for chunk in chunks:\n",
    "    temp_metadata = chunk.metadata.to_dict()\n",
    "    temp_metadata[\"languages\"] = 'ind'\n",
    "    temp = Document(\n",
    "            page_content=chunk.text,\n",
    "            metadata=temp_metadata,\n",
    "        )\n",
    "    document_chunks.append(temp)"
   ]
  },
  {
   "cell_type": "code",
   "execution_count": 81,
   "metadata": {},
   "outputs": [
    {
     "data": {
      "text/plain": [
       "['2cf3e20d-5070-4950-80fb-f20aef1eefd3',\n",
       " 'b4151899-9818-4c58-8db1-052a6f0e40e7',\n",
       " '3a56636d-2cfa-485e-b144-e4d5e99b2059',\n",
       " 'c923e61e-f1e7-4c1d-b941-a8d7994899d5',\n",
       " '4d06bb29-42c2-4369-8456-9af99d264588',\n",
       " '5427ca11-3f5e-40b7-be30-e3a7f5341980',\n",
       " 'fcb7060a-293b-4c88-87a2-799e88444303',\n",
       " '00200503-f780-4ee8-b1b7-c103587b14a2',\n",
       " '8612d95a-091e-4a55-9b66-12e78781b03c',\n",
       " '5adfedba-60c9-42f7-9960-e101528b7add',\n",
       " '41c2b7a4-c53e-4884-964b-3edab9c0806d',\n",
       " '731e32f2-2cc9-4de3-abce-d22ab67594ea',\n",
       " 'c4aa5d91-9078-47e8-8ea8-750a18f58c70',\n",
       " '98582fc9-3ef7-49ec-9e60-b56359ca5076',\n",
       " '361c9c32-3757-48eb-a2df-d94c9f652082',\n",
       " '016d6028-566a-46e2-9ddd-f7f7e6e8d488',\n",
       " '5ff68dd0-bb94-4072-8bd3-1261a18781bd']"
      ]
     },
     "execution_count": 81,
     "metadata": {},
     "output_type": "execute_result"
    }
   ],
   "source": [
    "db.add_documents(document_chunks)"
   ]
  },
  {
   "cell_type": "markdown",
   "metadata": {},
   "source": [
    "### Tabel Tatalaksana Penyakit Ginjal Kronik pada Anak"
   ]
  },
  {
   "cell_type": "code",
   "execution_count": 82,
   "metadata": {},
   "outputs": [],
   "source": [
    "tata_laksana_tabel_elements = partition_docx(filename=\"docx/tatalaksana anak tabel.docx\")"
   ]
  },
  {
   "cell_type": "code",
   "execution_count": 83,
   "metadata": {},
   "outputs": [
    {
     "data": {
      "text/plain": [
       "''"
      ]
     },
     "execution_count": 83,
     "metadata": {},
     "output_type": "execute_result"
    }
   ],
   "source": [
    "import re\n",
    "\n",
    "tata_anak_tabel_text = \"\"\n",
    "for elem in tata_laksana_tabel_elements:\n",
    "    tata_anak_tabel_text += elem.text\n",
    "# print(tata_anak_tabel_text)\n",
    "table_list = re.split(r\"Tabel \\d\", tata_anak_tabel_text)\n",
    "table_list.pop(0)"
   ]
  },
  {
   "cell_type": "code",
   "execution_count": 84,
   "metadata": {},
   "outputs": [],
   "source": [
    "document_chunks = []\n",
    "for table in table_list:\n",
    "    temp = Document(\n",
    "            page_content=table,\n",
    "            metadata={'filename':'Tatalaksana_Penyakit_Ginjal_Kronik_pada_Anak.pdf'}\n",
    "        )\n",
    "    document_chunks.append(temp)"
   ]
  },
  {
   "cell_type": "code",
   "execution_count": 85,
   "metadata": {},
   "outputs": [
    {
     "data": {
      "text/plain": [
       "['b924465f-c8eb-4733-857e-7d24e02ca88c',\n",
       " '8208ceaa-0002-4730-ad4b-b8a86e1adb4e',\n",
       " '94515486-c494-49d4-833b-b445ef79921a',\n",
       " 'ed5c98a5-be0a-493e-a419-30976fbd32d0',\n",
       " 'b150eccc-3969-4d4f-8cfc-713ace636c10']"
      ]
     },
     "execution_count": 85,
     "metadata": {},
     "output_type": "execute_result"
    }
   ],
   "source": [
    "db.add_documents(document_chunks)"
   ]
  },
  {
   "cell_type": "markdown",
   "metadata": {},
   "source": [
    "\n",
    "# Langchain"
   ]
  },
  {
   "cell_type": "code",
   "execution_count": 86,
   "metadata": {},
   "outputs": [],
   "source": [
    "from langchain_community.document_loaders import TextLoader\n",
    "# CHROMA_PATH = \"final_test/langchain-multi\"\n",
    "CHROMA_PATH = \"final_test/langchain-bge\""
   ]
  },
  {
   "cell_type": "code",
   "execution_count": 87,
   "metadata": {},
   "outputs": [],
   "source": [
    "from langchain.text_splitter import RecursiveCharacterTextSplitter\n",
    "\n",
    "def split_text(documents: list[Document]):\n",
    "    print(\"Starting chunking\")\n",
    "\n",
    "    \"Recursive Splitter\"\n",
    "    text_splitter = RecursiveCharacterTextSplitter(\n",
    "        chunk_size=1500,\n",
    "        chunk_overlap=300,\n",
    "        length_function=len,\n",
    "        add_start_index=True,\n",
    "    )\n",
    "    chunks = text_splitter.split_documents(documents)\n",
    "    print(f\"Split {len(documents)} documents into {len(chunks)} chunks.\")\n",
    "    print(f\"len docs {len(chunks)}\")\n",
    "    document = chunks[10]\n",
    "    print(\"page content \\n\", document.page_content)\n",
    "    print(\"doc metadata \\n\", document.metadata)\n",
    "    return chunks"
   ]
  },
  {
   "cell_type": "markdown",
   "metadata": {},
   "source": [
    "## PNPK 2023"
   ]
  },
  {
   "cell_type": "code",
   "execution_count": 88,
   "metadata": {},
   "outputs": [],
   "source": [
    "loader = TextLoader(\"final/PNPK 2023 GGK_clean.txt\", encoding=\"UTF-8\")\n",
    "documents = loader.load()"
   ]
  },
  {
   "cell_type": "code",
   "execution_count": 89,
   "metadata": {},
   "outputs": [
    {
     "name": "stdout",
     "output_type": "stream",
     "text": [
      "Starting chunking\n",
      "Split 1 documents into 377 chunks.\n",
      "len docs 377\n",
      "page content \n",
      " albuminuria atau ACR urin.  \n",
      "3. Pasien dengan Hematuria\n",
      "Pasien dengan hematuria dilakukan pemeriksaan: [Peringkat bukti:\n",
      "Level IV]\n",
      "a.Pasien dengan hematuria harus disingkirkan kemungkinanpenyebab lain seperti infeksi saluran kemih\n",
      "b.Pasien dengan hematuria ma\n",
      "kroskopik/mikroskopik persisten,\n",
      "tanpa adanya proteinuria dan penurunan eGFR dirujuk kespesialis urologi untuk pemeriksaan lebih lanjut\n",
      "c.Pasien dengan hematuria makroskopik/mikroskopik, denganpenyerta klinis hipertensi, proteinuria, dan penurunan eGFR\n",
      "doc metadata \n",
      " {'source': 'final/PNPK 2023 GGK_clean.txt', 'start_index': 8941}\n"
     ]
    }
   ],
   "source": [
    "# langchain splitter\n",
    "chunks = split_text(documents)\n",
    "db = Chroma.from_documents(\n",
    "        chunks, \n",
    "        embedding, \n",
    "        persist_directory=CHROMA_PATH, \n",
    "        collection_metadata={\"hnsw:space\": \"cosine\"}\n",
    "    )\n",
    "db.persist()"
   ]
  },
  {
   "cell_type": "markdown",
   "metadata": {},
   "source": [
    "### Tabel PNPK"
   ]
  },
  {
   "cell_type": "code",
   "execution_count": 90,
   "metadata": {},
   "outputs": [],
   "source": [
    "elements = partition_docx(filename=\"docx/PNPK tabel.docx\")"
   ]
  },
  {
   "cell_type": "code",
   "execution_count": 91,
   "metadata": {},
   "outputs": [
    {
     "data": {
      "text/plain": [
       "''"
      ]
     },
     "execution_count": 91,
     "metadata": {},
     "output_type": "execute_result"
    }
   ],
   "source": [
    "import re\n",
    "\n",
    "text = \"\"\n",
    "for elem in elements:\n",
    "    text += elem.text\n",
    "# print(text)\n",
    "table_list = re.split(r\"Tabel \\d+\", text)\n",
    "table_list.pop(0)"
   ]
  },
  {
   "cell_type": "code",
   "execution_count": 92,
   "metadata": {},
   "outputs": [],
   "source": [
    "document_chunks = []\n",
    "for table in table_list:\n",
    "    temp = Document(\n",
    "            page_content=table,\n",
    "            metadata={'filename':'PNPK 2023 GGK.pdf'}\n",
    "        )\n",
    "    document_chunks.append(temp)"
   ]
  },
  {
   "cell_type": "code",
   "execution_count": 93,
   "metadata": {},
   "outputs": [
    {
     "data": {
      "text/plain": [
       "['11d99ee1-3dbc-4e7e-917c-2cbbaafc3ace',\n",
       " '9ecde06b-60ca-4d7c-930b-c6dad3139f4c',\n",
       " 'e4a0841a-1a0d-41ef-be0d-2ed55e41ac4a',\n",
       " '8ca81ec1-625b-48ef-96dc-d18837c521e0',\n",
       " '8642c19f-ae4c-46b0-917e-45f792430a5f',\n",
       " 'd43d6b42-3651-4c2f-b947-79fe9209a2a2',\n",
       " '3eff185d-4d46-403b-b837-f5199cd11480',\n",
       " 'c5a709d5-b182-44be-b2e2-f9625923c7d1',\n",
       " '2bca7ca3-f197-49d7-9d2d-32d9fac63745',\n",
       " 'cf94d203-6a9f-41c5-99b7-5357175ef22c',\n",
       " '0d6c82fb-2e2d-43fa-ac6d-44857c3dcaed',\n",
       " '6dfe652b-0850-410c-a155-193eaab4653c',\n",
       " '36d52e35-0890-4837-ae05-81937862f240',\n",
       " '75b0d59c-7289-4b69-8127-5aebef3bdb51',\n",
       " '4094c80f-5275-4a00-b220-91ec1290da8d',\n",
       " 'a987215f-13a4-4917-b1e0-32c624e60f27',\n",
       " '7fd05219-c996-4386-8869-385ca137505e',\n",
       " '3d5840bd-76fd-479e-98ee-8b3b58b20946',\n",
       " '414f589f-1c4c-4624-9d9d-6e0a5ca345bd',\n",
       " '57d2997e-278d-4779-a90f-fc2698e53e8d',\n",
       " 'd9a620c0-5bed-444e-9339-6ec4f6db5e98',\n",
       " '15e8c76b-1373-49ee-882c-8725c391341b',\n",
       " 'b960bed9-5bb9-427d-bf60-9ba86537b414',\n",
       " '98ec604d-81bf-424c-bde3-6268fe9a9fd9',\n",
       " '34b3f79e-6397-4147-9484-0f983772fbd4',\n",
       " 'aa05c06f-e1bb-4301-9ec8-cb2b6e685708',\n",
       " '11440b23-319b-4a40-8bca-0e6ec67bdd59',\n",
       " '9a29365f-1d98-41b8-88c0-23c758a5f558',\n",
       " 'c18f601b-8981-475f-8504-5f6e99e19393',\n",
       " '1fb568b8-e2fb-4f27-80e3-6916f77c9cb1',\n",
       " 'c228a8ff-3810-4850-8ae1-1e72e6195a09',\n",
       " '827f3821-2cc4-4055-b23f-564fb3c7dd02',\n",
       " '5bcc0744-e6dd-4b32-93f7-be472d36176e']"
      ]
     },
     "execution_count": 93,
     "metadata": {},
     "output_type": "execute_result"
    }
   ],
   "source": [
    "db.add_documents(document_chunks)"
   ]
  },
  {
   "cell_type": "markdown",
   "metadata": {},
   "source": [
    "## Nutrisi pada anak dengan penyakit ginjal"
   ]
  },
  {
   "cell_type": "code",
   "execution_count": 94,
   "metadata": {},
   "outputs": [],
   "source": [
    "loader = TextLoader(\"final/nutrisi_pada_anak_dengan_penyakit_ginjal - Copy_poster.txt\", encoding=\"UTF-8\")\n",
    "documents = loader.load()"
   ]
  },
  {
   "cell_type": "code",
   "execution_count": 95,
   "metadata": {},
   "outputs": [
    {
     "name": "stdout",
     "output_type": "stream",
     "text": [
      "Starting chunking\n",
      "Split 1 documents into 20 chunks.\n",
      "len docs 20\n",
      "page content \n",
      " d. Kekurangan berat badan lebih dari 10% berat badan ideal. e. Indeks massa tubuh kurang dari persentil 5 atau lebih dari persentil 85 untuk tinggi badan menurut umur. f. Kenaikan berat badan yang tidak adekuat dan perawakan pendek. g. Abnormalitas nutrisi yang berhubungan dengan gangguan biokimiawi. 4. Terapi kebutuhan energi Penyebab gangguan asupan kalori pada pasien PGK adalah penurunan selera makan dan muntah. Angka kematian PGK lebih tinggi pada anak dengan indeks massa tubuh di bawah atau di atas nilai normal. Faktor penyebab gangguan selera makan pada pasien PGK antara lain:  a. Pada anak dengan poliuria, rasa haus lebih  nyata dibanding rasa lapar . b. Pasien lebih menyukai makanan bergaram  dibandingkan makanan manis sebagai asupan  energi. c. Akumulasi selera makan yang meregulasi sitokin dan hormon. d. Refl  uks gastroesofagus. e. Gangguan motilitas lambung. f.  Pengosongan lambung terlambat. g. Obat-obatan. Pada anak dengan PGK derajat 2-5 dan  5D, rekomendasi kebutuhan energi adalah  sebagai berikut:  a. Kebutuhan energi untuk anak PGK adalah  100% perkiraan energi yang dibutuhkan sesuai umur kronologis. Penyesuaian asupan energi  berdasarkan  respons  terhadap kenaikan atau kehilangan berat badan. b. Tambahan nutrisi pada keadaan kurang asupan makanan dan pada anak yang tidak mampu mencapai berat badan dan pertumbuhan sesuai umur. c. Makanan tambahan melalui sonde apabila  kebutuhan energi anak tidak terpenuhi. d. Mengatur  keseimbangan  kalori  dari\n",
      "doc metadata \n",
      " {'source': 'final/nutrisi_pada_anak_dengan_penyakit_ginjal - Copy_poster.txt', 'start_index': 10537}\n"
     ]
    },
    {
     "data": {
      "text/plain": [
       "['c4a3f705-76f7-40f9-b05c-983c33ee1937',\n",
       " '0e3c0643-7c1e-41f5-9d09-8ec933fdc661',\n",
       " 'e2296d33-8afe-47b4-bb7d-3a2aaffa0662',\n",
       " '0e3481fd-542d-4622-a3d4-bf109de172e2',\n",
       " '6898a510-5185-4c72-8360-0031dafef709',\n",
       " '62161fa2-daec-4390-bfd1-06be8d7db799',\n",
       " 'ed57fe78-9d79-4bcd-a8cf-05bab3193bd0',\n",
       " '53f5106e-c99f-436d-ae70-39ace80662bc',\n",
       " 'cfebbfb4-10a3-449c-9fc5-593849ae9d19',\n",
       " '86defd21-dfd6-4ee2-9062-c41b1e868c93',\n",
       " 'a9165060-5853-4955-bd0d-3f3a8378f9ca',\n",
       " 'cdd90398-af2c-46eb-96be-648176855284',\n",
       " '6fbf9b22-2b63-4fa0-9c44-71f3388a7636',\n",
       " '715f322e-7604-4b6e-9797-c1946112919e',\n",
       " 'f62e0c01-c120-45c7-b2b2-060018e6d216',\n",
       " 'ec880734-4a5c-460b-a119-f018c3d15584',\n",
       " 'b22628b9-8afb-4677-b6a3-333c1be922fb',\n",
       " '90d583bc-9458-4a16-83fd-c39668c84def',\n",
       " 'd318eb56-d31c-4b1b-8ca5-93b6781b6a1d',\n",
       " '7a108d9f-6d32-4b94-8a99-c8b54f0717bd']"
      ]
     },
     "execution_count": 95,
     "metadata": {},
     "output_type": "execute_result"
    }
   ],
   "source": [
    "# langchain splitter\n",
    "chunks = split_text(documents)\n",
    "db.add_documents(chunks)"
   ]
  },
  {
   "cell_type": "markdown",
   "metadata": {},
   "source": [
    "### Tabel Nutrisi pada Anak dengan Penyakit Ginjal"
   ]
  },
  {
   "cell_type": "code",
   "execution_count": 96,
   "metadata": {},
   "outputs": [],
   "source": [
    "elements = partition_docx(filename=\"docx/nutrisi tabel.docx\")"
   ]
  },
  {
   "cell_type": "code",
   "execution_count": 97,
   "metadata": {},
   "outputs": [
    {
     "data": {
      "text/plain": [
       "''"
      ]
     },
     "execution_count": 97,
     "metadata": {},
     "output_type": "execute_result"
    }
   ],
   "source": [
    "import re\n",
    "\n",
    "text = \"\"\n",
    "for elem in elements:\n",
    "    text += elem.text\n",
    "# print(text)\n",
    "table_list = re.split(r\"Tabel \\d\", text)\n",
    "table_list.pop(0)"
   ]
  },
  {
   "cell_type": "code",
   "execution_count": 98,
   "metadata": {},
   "outputs": [
    {
     "name": "stdout",
     "output_type": "stream",
     "text": [
      "Klasifikasi derajat penyakit ginjal kronik.Derajat 1: Kerusakan ginjal dengan LFG normal atau meningkat, GFR ≥90 mL/min/1.73 m².Derajat 2: Kerusakan ginjal dengan penurunan ringan LFG, GFR 60-89 mL/min/1.73 m².Derajat 3: Penurunan sedang LFG, GFR 30-59 mL/min/1.73 m².Derajat 4: Penurunan berat LFG,  GFR 15-29 mL/min/1.73 m².Derajat 5: gagal ginjal,  GFR <15 mL/min/1.73 m²atau dialisis.\n",
      " Rekomendasi parameter dan frekuensi penilaian nutrisi untuk anak dengan PGK derajat 2 sampai 5 dan 5-dialisis (5D)Umur < 1 tahun, PGK 2 – 3, Asupan makanan : 0,5 – 3 bulan, Persentil tinggi badan terhadap umur : 0,5 – 1,5 bulan, Persentil velocity tinggi badan terhadap umur : 0,5 – 2 bulan, Perkiraan berat kering dan persentil berat badan terhadap umur : 0,5 – 1,5 bulan, Indeks massa tubuh : 0,5 – 1,5 bulan, Persentil lingkar kepala : 0,5 – 1,5 bulanUmur < 1 tahun, PGK 4 – 5, Asupan makanan : 0,5 – 3 bulan, Persentil tinggi badan terhadap umur : 0,5 – 1,5 bulan, Persentil velocity tinggi badan terhadap umur : 0,5 – 2 bulan, Perkiraan berat kering dan persentil berat badan terhadap umur : 0,5 – 1,5 bulan, Indeks massa tubuh : 0,5 – 1,5 bulan, Persentil lingkar kepala : 0,5 – 1,5 bulanUmur < 1 tahun, PGK 5D, Asupan makanan : 0,5 – 2 bulan, Persentil tinggi badan terhadap umur : 0,5 – 1 bulan, Persentil velocity tinggi badan terhadap umur : 0,5 – 1 bulan, Perkiraan berat kering dan persentil berat badan terhadap umur 0,25 – 1 bulan, Indeks massa tubuh : 0,5 – 1 bulan, Persentil lingkar kepala : 0,5 – 1 bulanUmur 1 – 3 tahun, PGK 2 – 3, Asupan makanan : 1 – 3 bulan, Persentil tinggi badan terhadap umur : 1 – 3 bulan, Persentil velocity tinggi badan terhadap umur : 1 – 6 bulan, Perkiraan berat kering dan persentil berat badan terhadap umur : 1 – 3 bulan, Indeks massa tubuh : 1 – 3 bulan, Persentil lingkar kepala : 1 – 3 bulanUmur 1 – 3 tahun, PGK 4 – 5, Asupan makanan : 1 – 3 bulan, Persentil tinggi badan terhadap umur : 1 – 2 bulan, Persentil velocity tinggi badan terhadap umur : 1 – 3 bulan, Perkiraan berat kering dan persentil berat badan terhadap umur : 1 – 2 bulan, Indeks massa tubuh : 1 – 2 bulan, Persentil lingkar kepala : 1 – 2 bulanUmur 1 – 3 tahun, PGK 5D, Asupan makanan : : 1 – 3 bulan, Persentil tinggi badan terhadap umur : 1 bulan, Persentil velocity tinggi badan terhadap umur : 1 – 2 bulan, Perkiraan berat kering dan persentil berat badan terhadap umur : 0,5 – 1 bulan, Indeks massa tubuh : 1 bulan, Persentil lingkar kepala : 1 – 2 bulanUmur > 3 tahun, PGK 2, Asupan makanan : 6 – 12 bulan, Persentil tinggi badan terhadap umur : 3 – 6 bulan, Persentil velocity tinggi badan terhadap umur : 6 bulan, Perkiraan berat kering dan persentil berat badan terhadap umur : 3 – 6 bulan, Indeks massa tubuh : 3 – 6 bulanUmur > 3 tahun, PGK 3, Asupan makanan : 6 bulan, Persentil tinggi badan terhadap umur : 3 – 6 bulan, Persentil velocity tinggi badan terhadap umur :  6 bulan, Perkiraan berat kering dan persentil berat badan terhadap umur : 3 – 6 bulan, Indeks massa tubuh : 3 – 6 bulanUmur > 3 tahun, PGK 4 – 5, Asupan makanan : 3 – 4 bulan, Persentil tinggi badan terhadap umur : 1 – 3 bulan, Persentil velocity tinggi badan terhadap umur : 6 bulan, Perkiraan berat kering dan persentil berat badan terhadap umur : 1 – 3 bulan, Indeks massa tubuh : 1 – 3 bulanUmur > 3 tahun, PGK 5D, Asupan makanan : 3 – 4 bulan, Persentil tinggi badan terhadap umur : 1 – 3 bulan, Persentil velocity tinggi badan terhadap umur : 6 bulan, Perkiraan berat kering dan persentil berat badan terhadap umur : 1 – 3 bulan, Indeks massa tubuh : 1 – 3 bulan\n",
      "Distribusi kebutuhan makronutrien pada anak PGK. Rerata distribusi makronutrien.Umur 1 – 4 tahun : karbohidrat 45% - 65%, lemak 30%-40%, protein 5%-20%Umur 1 – 4 tahun : karbohidrat 45% - 65%, lemak 25%-35%, protein 10%-30%\n",
      " Rekomendasi asupan makanan yang adekuat pada PGK.Bayi 0-6 bulan:Bayi usia 0-6 bulan memerlukan 400 mikrogram per hari vitamin A, 40 miligram per hari vitamin C, 4 miligram per hari vitamin E, 2,0 mikrogram per hari vitamin K, 0,2 miligram per hari vitamin B1, 0,3 miligram per hari vitamin B2, 2 miligram per hari vitamin B3, 0,4 mikrogram per hari vitamin B6, 65 mikrogram per hari asam folat, 0,4 mikrogram per hari vitamin B12, 1,7 miligram per hari asam pantotenat, 5 mikrogram per hari biotin, 200 mikrogram per hari tembaga, 15 mikrogram per hari selenium, dan 2 miligram per hari zink.Bayi 7-12 bulan:Bayi usia 7-12 bulan memerlukan 500 mikrogram per hari vitamin A, 50 miligram per hari vitamin C, 5 miligram per hari vitamin E, 2,5 mikrogram per hari vitamin K, 0,3 miligram per hari vitamin B1, 0,4 miligram per hari vitamin B2, 4 miligram per hari vitamin B3, 0,5 mikrogram per hari vitamin B6, 89 mikrogram per hari asam folat, 0,5 mikrogram per hari vitamin B12, 1,8 miligram per hari asam pantotenat, 6 mikrogram per hari biotin, 220 mikrogram per hari tembaga, 20 mikrogram per hari selenium, dan 3 miligram per hari zink.Anak 1-3 tahun:Anak usia 1-3 tahun memerlukan 300 mikrogram per hari vitamin A, 15 miligram per hari vitamin C, 6 miligram per hari vitamin E, 30 mikrogram per hari vitamin K, 0,5 miligram per hari vitamin B1, 0,5 miligram per hari vitamin B2, 6 miligram per hari vitamin B3, 0,9 mikrogram per hari vitamin B6, 150 mikrogram per hari asam folat, 0,9 mikrogram per hari vitamin B12, 2 miligram per hari asam pantotenat, 8 mikrogram per hari biotin, 340 mikrogram per hari tembaga, 20 mikrogram per hari selenium, dan 3 miligram per hari zink.Anak 4-8 tahun:Anak usia 4-8 tahun memerlukan 400 mikrogram per hari vitamin A, 25 miligram per hari vitamin C, 7 miligram per hari vitamin E, 55 mikrogram per hari vitamin K, 0,6 miligram per hari vitamin B1, 0,6 miligram per hari vitamin B2, 8 miligram per hari vitamin B3, 1,2 mikrogram per hari vitamin B6, 200 mikrogram per hari asam folat, 1,2 mikrogram per hari vitamin B12, 3 miligram per hari asam pantotenat, 12 mikrogram per hari biotin, 440 mikrogram per hari tembaga, 30 mikrogram per hari selenium, dan 5 miligram per hari zink.Laki-laki 9-13 tahun:Laki-laki usia 9-13 tahun memerlukan 600 mikrogram per hari vitamin A, 45 miligram per hari vitamin C, 11 miligram per hari vitamin E, 60 mikrogram per hari vitamin K, 0,9 miligram per hari vitamin B1, 0,9 miligram per hari vitamin B2, 12 miligram per hari vitamin B3, 1,8 mikrogram per hari vitamin B6, 300 mikrogram per hari asam folat, 1,8 mikrogram per hari vitamin B12, 4 miligram per hari asam pantotenat, 20 mikrogram per hari biotin, 700 mikrogram per hari tembaga, 40 mikrogram per hari selenium, dan 8 miligram per hari zink.Laki-laki 14-18 tahun:Laki-laki usia 14-18 tahun memerlukan 900 mikrogram per hari vitamin A, 75 miligram per hari vitamin C, 15 miligram per hari vitamin E, 75 mikrogram per hari vitamin K, 1,2 miligram per hari vitamin B1, 1,3 miligram per hari vitamin B2, 16 miligram per hari vitamin B3, 2,4 mikrogram per hari vitamin B6, 400 mikrogram per hari asam folat, 2,4 mikrogram per hari vitamin B12, 5 miligram per hari asam pantotenat, 25 mikrogram per hari biotin, 890 mikrogram per hari tembaga, 55 mikrogram per hari selenium, dan 11 miligram per hari zink.Perempuan 9-13 tahun:Perempuan usia 9-13 tahun memerlukan 600 mikrogram per hari vitamin A, 45 miligram per hari vitamin C, 11 miligram per hari vitamin E, 60 mikrogram per hari vitamin K, 0,9 miligram per hari vitamin B1, 0,9 miligram per hari vitamin B2, 12 miligram per hari vitamin B3, 1,8 mikrogram per hari vitamin B6, 300 mikrogram per hari asam folat, 1,8 mikrogram per hari vitamin B12, 4 miligram per hari asam pantotenat, 20 mikrogram per hari biotin, 700 mikrogram per hari tembaga, 40 mikrogram per hari selenium, dan 8 miligram per hari zink.Perempuan 14-18 tahun:Perempuan usia 14-18 tahun memerlukan 700 mikrogram per hari vitamin A, 65 miligram per hari vitamin C, 15 miligram per hari vitamin E, 75 mikrogram per hari vitamin K, 1,0 miligram per hari vitamin B1, 1,0 miligram per hari vitamin B2, 14 miligram per hari vitamin B3, 2,4 mikrogram per hari vitamin B6, 400 mikrogram per hari asam folat, 2,4 mikrogram per hari vitamin B12, 5 miligram per hari asam pantotenat, 25 mikrogram per hari biotin, 890 mikrogram per hari tembaga, 55 mikrogram per hari selenium, dan 9 miligram per hari zink.\n",
      " Rekomendasi asupan protein pada anak PGK derajat 3-5 dan 5DUmur 0 – 6 bulan, DRI 1,5 g/kg/hari, Rekomendasi PGK derajat 3 1,5 – 2,1 g/kg/h (100% - 140% DRI), Rekomendasi PGK derajat 4-5 1,5-1,9 g/kg/h (100%-120% DRI), Rekomendasi untuk hemodialisis 1,6 g/kg/h, Rekomendasi untuk dialisis peritoneal 1,8 g/kg/hUmur 7 – 12 bulan, DRI 1,2 g/kg/hari, Rekomendasi PGK derajat 3 1,2 – 1,7 g/kg/h (100% - 140% DRI), Rekomendasi PGK derajat 4-5 1,2-1,5 g/kg/h (100%-120% DRI), Rekomendasi untuk hemodialisis 1,9 g/kg/h, Rekomendasi untuk dialisis peritoneal 1,5 g/kg/hUmur 1 – 8 tahun, DRI 1,06 g/kg/hari, Rekomendasi PGK derajat 3 1,06 – 1,5 g/kg/h (100% - 140% DRI), Rekomendasi PGK derajat 4-5 1,06-1,25 g/kg/h (100%-120% DRI), Rekomendasi untuk hemodialisis 1,15 g/kg/h, Rekomendasi untuk dialisis peritoneal 1,9 g/kg/hUmur 4 – 13 tahun, DRI 0,95 g/kg/hari, Rekomendasi PGK derajat 3 0,95 – 1,95 g/kg/h (100% - 140% DRI), Rekomendasi PGK derajat 4-5 0,95-1,15 g/kg/h (100%-120% DRI), Rekomendasi untuk hemodialisis 1,06 g/kg/h, Rekomendasi untuk dialisis peritoneal 1,1 g/kg/hUmur 14 – 18 tahun, DRI 0,85 g/kg/hari, Rekomendasi PGK derajat 3 0,85 – 1,2 g/kg/h (100% - 140% DRI), Rekomendasi PGK derajat 4-5 0,95-1,06 g/kg/h (100%-120% DRI), Rekomendasi untuk hemodialisis 0,95 g/kg/h, Rekomendasi untuk dialisis peritoneal 1,0 g/kg/h\n",
      "Rekomendasi asupan kalsium untuk anak dengan PGK derajat 2-5 dan 5D.0-6 bulan: DRI 210 mg/dL, Batas atas untuk PGK derajat 2-5 & 5D (diet + pengikat fosfat) ≤ 4207-12 bulan: DRI 270 mg/dL, Batas atas untuk PGK derajat 2-5 & 5D (diet + pengikat fosfat) ≤ 5401-3 tahun: DRI 500 mg/dL, batas atas untuk anak sehat 2500, Batas atas untuk PGK derajat 2-5 & 5D (diet + pengikat fosfat) ≤ 10004-9 tahun: DRI 800 mg/dL, batas atas untuk anak sehat 2500, Batas atas untuk PGK derajat 2-5 & 5D (diet + pengikat fosfat) ≤ 16009-18 tahun: DRI 1800 mg/dL, batas atas untuk anak sehat 2500, Batas atas untuk PGK derajat 2-5 & 5D (diet + pengikat fosfat) ≤ 2500\n",
      " Rekomendasi maksimum asupan fosfor secara oral atau enteral untuk anak dengan PGK.0-6 bulan: DRI 100 mg/dL, Tinggi PTH dan normal fosfor ≤ 100, Tinggi PTH dan tinggi fosfor ≤ 807-12 bulan: DRI 275 mg/dL, Tinggi PTH dan normal fosfor ≤ 275, Tinggi PTH dan tinggi fosfor ≤ 2201-3 tahun: DRI 460 mg/dL, Tinggi PTH dan normal fosfor ≤ 460, Tinggi PTH dan tinggi fosfor ≤ 3704-9 tahun: DRI 500 mg/dL, Tinggi PTH dan normal fosfor ≤ 500, Tinggi PTH dan tinggi fosfor ≤ 4009-18 tahun: DRI 1250 mg/dL, Tinggi PTH dan normal fosfor ≤ 1250, Tinggi PTH dan tinggi fosfor ≤ 1000\n",
      " Target rerata PTH serum berdasarkan derajat PGK.Derajat PGK 3, Rerata LFG 30 – 59 mL/mnt/1,73m2, Target serum PTH 35 – 70 pg/mLDerajat PGK 4, Rerata LFG 15 – 29 mL/mnt/1,73m2, Target serum PTH 70 – 110 pg/mLDerajat PGK 5 dan 5D, Rerata LFG < 15 mL/mnt/1,73m2, Target serum PTH 200 – 300 pg/mL\n"
     ]
    }
   ],
   "source": [
    "for table in table_list:\n",
    "    print(table)"
   ]
  },
  {
   "cell_type": "code",
   "execution_count": 99,
   "metadata": {},
   "outputs": [],
   "source": [
    "from langchain_core.documents import Document\n",
    "\n",
    "document_chunks = []\n",
    "for table in table_list:\n",
    "    temp = Document(\n",
    "            page_content=table,\n",
    "            metadata={'filename':'nutrisi_pada_anak_dengan_penyakit_ginjal.pdf'}\n",
    "        )\n",
    "    document_chunks.append(temp)"
   ]
  },
  {
   "cell_type": "code",
   "execution_count": 100,
   "metadata": {},
   "outputs": [
    {
     "data": {
      "text/plain": [
       "['4c4b909b-156a-4bec-96b3-8ab517b45a18',\n",
       " '065e3554-71a0-4bef-8801-c6e6c885ba80',\n",
       " '37034ea8-8701-4541-b9e6-df2053cc448e',\n",
       " 'e0e1cb4a-a85d-4410-97e1-649580583d9e',\n",
       " 'de44379a-90ad-4d32-92e6-0455fa34382d',\n",
       " '0e60f01a-a61f-4062-a9a8-d6a88d4d91a3',\n",
       " '7f0e901d-4e02-4b4d-aa36-f154c28ebd7b',\n",
       " '8dfcae61-d2e6-4aee-a76f-da1ec9562106']"
      ]
     },
     "execution_count": 100,
     "metadata": {},
     "output_type": "execute_result"
    }
   ],
   "source": [
    "db.add_documents(document_chunks)"
   ]
  },
  {
   "cell_type": "markdown",
   "metadata": {},
   "source": [
    "## Tatalaksana Hemodialisis pada Anak dan Bayi"
   ]
  },
  {
   "cell_type": "code",
   "execution_count": 101,
   "metadata": {},
   "outputs": [],
   "source": [
    "loader = TextLoader(\"final/Tatalaksana_Hemodialisis_pada_Anak_dan_Bayi_clean.txt\", encoding='utf-8')\n",
    "documents = loader.load()"
   ]
  },
  {
   "cell_type": "code",
   "execution_count": 102,
   "metadata": {},
   "outputs": [
    {
     "name": "stdout",
     "output_type": "stream",
     "text": [
      "Starting chunking\n",
      "Split 1 documents into 27 chunks.\n",
      "len docs 27\n",
      "page content \n",
      " mendasar antara  hemodialisis dewasa dan pediatrik. Misalnya,  pada pediatrik, aliran darah dan hemodialyzer  dipilih atas dasar bahwa anak-anak dapat  mentolerir 8% (maksimum 10%) total volume  darah mereka di sirkuit ekstrakorporeal  berdasarkan perkiraan volume darah total 80  mL/ kg untuk bayi dan 70 mL/ kg untuk anak  yang lebih tua. Jika sirkuit hemodialisis terkecil  yang tersedia melebihi volume kritis ini, dapat  ditutupi dengan larutan albumin manusia  4,5% atau darah donor untuk mencegah  gejala hipovolemia. Karena aliran darah bayi dan anak memiliki  kaliber lebih kecil, kecepatan pompa darah  cenderung lebih cepat, dengan sasaran 8–10  mL/kg/menit, dibandingkan 3-5 mL/kg/menit  untuk hemodialisis dewasa. Penggulung  kepala pompa darah (blood pump head  rollers) harus disesuaikan dengan ukuran  aliran dialisis, hemolisis mekanik dapat terjadi  jika aliran darah dewasa digunakan dalam  mesin dialisis yang disiapkan untuk saluran  pediatrik. Untuk menghindari hipovolemia  dan  hipotensi,  pedoman  dari  Inggris\n",
      "doc metadata \n",
      " {'source': 'final/Tatalaksana_Hemodialisis_pada_Anak_dan_Bayi_clean.txt', 'start_index': 10108}\n"
     ]
    },
    {
     "data": {
      "text/plain": [
       "['351cac43-94db-4a66-abc7-e46cbfb36520',\n",
       " '60a4e4ce-de79-4d7e-8920-cc0e9280711f',\n",
       " '29a8bcf6-a108-4604-b030-d4f23845988b',\n",
       " 'de0c317a-4590-4ba3-a70e-93d83632c977',\n",
       " '1c26b061-04a4-4364-b2c3-e415ef8dfe3a',\n",
       " '3e378cc6-99a7-435e-9fc8-57e358712b1d',\n",
       " '0471d3ff-9d6b-4e12-a28a-aead47d91338',\n",
       " '36936719-68e9-407d-ab9b-9b1199978988',\n",
       " '9b844f19-23da-4ff2-be3a-b109bcba9709',\n",
       " '3a225c8a-a5e7-49e2-ba4b-8d1aa48dfb49',\n",
       " '28dde195-79c3-4b9d-a35f-e04717b40599',\n",
       " '04151298-4cc0-4817-891d-7c4712eded2a',\n",
       " '8a47b3ce-9869-4e3a-8151-0f9f54e79c78',\n",
       " 'de14afcf-cce3-49df-8aae-ae1182359984',\n",
       " '0c81bd5f-a412-4c1c-a157-ff58817f10b4',\n",
       " 'dc781849-2472-43f0-bc17-44823d256960',\n",
       " 'e91778d8-ad8e-4fbd-91c3-e5f00a2f7bdb',\n",
       " '109d5c51-7e58-4a73-84a8-5818b1453bad',\n",
       " '299e3908-b2da-47c5-b45b-33a99e5384f5',\n",
       " '62c1a35b-d98a-42c5-ac54-f0af2c7484c1',\n",
       " '7c9d52be-a146-4670-8430-db4643727b65',\n",
       " '3c581f1b-a1ee-49af-9a98-452410af45ec',\n",
       " '3c02156c-3c3e-4d6d-8616-c3e47a6b5237',\n",
       " 'be4ac501-9910-419c-a37f-b73092c03339',\n",
       " '9c0bb0ec-2e22-4915-93a7-fe28d8b5abc7',\n",
       " '264ad168-9e0b-450b-8b00-a432c95ef7ef',\n",
       " '8a7c0979-7053-43df-957c-bc18a9c9ecfa']"
      ]
     },
     "execution_count": 102,
     "metadata": {},
     "output_type": "execute_result"
    }
   ],
   "source": [
    "chunks = split_text(documents)\n",
    "db.add_documents(chunks)"
   ]
  },
  {
   "cell_type": "markdown",
   "metadata": {},
   "source": [
    "## Tatalaksana Penyakit Ginjal Kronik pada Anak"
   ]
  },
  {
   "cell_type": "code",
   "execution_count": 103,
   "metadata": {},
   "outputs": [],
   "source": [
    "loader = TextLoader(\"final/Tatalaksana_Penyakit_Ginjal_Kronik_pada_Anak_clean_split_final.txt\", encoding='utf-8')\n",
    "documents = loader.load()"
   ]
  },
  {
   "cell_type": "code",
   "execution_count": 104,
   "metadata": {},
   "outputs": [
    {
     "name": "stdout",
     "output_type": "stream",
     "text": [
      "Starting chunking\n",
      "Split 1 documents into 12 chunks.\n",
      "len docs 12\n",
      "page content \n",
      " Penyakit ginjal kronis stadium 5 merupakan indikasi untuk transplantasi. Meskipun demikian, tidak semua \n",
      "pasien dengan penyakit ginjal kronis stadium 5 dapat \n",
      "menjadi kandidat untuk transplantasi ginjal. Prosedur ini \n",
      "dapat terlalu berisiko bagi sebagian karena komorbiditas\n",
      "yang telah diderita pasien atau karena kontraindikasi \n",
      "tertentu, seperti infeksi kronis yang akan dieksaserbasi oleh imunosupresi. Kontraindikasi absolut bagi transplantasi ginjal adalah keganasan aktif, terutama jika telah bermetastasis. Infeksi HIV dan potensi rekurensi penyakit ginjal juga perlu dipertimbangkan \n",
      "dalam rencana transplantasi. \n",
      "Prognosis pasien dengan penyakit ginjal kronis adalah \n",
      "bervariasi menurut stadium dan penatalaksanaan yang dilakukan. Dengandeteksi dan penatalaksanaan dini,morbiditas dan mortalitas diharapkan dapat diturunkan.  \n",
      "3.Kesimpulan\n",
      "Penyakit ginjal kronis pada anak dapat disebabkan penyakit \n",
      "kongenital, didapat, genetik, atau metabolik. Tujuan penatalaksanaan penyakit ginjal kronik adalah untuk menganani penyebab gangguan ginjal, primer\n",
      "menghilangkan atau kondisi-kondisi meminimalisir \n",
      "komorbid, mencegah atau memperlambat penurunan fungsi ginjal, menangani gangguan metabolik yang terkait,mencegah dan menangani penyakit kardiovaskular, dan \n",
      "mengoptimalkan pertumbuhan dan perkembangan.\n",
      "doc metadata \n",
      " {'source': 'final/Tatalaksana_Penyakit_Ginjal_Kronik_pada_Anak_clean_split_final.txt', 'start_index': 11755}\n"
     ]
    },
    {
     "data": {
      "text/plain": [
       "['63938315-4350-4979-a17c-6320c29217ff',\n",
       " '82cc9868-5bc2-43b2-b9b1-73b5fd2639a3',\n",
       " '881c4e52-be30-452d-8b33-46dedb027a16',\n",
       " '994e9940-a9fa-4b68-96a8-bd992b98b277',\n",
       " '4d0c2282-e159-4a55-b382-5ac6d7340857',\n",
       " 'ab8c7af4-26a8-45de-9896-ae0c9ea4c4e1',\n",
       " '378b3aa9-92c5-4a27-bb4f-9ccf9a0f2de2',\n",
       " '8357191f-d8ab-4432-876a-43a008b2be3d',\n",
       " '4531c78e-8c31-4c07-a47d-6695fcb2fac0',\n",
       " 'c5aa9c3f-d632-45e2-a33b-6a458d13fcf8',\n",
       " '72bed413-2728-4f0f-a2ee-3c22ff50d59b',\n",
       " 'c3d730a1-f2ec-4360-a180-f3b578d4e00c']"
      ]
     },
     "execution_count": 104,
     "metadata": {},
     "output_type": "execute_result"
    }
   ],
   "source": [
    "chunks = split_text(documents)\n",
    "db.add_documents(chunks)"
   ]
  },
  {
   "cell_type": "markdown",
   "metadata": {},
   "source": [
    "### Tabel Tatalaksana Penyakit Ginjal Kronik pada Anak"
   ]
  },
  {
   "cell_type": "code",
   "execution_count": 105,
   "metadata": {},
   "outputs": [],
   "source": [
    "tata_laksana_tabel_elements = partition_docx(filename=\"docx/tatalaksana anak tabel.docx\")"
   ]
  },
  {
   "cell_type": "code",
   "execution_count": 106,
   "metadata": {},
   "outputs": [
    {
     "data": {
      "text/plain": [
       "''"
      ]
     },
     "execution_count": 106,
     "metadata": {},
     "output_type": "execute_result"
    }
   ],
   "source": [
    "import re\n",
    "\n",
    "tata_anak_tabel_text = \"\"\n",
    "for elem in tata_laksana_tabel_elements:\n",
    "    tata_anak_tabel_text += elem.text\n",
    "# print(tata_anak_tabel_text)\n",
    "table_list = re.split(r\"Tabel \\d\", tata_anak_tabel_text)\n",
    "table_list.pop(0)"
   ]
  },
  {
   "cell_type": "code",
   "execution_count": 107,
   "metadata": {},
   "outputs": [],
   "source": [
    "document_chunks = []\n",
    "for table in table_list:\n",
    "    temp = Document(\n",
    "            page_content=table,\n",
    "            metadata={'filename':'Tatalaksana_Penyakit_Ginjal_Kronik_pada_Anak.pdf'}\n",
    "        )\n",
    "    document_chunks.append(temp)"
   ]
  },
  {
   "cell_type": "code",
   "execution_count": 108,
   "metadata": {},
   "outputs": [
    {
     "data": {
      "text/plain": [
       "['29a825aa-4db0-45e8-bbda-59fd87b1da26',\n",
       " 'e969cfe6-18c7-4e64-89c3-12867f226cde',\n",
       " '51b90175-dd56-49c5-98d3-fa36448770dd',\n",
       " '6868f37b-7c0f-4ea7-b0ca-c0a9a3f0d4f4',\n",
       " '8860c201-696e-4b45-8d55-fbbce4061238']"
      ]
     },
     "execution_count": 108,
     "metadata": {},
     "output_type": "execute_result"
    }
   ],
   "source": [
    "db.add_documents(document_chunks)"
   ]
  }
 ],
 "metadata": {
  "kernelspec": {
   "display_name": "Python 3",
   "language": "python",
   "name": "python3"
  },
  "language_info": {
   "codemirror_mode": {
    "name": "ipython",
    "version": 3
   },
   "file_extension": ".py",
   "mimetype": "text/x-python",
   "name": "python",
   "nbconvert_exporter": "python",
   "pygments_lexer": "ipython3",
   "version": "3.9.13"
  }
 },
 "nbformat": 4,
 "nbformat_minor": 2
}
