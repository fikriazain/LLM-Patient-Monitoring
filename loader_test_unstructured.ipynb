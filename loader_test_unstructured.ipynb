{
 "cells": [
  {
   "cell_type": "code",
   "execution_count": 1,
   "metadata": {},
   "outputs": [],
   "source": [
    "from langchain.text_splitter import RecursiveCharacterTextSplitter, CharacterTextSplitter\n",
    "from langchain.vectorstores.chroma import Chroma\n",
    "from langchain_community.embeddings import HuggingFaceEmbeddings\n",
    "from langchain.schema import Document\n",
    "from unstructured.partition.pdf import partition_pdf\n",
    "import time, os, shutil"
   ]
  },
  {
   "cell_type": "code",
   "execution_count": 19,
   "metadata": {},
   "outputs": [
    {
     "name": "stderr",
     "output_type": "stream",
     "text": [
      "This function will be deprecated in a future release and `unstructured` will simply use the DEFAULT_MODEL from `unstructured_inference.model.base` to set default model name\n"
     ]
    }
   ],
   "source": [
    "from langchain_community.document_loaders import UnstructuredPDFLoader\n",
    "\n",
    "# filename = 'nutrisi_pada_anak_dengan_penyakit_ginjal_clean_poster.pdf'\n",
    "filename = 'Tatalaksana_Hemodialisis_pada_Anak_dan_Bayi_clean_poster.pdf'\n",
    "# filepath = f'..\\data\\pdfs-blocks\\\\{filename}'\n",
    "filepath = f'..\\data\\pdfs-poster\\\\{filename}'\n",
    "loader = UnstructuredPDFLoader(filepath, \n",
    "                               mode=\"elements\", \n",
    "                               strategy=\"hi_res\", \n",
    "                               infer_table_structure=True)\n",
    "documents = loader.load()"
   ]
  },
  {
   "cell_type": "code",
   "execution_count": 20,
   "metadata": {},
   "outputs": [
    {
     "name": "stdout",
     "output_type": "stream",
     "text": [
      "-----------------------------------\n",
      "ABSTRAK Penyakit ginjal kronik (PGK) merupakan masalah kesehatan serius pada anak dengan morbiditas dan mortalitas yang makin meningkat serta menimbulkan masalah sosial ekonomi yang signifikan. Penyebab utama PGK pada anak adalah anomali kongenital ginjal dan saluran kemih, diikuti nefropati herediter dan glomerulonefritis. Indikasi absolut untuk memulai dialisis pada anak meliputi anuria, gangguan elektrolit berat, gangguan neurologis pada gagal ginjal, perikarditis, diatesis perdarahan, mual berulang, gejala uremia, volume berlebihan, atau kegagalan pertumbuhan meskipun terapi medis sudah tepat, dan hipertensi. Mengoptimalkan status gizi dengan dukungan ahli diet adalah elemen dasar perawatan anak dengan penyakit ginjal kronik stadium 5. Peran ahli diet adalah meminimalkan gejala uremia, mencegah komplikasi penyakit tulang akibat gangguan ginjal (renal bone disease), dan mengoptimalkan pertumbuhan anak. Kata kunci: Anak, hemodialisis, indikasi, penyakit ginjal kronik\n",
      "Image\n",
      "-----------------------------------\n",
      "PENDAHULUAN Penyakit ginjal kronik (PGK) atau chronic kidney disease (CKD) merupakan masalah kesehatan serius pada anak dengan morbiditas dan mortalitas yang makin meningkat serta menimbulkan masalah sosial ekonomi yang signifikan. Deteksi dan intervensi dini sangat penting untuk memperlambat progresivitas penyakit dan menjaga_ kualitas hidup, namun pengobatan sering terlambat karena kurangnya kesadaran masyarakat dan tenaga medis. Kejadian PGK di setiap negara berbeda dan diperkirakan lebih tinggi karena banyak kasus yang tidak terdeteksi.'! The European Society for Pediatric Nephrology and European Renal Association European Dialysis and Transplant Association (ESPN/ERA-EDTA), the International Pediatric Peritoneal Dialysis Network (IPPN), dan Australia and New Zealand (ANZDATA) Registries telah mengidentifikasi secara khusus\n",
      "Image\n",
      "-----------------------------------\n",
      "neonatus dalam kelompok bay i. Dijumpai 264 bayi yang menjalani dialisis kronik di 32 negara antara tahun 2000 dan 2011; pada sekitar 18% bayi berusia <2 tahun di Eropa serta 6,8% di Australia dan Se imur dan Barat jandia Baru. Di Jepang, 8,6% bayi yang didialisis berumur <5 tahun Di Indonesia belum ada data nasional tentang kejadian PGK. Tahun 2006 dan 2007 dijumpai 382 pasien PGK di De Kesehatan Anak RSCM Jakarta. mendapatkan pasien baru a tahun sebanyak 0,41%, turun tahun 20152 partemen Ilmu Data IRR 2016 nak usia 1-14 ari 0,63% pada Pengenalan CKD dini sangat penting karena berkaitan dengan penge jolaan untuk mempertahankan kemampuan — fungsional nefron tersisa selama mungkin, sehingga penderita dapat hidup layak dan tumbuh maksimal. Kesulitan mengenali penderita CKD dini karena klinis CKD baru terlihat bila fungsi ginjal atau laju filtrasi glomerulus\n",
      "Image\n",
      "-----------------------------------\n",
      "(LFG) <50%, berupa nyeri kepala, lelah, kurang nafsu makan, muntah, poliuria, dan gangguan pertumbuhan. Kecurigaan adanya CKD diperkuat bila ada riwayat penyakit ginjal sebelumnya. Peran tenaga kesehatan ataupun dokter umum adalah mengenali secara dini penderita CKD dan kemudian merujuknya ke dokter spesialis anak atau ke dokter konsultan ginjal anak agar dapat ditangani seawal mungkin, sehingga dapat mencegah atau menghambat progresivitas kerusakan ginjal.* Pelaksanaan hemodialisis pada anak membutuhkan tim yang terdiri dari ahli ginjal, perawat, pekerja sosial, administrasi, dan ahli gizi yang memiliki pelatihan dan keahlian dalam dialisis dan ilmu pediatri° DEFINISI DAN KLASIFIKASI Penyakit ginjal kronik merupakan terminologi The National Kidney Foundation’s Kidney Disease and Outcome Quality Initiative (NKF-\n",
      "Image\n",
      "-----------------------------------\n",
      "KDOQ)) pada tahun 2002, merupakan penyakit ginjal dengan kerusakan ginjal minimal tiga bulan dengan atau tanpa penurunan laju_ filtrasi glomerulus (LFG).’ Pada 2012, Kidney Disease: Improving Global Outcomes (KDIGO) ~mendefinisikan CKD — sebagai kelainan struktural atau fungsional ginjal yang berlangsung lebih dari 3 bulan. Namun, definisi ini tidak berlaku untuk anak di bawah 2 tahun, yang nefronnya belum dewasa. Juga, bayi yang lahir dengan anomali ginjal bawaan mungkin didiagnosis CKD sebelum mencapai usia 3 bulan.” NKF-KDOQI membagi PGK dalam lima stadium, yaitu:' M@ Stadium 1: kerusakan ginjal dengan LFG normal atau peningkatan LFG (=90 mL/ menit/1,73 m’) M@ Stadium 2: kerusakan ginjal dengan penurunan LFG ringan (60-89 mL/ menit/1,73 m’) M@ Stadium 3: penurunan LFG sedang (30-59 mL/menit/1,73 m’) M@ Stadium 4: penurunan LFG berat (15-29 mL/menit/1,73 m’) @ Stadium 5: gagal ginjal (LFG <15 mL/ menit/1,73 m? atau dialisis) Nilai LFG dapat dihitung berdasarkan rumus berikut:! LFG (mL/menit/1,73 m2) =K X TB (cm Kreatinin Serum (mg/dL) +K = konstanta (K= 0,33 untuk bayi berat lahir rendah di bawah usia 1 tahun, K= 0,45 untuk bayi berat lahir cukup bulan sampai 1 tahun, K= 0,55 untuk anak sampai umur 13 tahun, K= 0,57 untuk anak perempuan usia 13-21 tahun, dan 0,70 untuk anak laki-laki usia 13 — 21 tahun). + TB = tinggi badan Formula baru yang merupakan modifikasi formula Schwartz.’ LFG = 0,413 X TB (cm Kreatinin Serum (mg/dL) Pengukuran serum protein —cystatin C merupakan — alternatif baru untuk memperkirakan laju filtrasi glomerulus, dan dapat digunakan bila LFG lebih rendah? Perbedaan penting antara penyakit ginjal tahap akhir dewasa dan anak adalah etiologi PGK. Penyebab PGK pada dewasa didominasi nefropati diabetik, hipertensi, dan penyakit polikistik ginjal autosomal\n",
      "Image\n",
      "-----------------------------------\n",
      "dominan. Penyebab utama PGK pada anak adalah anomali kongenital ginjal dan saluran kemih (congenital anomalies of the kidney and urinary tract/ CAKUT) pada sekitar 50%, diikuti oleh nefropati herediter dan glomerulonefritis. Etiologi CKD bervariasi berdasarkan usia dan ras, anak-anak kurang dari 12 tahun lebih mungkin memiliki CAKUT; penyakit berbasis glomerular fokus segmental glomerulosklerosis lebih =mungkin pada remaja kulit hitam. Obesitas pada anak-anak adalah masalah baru di seluruh dunia, dan baru-baru ini penelitian telah mengidentifikasi disfungsi ginjal dini dan risiko CKD pada anak-anak obesitas. Selain itu, bayi berat lahir rendah dan usia kehamilan yang pendek meningkatkan risiko penyakit ginjal tahap akhir pada masa remaja.°° GAMBARAN KLINIS Manifestasi klinis yang sering dijumpai pada PGK pada anak adalah: 1. Gangguan Pertumbuhan Gangguan pertumbuhan adalah hal yang umum dan mungkin yang paling sering terlihat pada anak-anak dengan PGK. Tingkat gangguan pertumbuhan meningkat saat LFG menurun, meskipun penurunan_ signifikan dalam pertumbuhan terlihat di semua tingkat fungsi ginjal. Penyebab gangguan pertumbuhan diyakini multifaktorial, termasuk fungsi growth hormone (GH) dan insulin-like growth factor-| (IGF-I), status nutrisi, keseimbangan asam-basa, dan mineralisasi tulang. Usia saat terjadinya PGK berkorelasi dengan tingkat retardasi pertumbuhan karena anak-anak yang memiliki fungsi ginjal normal mencapai sepertiga tinggi dewasa terakhir mereka selama 2 tahun pertama setelah ahir2\"° 2. Kelainan Mineral dan Tulang elainan mineral dan tulang pada PGK adalah dijumpainya satu atau kombinasi dari: abnormalitas kalsium, fosfor, jormon paratiroid; abnormalitas jaringan, pertumbuhan, atau = kekuatan —_tulang; alsifikasi vaskular atau jaringan — ikat jainnya. Keseimbangan kalsium, fosfor, dan magnesium yang dipertahankan oleh ginjal etika fungsi ginjal normal. Pada PGK, dapat terjadi hipokalsemia dan hiperfosfatemia.°\"° 3. Anemia Anemia merupakan komplikasi umum pada anak-anak PGK yang menyebabkan banyak\n",
      "Image\n",
      "-----------------------------------\n",
      "konsekuensi klinis yang merugikan, termasuk kualitas hidup yang buruk, tertekannya kemampuan —neurokognitif, | mengurangi kapasitas latihan, dan merupakan faktor risiko kardiovaskular, seperti hipertrofi ventrikel kiri. Seperti pada orang dewasa, tujuan perawatan adalah untuk mencapai target hemoglobin sekitar 11 g/ dL? 4. Hipertensi Hipertensi dapat terjadi pada tahap awal penyakit dan prevalensinya meningkat jika LFG makin menurun. Penelitian oleh Chronic Kidney Disease in Children (CKiD) menunjukkan bahwa hipertensi terdapat pada 54% peserta saat awal dan 48% anak-anak memiliki tekanan darah tinggi meskipun menggunakan obat antihipertensi, termasuk penghambat sistem renin angiotensin-aldosteron (RAAS-|). Jika tekanan darah diukur dengan pemantauan 24 jam tekanan darah (ABPM), mereka menunjukkan variabilitas sistolik dan diastolik lebih tinggi dan variabilitas detak jantung lebih rendah dibandingkan anak-anak PGK tanpa hipertensi.?\"\" HEMODIALISIS PADA BAY! DAN ANAK SEJARAH Hemodialisis pertama kali dilakukan pada anak-anak di era tahun 1960-an dan peritoneal dialisis sekitar satu dekade emudian. Di Inggris, anak dengan penyakit ginjal kronis stadium 5 yang membutuhkan dialisis (CKD5d), hampir dua kali lebih banyak menerima dialisis peritoneal dibandingkan hemodialisis, meskipun di seluruh dunia anak lebih banyak menggunakan hemodialisis.'? NDIKAS eputusan memulai dialisis pada anak-anak sangat beragam, tergantung fungsi ginjal yang tersisa, nilai-nilai laboratorium, faktor- faktor psikososial, dan waktu yang optimal untuk pencangkokan ginjal® Di beberapa negara Eropa, hemodialisis (HD) lebih sering dilakukan untuk anak-anak di atas usia lima tahun. HD tidak ditawarkan kepada anak-anak kurang dari 5 tahun kecuali ada kontra-indikasi penting untuk peritoneal dialysis (PD). Untuk anak berusia lebih tua, HD diterapkan jika berhenti dari program PD atau jika ada alasan medis (jarang) atau psikososial (lebih sering) untuk tidak melakukan PD. Sebaliknya, PD ditawarkan kepada anak- anak terutama di bawah usia dua tahun atau\n",
      "Image\n",
      "-----------------------------------\n",
      "beratnya kurang dari 10 kg. Sebuah studi Eropa multisenter telah menemukan bahwa prioritas pertama PD adalah usia anak (30%), pilihan orang tua (27%), jarak dari unit (14%), pilihan pasien (11%), kondisi sosial (7%), dan tidak dapat melakukan satu mode (6%). Memilih mode dialisis, baik HD maupun PD, untuk anak membutuhkan pertimbangan, di antaranya faktor-faktor lain dari kemungkinan dampak dari salah satu mode dialisis pada pemeliharaan sisa fungsi ginjal (RRF), karena dampaknya yang spesifik pada hasil pasien. Meskipun tidak ada konsensus umum, peritoneal dialisis dikaitkan dengan kurangnya risiko kehilangan RRF.'* Indikasi absolut memulai dialisis pada anak meliputi anuria, gangguan elektrolit berat, gangguan neurologis pada gagal ginjal (misalnya ensefalopati, kejang, foot drop), perikarditis, diatesis perdarahan, — mual berulang, gejala uremia, volume berlebihan, atau kegagalan pertumbuhan meskipun terapi medis sudah tepat, dan hipertensi. Efek samping uremia yaitu kelelahan dan kelemahan, disfungsi kognitif, gangguan tidur, dan gejala gastrointestinal, merupakan indikasi relatif untuk dimulainya dialisis.®'?\" HEMODIALISIS PEDIATRIK Ada beberapa perbedaan mendasar antara hemodialisis dewasa dan pediatrik. Misalnya, pada pediatrik, aliran darah dan hemodialyzer dipilih atas dasar bahwa anak-anak dapat mentolerir 8% (maksimum 10%) total volume darah mereka di sirkuit ekstrakorporeal berdasarkan perkiraan volume darah total 80 mL/kg untuk bayi dan 70 mL/ kg untuk anak yang lebih tua. Jika sirkuit hemodialisis terkecil yang tersedia melebihi volume kritis ini, dapat ditutupi dengan larutan albumin manusia 45% atau darah donor untuk mencegah gejala hipovolemia.'?:'* Karena aliran darah bayi dan anak memiliki kaliber lebih kecil, kecepatan pompa darah cenderung lebih cepat, dengan sasaran 8-10 mL/kg/menit, dibandingkan 3-5 mL/kg/menit untuk hemodialisis dewasa. Penggulung kepala pompa darah (blood pump head rollers) harus disesuaikan dengan ukuran aliran dialisis, hemolisis mekanik dapat terjadi jika aliran darah dewasa digunakan dalam mesin dialisis yang disiapkan untuk saluran pediatrik.'2 Untuk menghindari hipovolemia dan hipotensi, pedoman dari Inggris\n",
      "Image\n",
      "-----------------------------------\n",
      "merekomendasikan volume cairan yang dibuang selama hemodialisis tidak melebihi 5% berat badan ideal anak.’ MESIN DIALISIS Pililhan dialisat bersifat individual, dan bikarbonat adalah buffer standar dengan konsentrasi antara 32 dan 35 mmol/L. Harus diingat bahwa sebagian besar dialisat juga mengandung 2-3 mmol/L asetat untuk mencegah deposisi kalsium dalam mesin dialisis, dan meskipun asidosis metabolik perlu. diperbaiki untuk — pertumbuhan optimal, alkalosis juga seharusnya dihindari untuk =mencegah pergeseran _ elektrolit (hipokalemia dan kalsium) dan efek pada pusat pernapasan. Karena penggunaan uas kalsium pengikat fosfat oral, biasanya digunakan konsentrasi kalsium dialisat rendah (1,25 mmol/L). Sebagian besar unit dialisis menggunakan dialisat_ yang mengandung onsentrasi glukosa fisiologis (1 g/L atau 5,5 mmol/L) untuk mencegah hipoglikemia. Larutan bebas kalium jarang digunakan arena risiko hipokalemia. Pada pediatrik, termasuk anak-anak dengan salt losing states, onsentrasi natrium dialisat biasanya 138- 144 mmol/L; konsentrasi natrium lebih tinggi di satu sisi berisiko meningkatkan rasa haus dan berat badan antar-dialitik, tetapi di sisi jain, ada penurunan risiko hipotensi intra- dialitik. Potensi keuntungan_ individualisasi dialisat harus seimbang dengan masalah penyimpanan berbagai larutan — elektrolit dialisat, kekeliruan komposisi dialisat, proporsi mesin, dan kesalahan program keperawatan. Banyak unit dialisis memilih standardisasi omposisi dialisat untuk mengurangi biaya dan kesalahan pemrograman.'? AKSES DARAH DAN SIRKULASI eberhasilan hemodialisis kronis tergantung pada akses vaskular yang baik: fistula arteriovenosa internal (AVF), shunt (AVS), cangkok (AVG), atau kateter vena sentral.'° Bayi baru lahir dapat didialisis melalui vena umbilikal menggunakan kateter vena umbilikal. Pada anak yang lebih tua, kanulasi perkutan vena femoralis adalah metode pilihan. Satu atau dua vena femoralis dihubungkan menggunakan teknik Setdinger. Jika harus menggunakan dua kateter pada anak kecil, lebih mudah mengkateter masing- masing vena femoralis daripada insersi dua kateter di sisi sama. Satu kateter menuju ke vena cava inferior (“vena\" infus), yang lain\n",
      "Image\n",
      "-----------------------------------\n",
      "diposisikan di vena iliaka internal (“arteri” seri). Cara ini dapat mengurangi_ resirkulasi jika ujung kedua akses bersebelahan satu sama lain. Aliran darah yang tepat mungkin tercapai dengan kateter polyurethane dengan internal diameter setidaknya 1,3 mm.\" Pemasangan kateter dapat menjadi pilihan utama sebagai akses khususnya pada gagal ginjal akut atau gagal ginjal kronis dengan presentasi akut, pada anak-anak kecil dan pada hemodialisis kronis yang berjalan singkat. Akses kateter melalui vena jugularis interna lebih unggul daripada vena subklavia jika nantinya akan dilakukan pemasangan fistula arteriovenosa di lengan. Akses kateter femoralis seharusnya hanya digunakan untuk akses “penyelamatan dan bersifat sementara” jika perawatan intensif diperlukan: mudah dilakukan tetapi dengan risiko infeksi dan trombosis lebih tinggi. Untuk perawatan jangka panjang harus digunakan silikon kateter (Hickman) yang dimasukkan melalui vena jugularis atau subclavia dengan ujung diletakkan di atrium kanan. Pada anak-anak dengan berat badan kurang dari 15 kg, dialisis akan efisien menggunakan kateter lumen tunggal (9,6 Fr) diameter internal 1,6 mm dan sistem jarum tunggal (Bard-Hickman catheter). Pada anak yang lebih besar, lebih disukai dual-lumen Hickman (10 dan 12 Fr) atau kateter Pediatric Quinton Permcath (14 Fr) dengan ukuran lumen masing-masing 1,3 atau 1,6 mm. Dapat tercapai aliran darah 25-50 mL/ menit dengan lumen tunggal dan 50-100 mL/ menit dengan kateter dual-lumen. Baik Hickman maupun kateter Quinton memiliki pengaman, memungkinkan “segel” terjadi di jJaringan subkutan, sehingga menghasilkan aksesibilitas jangka panjang.'*!* MEMBRAN DIALIZER Tiga jenis membran yang umum tersedia saat ini: selulosa tidak dimodifikasi (fluks rendah, biasa disebut membran_ bioinkompatibel), selulosa termodifikasi/regenerasi (fluks rendah atau fluks tinggi; disebut relatif biokompatibel), sintetis (fluks rendah atau fluks tinggi; disebut relatif biokompatibel).'° Membran /ow-flux cocok untuk dialisis yang konvensional, tetapi untuk hemofiltrasi atau hemodiafiltrasi_ diperlukan membran_ high- flux. Makin tinggi permeabilitas hidrolik, makin tinggi risiko backfiltration; di mana proses ini bisa dicegah baik dengan aliran permanen\n",
      "Image\n",
      "-----------------------------------\n",
      "dari kompartemen darah ke kompartemen dialisat seperti yang dilakukan pada ultrafiltrasi maupun dengan menggunakan dialisat murni. Sintetis membran tampaknya pilihan teoritis terbaik tetapi membutuhkan biaya_relatif lebih tinggi. Penggunaan membran sintetik high-flux, seperti pada hemodiafiltrasi (HDF) on-line, masih menjadi perdebatan pada anak- anak yang menjalani dialisis sementara saat menunggu transplantasi ginjal. Penggunaan embali membran tidak diterapkan dalam praktik untuk anak-anak.'® DIALISAT Dialisat disiapbkan dengan pengenceran onsentrat dengan air, idealnya dengan air ultra murni. Komposisi dialisat telah berubah selama dua dekade terakhir. Asetat sebagai buffer telah digantikan oleh bikarbonat, dengan pengembangan mesin yang memiliki dua pompa pengenceran terpisah, satu untuk konsentrat bikarbonat bebas kalsium, sering sebagai bubuk, dan satu untuk konsentrat asam mengandung sisa kadar asetat dan elektrolit (Na, K, Cl, Ca). Dialisat bebas kalium jarang digunakan karena risiko hipokalemia. Suhu dialitik penting terutama untuk bayi dan/ atau penggunaan dialisat aliran tinggi, terkait risiko hipotermia pasien.\"*\"° BERAT BADAN KERING POST DIALISIS Berat badan kering pasien didefinisikan sebagai berat saat akhir sesi dialisis reguler, yang jika beratnya kurang dari ini, pasien akan menjadi hipotensi. Salah perkiraan berat badan kering dapat menyebabkan kelebihan cairan kronik atau dehidrasi kronik. Estimasi berat kering sangat sulit pada anak-anak karena berbagai alasan. Pertama, kecenderungan hipotensi selama sesi dialisis adalah multifaktorial, tidak hanya berhubungan dengan kecepatan ultrafiltrasi tetapi juga kecepatan kemampuan pengisian ulang plasma. Kedua, komposisi tubuh, yaitu perbandingan air tubuh total ke massa tubuh total, bervariasi dengan usia, terutama selama masa bayi dan pubertas. Pada bayi dan remaja berat badan kering harus dinilai hampir setiap bulan untuk mengikuti perubahan komposisi tubuh selama periode pertumbuhan yang cepat; juga penting pada kondisi anabolik seperti lengan pengobatan —hormon pertumbuhan, dan sebaliknya pada kondisi katabolik seperti anak sakit akibat infeksi atau asupan makanan yang berkurang.\"°\n",
      "Image\n",
      "-----------------------------------\n",
      "Beberapa pendekatan untuk menilai status hidrasi: penilaian total tubuh air dengan analisis impedansi bioelektrik (BIA), pengukuran variasi hematokrit terus-menerus dengan metode non-invasif selama dialisis, plasma atrial natriuretik peptid, atau penentuan siklik guanosin monofosfat, dan terakhir dengan echography vena cava inferior (IVC). Pengukuran diameter IVC (IVCD) oleh USG, dinyatakan sebagai indeks luas permukaan tubuh dalam mm/m?, dan penurunannya pada inspirasi dalam, yang disebut indeks kolaps, dalam persentase (%) tampaknya menjadi metode non-invasif yang akurat dan mudah dilakukan secara serial. IVCD antara 8,0 dan 11,5 mm/m? dan indeks kolaps antara 40 dan 75% dianggap normovolemia. Namun, tidak seperti impedansi tubuh, volume interstisial dan keseimbangan natrium tidak tercermin oleh IVCD. Semua_ pendekatan ini harus diimbangi dengan penilaian dan pengalaman klinis dan dikombinasi dengan dukungan nutrisi.'*\"° MONITORING DIALISIS Sesi dialisis pertama sangat penting untuk menginduksi kepercayaan anak dan orang tua, karena itu diperlukan persiapan yang tepat. Pencegahan nyeri sangat penting, misalnya dengan anestesi topikal satu jam sebelum insersi jarum. Persiapan psikologis anak dan keluarga juga perlu diperhatikan agar mencegah stres. Prosedur aseptik sangat penting. Selama sesi dialisis pertama, laju aliran = darah dipertahankan — pada tingkat rendah untuk mencegah sindrom disekuilibrium akibat penghapusan zat terlarut terlalu efisien selama sesi pertama. Laju aliran darah seharusnya kira-kira 3 mL/kg BB atau kurang, sehingga bersihan urea akan kurang dari 3 mL/menit/kg BB, yang biasanya ditoleransi baik bahkan pada anak kecil. Durasi sesi pertama dialisis harus singkat, tidak lebih dari 3 jam, atau disesuaikan untuk kebutuhan ultrafiltrasi.'° Sindrom disekuilibrium paling sering muncul setelah satu hingga dua jam dialisis, dengan gejala bervariasi seperti nyeri kepala atau kejang, muntah, kelelahan, mengantuk, atau kecenderungan hipertensi dengan kisaran sempit antara nilai tekanan_ sistolik dan diastolik. Jika perlu, infus manitol (1 g/kg BB selama 1 hingga 2 jam selama dialisis) efektif mencegah sindrom tersebut. Gejala biasanya hilang beberapa jam setelah akhir dialisis.°\"°\n",
      "Image\n",
      "-----------------------------------\n",
      "Untuk kebanyakan bayi dan anak-anak dengan berat badan kurang dari 10 kg, lebih dari tiga kali dialisis dalam sepekan terbukti dapat memenuhi kebutuhan nutrisi; karena susu yang dikonsumsi anak juga berupa air, sering diperlukan 4 hingga 5 kali dialisis dalam sepekan. Jumlah dan durasi pada setiap kali dialisis harus dapat menghindarkan perlunya berpuasa agar tercapai berat badan yang dibutuhkan untuk menunjang durasi dialisis yang singkat. Volume cairan untuk penggantian darah extracorporeal pada akhir sesi harus dibatasi, lebih disukai larutan glukosa daripada larutan garam, terutama pada bayi tanpa sisa ginjal yang berfungsi.'>\"® Dialisis harus dianggap sebagai bagian strategi perawatan keseluruhan termasuk kecukupan diet dan terapi _ interdialitik. Penambahan berat badan lebih dari 10% berat badan kering selama selang dua sesi sering berhubungan dengan ketidakpatuhan pasien. Akibatnya dapat berupa kasus akut seperti hiperkalemia atau edema paru, kasus kronik seperti hiperparatiroidisme, serta dalam jangka panjang dapat mengakibatkan gangguan _ kardiovaskular dan_ keterlibatan sistem pembuluh darah koroner.'*\"° ANTI KOAGULAN UNTUK DIALISIS Unfractionated heparin (UFH) adalah yang paling umum digunakan. Pemantauan dosis UFH menggunakan aPTT (target aPTT 1,5-2,0) atau bedside activated clotting times (180-220 detik) tidak dilakukan untuk perawatan rutin pasien rawat jalan.'* Dalam praktik klinis, 500 IU UFH bolus diikuti oleh 1000 IU/jam untuk anak-anak yang lebih besar, 250 IU bolus dengan infus 500 |U/jam untuk anak-anak yang lebih kecil, dan 250 IU bolus untuk bayi diikuti oleh infus 300 IU/jam. Alternatif lain adalah dosis UFH menurut berat badan, misalnya bolus 50 |U/kg diikuti 25 |U/kg/ jam; beberapa tempat hanya memberikan dua bolus, dosis lebih besar (50 IU/kg) pada awal dialisis diikuti bolus lebih kecil (25 IU/ kg) di tengah jalan sesi perawatan. Oleh karena itu, dosis dan saat menghentikan infus heparin (sering 20-30 menit sebelum akhir dialisis) biasanya disesuaikan dengan apakah terbentuk clot di detektor udara vena atau dialyzer dan waktu yang dibutuhkan untuk berhentinya perdarahan di tempat insersi jarum.\"? Anak-anak dengan hematokrit lebih tinggi\n",
      "Image\n",
      "-----------------------------------\n",
      "memerlukan dosis heparin lebih tinggi; clotting pada sirkuit lebih sering terjadi pada bayi dan anak dengan berat badan <10 kg dan pada anak-anak dengan laju aliran darah rendah. Meskipun diperlukan lebih sedikit heparin, jika disertai penurunan jumlah trombosit, risiko perdarahan subdural tetap meningkat.'? Beberapa pasien alergi heparin biasanya bereaksi terhadap produk porcine; trombositopenia yang diinduksi heparin walaupun jarang, dapat dijumpai pada penggunaan heparin berasal dari sapi. Paparan heparin jangka panjang berpotensi menyebabkan osteoporosis dan dapat meningkatkan risiko hiperkalemia_karena penghambatan aldosteron.'2 ALTERNATIF HEMODIALISIS Proses hemodiafiltrasis (HDF) metode pembersihan zat racun secara_ konveksi (kombinasi metode difusi dengan ultrafiltrasi) lebih baik dibandingkan hemodialisis standar.'? HDF membutuhkan akses vaskular yang baik, lengan laju aliran darah 150-240 mL/m? BSA (Body Surface Area/ Luas Permukaan Tubuh), sehingga sulit pada anak-anak yang lebih kecil. Untuk mencapai laju aliran yang lebih tinggi apat diberikan infus cairan predilusional; hemodiafiltrasi predilusional lebih sering ilakukan pada anak-anak. Manfaat HDF untu anak-anak termasuk peningkatan stabilitas hemodinamik dan kontrol tekanan dara’ yang lebih baik dengan lebih sedikit episode hipotensi intra-dialisis_ dan memperbaiki pertumbuhan.’? Pembuangan moleku molekul berukuran sedang dan fosfat dapat membantu mengurangi efek jangka panjang dialisis kronis. Kualitas air harus memenuhi standar mikrobiologi ultra-murni dan bebas dari bahan kimia kontaminan. '? NUTRISI ANAK DENGAN HEMODIALISIS Mengoptimalkan status gizi dengan dukungan ahli diet adalah elemen dasar perawatan untuk seorang anak penyakit ginjal kronis stadium 5.2 Peran ahli diet adalah meminimalkan gejala uremia, mencegah komplikasi penyakit tulang akibat gangguan ginjal (renal bone disease), dan mengoptimalkan pertumbuhan anak yang memadai. Pedoman K-DOOI pediatrik merekomendasikan mengukur hal berikut secara bulanan: '? @ kadar albumin serum\n",
      "Image\n",
      "-----------------------------------\n",
      "™ Tinggi badan dengan menggunakan skor Z ™ Berat badan kering @ Lingkar lengan dan ketebalan lipatan kulit @ = Lingkar fronto-oksipital, untuk anak-anak berusia 3 tahun atau kurang Kadar serum albumin dapat dipengaruhi oleh proses peradangan dan adanya kelebihan cairan; tinggi badan anak-anak — tidak sepenuhnya tergantung pada status nutrisi tetapi juga faktor genetik, komorbiditas, dan osteodistrofi ginjal; berat badan bisa meningkat palsu karena kelebihan cairan; lingkar lengan dan ketebalan lipatan kulit dapat dipengaruhi oleh distribusi lemak dan otot regional, dan tergantung pengamat yang melakukan penilaian tersebut.'? Pedoman pediatrik K-DOQI merekomendasikan asupan kalori dan protein untuk memenuhi diet yang direkomendasikan (RDA) untuk usia kronologis.'*Kebutuhan kalori dan protein sebanyak 150 kalori/kg dan 3 g protein/kg pada bayi pada dialisis peritoneal, dan bahkan lebih tinggi, hingga 180 kalori/kg dan 4 g protein/kg di bayi prematur.'? Vitamin tidak rutin diberikan. Asupan makanan ditujukan untuk memenuhi RDA untuk semua mikronutrien kecuali vitamin A dan D. Ekskresi Vitamin A di ginjal terganggu dan dapat berlebih pada CKD5Sd. Cholecalciferol bisa ditambahkan jika kadar 25 (OH) D3 rendah. 1(OH) D3 diberikan untuk mengobati osteodistrofi ginjal. Mengoptimalkan nutrisi dan pertumbuhan pada anak membutuhkan pendekatan multidisiplin, — dan sama pentingnya dengan proses dialisis. '2” KOMPLIKAS!I HEMODIALISIS Hipotensi terjadi terutama karena pergerakan air keluar dari kompartemen_ intravaskular lebih cepat dari tingkat pengisian ulang dari ompartemen ekstraseluler dan intraseluler. Risiko hipotensi intra-dialitik tergantung berbagai faktor, termasuk = penurunan osmolalitas serum yang cepat, vasodilatasi sebagai respons terhadap dialisat yang angat, dan tingkat ultrafiltrasi tinggi untuk memperbaiki kelebihan garam antar-dialitik dan konsumsi air.'2 Hemolisis, emboli udara, dan reaksi anafilaksis juga bisa terjadi. Meski jarang, sindrom disequilibrium terjadi karena penurunan konsentrasi urea plasma terlalu\n",
      "Image\n",
      "-----------------------------------\n",
      "cepat dengan gerakan urea dari jaringan ke dalam plasma lebih lambat, mengarah ke perubahan gradien osmotik antara air plasma dan sel, menghasilkan pergerakan air dari plasma ke jaringan termasuk otak, yang dapat menyebabkan edema serebral dengan kebingungan, kejang, dan koma.'? Risiko disequilibrium dapat dikurangi dengan menggunakan manitol intravena untuk sesi dialisis pertama pada pasien dengan plasma urea tinggi, dialisis menggunakan dialyzer dengan area permukaan lebih kecil, serta aliran dialisat dan darah lebih lambat.'? Malnutrisi sering terjadi pada bayi, anak-anak, dan remaja yang menjalani dialisis dan terkait dengan selera makan buruk, penurunan penyerapan usus terhadap nutrisi, dan asidosis metabolik.'* Masalah ini sangat penting karena dampak buruk terhadap pertumbuhan dan perkembangan neurokognitif.'* Pada bayi yang menjalani hemodialisis, angka morbiditas dan mortalitas tinggi.'’ Dalam review retrospektif 10 pasien ESRF berat badan <10 kg yang didialisis dalam satu pusat dialisis selama periode 14 tahun, tiga pasien meninggal sebelum usia 5 bulan.’” Pembekuan darah dan infeksi akses vena sering terjadi, dan dialisis yang memadai sulit dicapai. Anemia sering terjadi meskipun telah menggunakan erythropoietin.” SIMPULAN Penyakit ginjal kronik (PGK) atau chronic kidney disease (CKD) merupakan masalah kesehatan serius pada anak dengan morbiditas dan mortalitas makin meningkat serta menimbulkan masalah sosial ekonomi yang signifikan. Pengenalan CKD dini sangat penting karena berkaitan dengan pengelolaan untuk mempertahankan kemampuan_ fungsional nefron yang tersisa selama mungkin, sehingga penderita dapat hidup layak dan tumbuh maksimal. Pelaksanaan hemodialisis pada anak membutuhkan tim ahli ginjal, perawat, pekerja sosial, administrasi, dan ahli gizi yang memiliki pelatihan dan keahlian dalam dialisis dan ilmu_ pediatrik. Keputusan memulai dialisis pada anak-anak sangat beragam, tergantung fungsi ginjal yang tersisa, nilai- nilai laboratorium, faktor-faktor psikososial, dan saat optimal untuk pencangkokan ginjal.\n",
      "Image\n",
      "-----------------------------------\n"
     ]
    }
   ],
   "source": [
    "print(\"-----------------------------------\")\n",
    "for document in documents:\n",
    "        print(document.page_content)\n",
    "        print(document.metadata['category'])\n",
    "        print(\"-----------------------------------\")"
   ]
  },
  {
   "cell_type": "code",
   "execution_count": 21,
   "metadata": {},
   "outputs": [],
   "source": [
    "import re\n",
    "from unstructured.cleaners.core import clean_non_ascii_chars, clean_extra_whitespace\n",
    "filename_clean = filename.replace(\".pdf\", \"\")\n",
    "file = open(f\"../multi_column/unstructured_{filename_clean}.txt\", \"w+\")\n",
    "file.write(\"\")\n",
    "file.close()\n",
    "\n",
    "clean_documents = []\n",
    "file = open(f\"../multi_column/unstructured_{filename_clean}.txt\", \"a\")\n",
    "for document in documents:\n",
    "    clean = clean_extra_whitespace(clean_non_ascii_chars(re.sub(r\"[\\u2013_~*’—]\", \" \", document.page_content).strip()))\n",
    "    test = document.copy()\n",
    "    test.page_content = clean\n",
    "\n",
    "    # Appending the text into file\n",
    "    file.write(test.page_content)\n",
    "    file.write(\"\\n\")\n",
    "    clean_documents.append(test)\n",
    "\n",
    "    # Close the file\n",
    "file.close()"
   ]
  },
  {
   "cell_type": "code",
   "execution_count": null,
   "metadata": {},
   "outputs": [],
   "source": [
    "def find_unique_characters(file_path):\n",
    "    unique_characters = set()\n",
    "\n",
    "    try:\n",
    "        with open(file_path, 'r') as file:\n",
    "            for line in file:\n",
    "                # Remove whitespace and newline characters\n",
    "                line = line.strip()\n",
    "                # Add each character to the set\n",
    "                for char in line:\n",
    "                    if not char.isalpha():  # Check if the character is not a letter\n",
    "                        unique_characters.add(char)\n",
    "    except FileNotFoundError:\n",
    "        print(\"File not found.\")\n",
    "        return\n",
    "    except Exception as e:\n",
    "        print(\"An error occurred:\", e)\n",
    "        return\n",
    "\n",
    "    return unique_characters\n",
    "\n",
    "file_path = f'../multi_column\\\\unstructured_nutrisi_pada_anak_dengan_penyakit_ginjal_clean_blocks.txt'  # Replace with the path to your text file\n",
    "unique_chars = sorted(find_unique_characters(file_path))\n",
    "\n",
    "if unique_chars:\n",
    "    print(\"Unique characters in the file:\")\n",
    "    for char in unique_chars:\n",
    "        print(char)\n",
    "else:\n",
    "    print(\"No unique characters found.\")\n"
   ]
  },
  {
   "cell_type": "code",
   "execution_count": 7,
   "metadata": {},
   "outputs": [],
   "source": [
    "def insert_newline(text, line_length=180):\n",
    "    # Use regex to match every 180 characters\n",
    "    pattern = r'.{1,' + str(line_length) + '}'\n",
    "    # Insert newline after every match\n",
    "    new_text = re.sub(pattern, '\\\\g<0>\\n', text)\n",
    "    return new_text"
   ]
  },
  {
   "cell_type": "code",
   "execution_count": null,
   "metadata": {},
   "outputs": [],
   "source": [
    "print(\"-----------------------------------\")\n",
    "for document in clean_documents:\n",
    "        print(insert_newline(document.page_content, line_length=140))\n",
    "        print(\"-----------------------------------\")"
   ]
  },
  {
   "cell_type": "markdown",
   "metadata": {},
   "source": [
    "BORDER"
   ]
  },
  {
   "cell_type": "code",
   "execution_count": 8,
   "metadata": {},
   "outputs": [],
   "source": [
    "CHROMA_PATH = \"loader_test/chroma_test\""
   ]
  },
  {
   "cell_type": "code",
   "execution_count": 10,
   "metadata": {},
   "outputs": [
    {
     "name": "stdout",
     "output_type": "stream",
     "text": [
      "model load time 103.0 second\n"
     ]
    }
   ],
   "source": [
    "def load_embedding_model():\n",
    "    start_time = time.time()\n",
    "    model_path=\"intfloat/multilingual-e5-large\"   \n",
    "    encode_kwargs = {\"normalize_embeddings\": True}\n",
    "    local_embedding = HuggingFaceEmbeddings(\n",
    "        model_name=model_path,\n",
    "        cache_folder=\"../models\",\n",
    "        encode_kwargs=encode_kwargs\n",
    "    )\n",
    "    end_time = time.time()\n",
    "    print(f'model load time {round(end_time - start_time, 0)} second')\n",
    "    return local_embedding\n",
    "\n",
    "embedding = load_embedding_model()"
   ]
  },
  {
   "cell_type": "code",
   "execution_count": 11,
   "metadata": {},
   "outputs": [],
   "source": [
    "def save_to_chroma(chunks: list[Document]):\n",
    "    print(\"Starting Embedding\")\n",
    "    # Clear out the database first.\n",
    "    if os.path.exists(CHROMA_PATH):\n",
    "        shutil.rmtree(CHROMA_PATH)\n",
    "\n",
    "    # Create a new DB from the documents.\n",
    "    start_time = time.time()\n",
    "    db = Chroma.from_documents(\n",
    "        chunks, \n",
    "        embedding, \n",
    "        persist_directory=CHROMA_PATH,\n",
    "        collection_metadata={\"hnsw:space\": \"cosine\"}\n",
    "    )\n",
    "    db.persist()\n",
    "    end_time = time.time()\n",
    "    print(f'embedding time {round(end_time - start_time, 0)} second')\n",
    "    print(f\"Saved {len(chunks)} chunks to {CHROMA_PATH}.\")"
   ]
  },
  {
   "cell_type": "code",
   "execution_count": 14,
   "metadata": {},
   "outputs": [],
   "source": [
    "from langchain.text_splitter import RecursiveCharacterTextSplitter\n",
    "\n",
    "def split_text(documents: list[Document]):\n",
    "    print(\"Starting chunking\")\n",
    "\n",
    "    \"Character Splitter\"\n",
    "    # text_splitter = CharacterTextSplitter(\n",
    "    # separator=\"\\n\\n\",\n",
    "    # chunk_size=1000,\n",
    "    # chunk_overlap=300,\n",
    "    # length_function=len,\n",
    "    # strip_whitespace=True\n",
    "    # )\n",
    "    # chunks = text_splitter.split_documents(documents)\n",
    "\n",
    "    \"Recursive Splitter\"\n",
    "    text_splitter = RecursiveCharacterTextSplitter(\n",
    "        chunk_size=1500,\n",
    "        chunk_overlap=300,\n",
    "        length_function=len,\n",
    "        add_start_index=True,\n",
    "    )\n",
    "    chunks = text_splitter.split_documents(documents)\n",
    "    print(f\"Split {len(documents)} documents into {len(chunks)} chunks.\")\n",
    "    print(f\"len docs {len(chunks)}\")\n",
    "    document = chunks[10]\n",
    "    print(\"page content \\n\", document.page_content)\n",
    "    print(\"doc metadata \\n\", document.metadata)\n",
    "    return chunks"
   ]
  },
  {
   "cell_type": "code",
   "execution_count": 17,
   "metadata": {},
   "outputs": [
    {
     "data": {
      "text/plain": [
       "{'source': '..\\\\data\\\\pdfs-poster\\\\nutrisi_pada_anak_dengan_penyakit_ginjal_clean_poster.pdf',\n",
       " 'coordinates': {'points': ((0.0, -1385.7833333333328),\n",
       "   (0.0, 452.77777777777777),\n",
       "   (1594.4444444444443, 452.77777777777777),\n",
       "   (1594.4444444444443, -1385.7833333333328)),\n",
       "  'system': 'PixelSpace',\n",
       "  'layout_width': 1442,\n",
       "  'layout_height': 453},\n",
       " 'last_modified': '2024-04-19T20:23:55',\n",
       " 'filetype': 'application/pdf',\n",
       " 'languages': ['eng'],\n",
       " 'page_number': 1,\n",
       " 'file_directory': '..\\\\data\\\\pdfs-poster',\n",
       " 'filename': 'nutrisi_pada_anak_dengan_penyakit_ginjal_clean_poster.pdf',\n",
       " 'category': 'Image'}"
      ]
     },
     "execution_count": 17,
     "metadata": {},
     "output_type": "execute_result"
    }
   ],
   "source": [
    "clean_documents[0].metadata.str"
   ]
  },
  {
   "cell_type": "code",
   "execution_count": 18,
   "metadata": {},
   "outputs": [
    {
     "name": "stdout",
     "output_type": "stream",
     "text": [
      "Starting chunking\n",
      "Split 19 documents into 24 chunks.\n",
      "len docs 24\n",
      "page content \n",
      " 4. Kortikosteroid Penggunaan kortikosteroid dapat menekan pertumbuhan pada anak dengan PGK karena efeknya menekan hormon pertumbuhan dengan cara menstimulasi somatostatin hipotalamus, penurunan regulasi reseptor hepatic hormon pertumbuhan, inhibisi aktivitas biologis insulin-like growth factor (IGF), gangguan keseimbangan profil IGF binding protein serum, dan efek supresi langsung terhadap faktor pertumbuhan secara lokal dan hasil produksi jaringan matriks. Penghentian kortikosteroid atau modifikasi dosis kortikosteroid penting untuk tercapainya pertumbuhan yang optimal.' a. Pada anak dengan PGK derajat 2-5 dan 5D, bikarbonat serum perlu dikoreksi hingga normal. Penyakit ginjal kronik menyebabkan asidosis metabolik yang berdampak terhadap gangguan pertumbuhan. Pada keadaan asidosis, hormon tiroid akan turun dan respons IGF terhadap recombinant human growth hormone (rhGH) juga menumpul, sehingga terjadi resistensi terhadap hormon pertumbuhan endogen dan rhGH. Selain itu. pada keadaan asidosis, katabolisme protein akan meningkat disertai peningkatan pengeluaran kalsium dari tulang dan penurunan sintesis albumin. b. Terapi hormon pertumbuhan (growth hormone) perlu dipertimbangkan pada ana dengan PGK derajat 2-5 dan 5D, perawakan pendek, dan berpotensi mengalami gagal tumbuh. Hormon pertumbuhan IGF-1 merupakan regulator penting untu pertumbuhan dan metabolisme. Gangguan hormon ini menyebabkan resistensi terhadap hormon pertumbuhan, termasuk penurunan ekspresi reseptor hormon\n",
      "doc metadata \n",
      " {'source': '..\\\\data\\\\pdfs-poster\\\\nutrisi_pada_anak_dengan_penyakit_ginjal_clean_poster.pdf', 'last_modified': '2024-04-19T20:23:55', 'filetype': 'application/pdf', 'page_number': 9, 'file_directory': '..\\\\data\\\\pdfs-poster', 'filename': 'nutrisi_pada_anak_dengan_penyakit_ginjal_clean_poster.pdf', 'category': 'Image', 'start_index': 0}\n"
     ]
    }
   ],
   "source": [
    "from unstructured.chunking.basic import chunk_elements\n",
    "from unstructured.chunking.title import chunk_by_title\n",
    "from langchain_community.vectorstores.utils import filter_complex_metadata\n",
    "# chunks = chunk_elements(clean_documents, \n",
    "#                         max_characters=1500, \n",
    "#                         new_after_n_chars=1000, \n",
    "#                         overlap=300, \n",
    "#                         overlap_all=True)\n",
    "\n",
    "# chunks = chunk_by_title(clean_documents,\n",
    "#                         combine_text_under_n_chars = 500,\n",
    "#                         overlap=300, \n",
    "#                         overlap_all=True)\n",
    "\n",
    "# clean_elements_str_lst = [element.page_content for element in clean_documents]\n",
    "\n",
    "# if os.path.exists(CHROMA_PATH):\n",
    "#         shutil.rmtree(CHROMA_PATH)\n",
    "clean_metadata = filter_complex_metadata(clean_documents)\n",
    "chunks = split_text(clean_metadata)\n",
    "\n",
    "db = Chroma.from_documents(\n",
    "        chunks, \n",
    "        embedding, \n",
    "        persist_directory=CHROMA_PATH, \n",
    "        collection_metadata={\"hnsw:space\": \"cosine\"}\n",
    "    )\n",
    "db.persist()"
   ]
  },
  {
   "cell_type": "code",
   "execution_count": 22,
   "metadata": {},
   "outputs": [
    {
     "name": "stdout",
     "output_type": "stream",
     "text": [
      "Starting chunking\n",
      "Split 16 documents into 28 chunks.\n",
      "len docs 28\n",
      "page content \n",
      " beratnya kurang dari 10 kg. Sebuah studi Eropa multisenter telah menemukan bahwa prioritas pertama PD adalah usia anak (30%), pilihan orang tua (27%), jarak dari unit (14%), pilihan pasien (11%), kondisi sosial (7%), dan tidak dapat melakukan satu mode (6%). Memilih mode dialisis, baik HD maupun PD, untuk anak membutuhkan pertimbangan, di antaranya faktor-faktor lain dari kemungkinan dampak dari salah satu mode dialisis pada pemeliharaan sisa fungsi ginjal (RRF), karena dampaknya yang spesifik pada hasil pasien. Meskipun tidak ada konsensus umum, peritoneal dialisis dikaitkan dengan kurangnya risiko kehilangan RRF.' Indikasi absolut memulai dialisis pada anak meliputi anuria, gangguan elektrolit berat, gangguan neurologis pada gagal ginjal (misalnya ensefalopati, kejang, foot drop), perikarditis, diatesis perdarahan, mual berulang, gejala uremia, volume berlebihan, atau kegagalan pertumbuhan meskipun terapi medis sudah tepat, dan hipertensi. Efek samping uremia yaitu kelelahan dan kelemahan, disfungsi kognitif, gangguan tidur, dan gejala gastrointestinal, merupakan indikasi relatif untuk dimulainya dialisis.'?\" HEMODIALISIS PEDIATRIK Ada beberapa perbedaan mendasar antara hemodialisis dewasa dan pediatrik. Misalnya, pada pediatrik, aliran darah dan hemodialyzer dipilih atas dasar bahwa anak-anak dapat mentolerir 8% (maksimum 10%) total volume darah mereka di sirkuit ekstrakorporeal berdasarkan perkiraan volume darah total 80 mL/kg untuk bayi dan 70 mL/ kg untuk anak yang\n",
      "doc metadata \n",
      " {'source': '..\\\\data\\\\pdfs-poster\\\\Tatalaksana_Hemodialisis_pada_Anak_dan_Bayi_clean_poster.pdf', 'last_modified': '2024-04-18T22:47:10', 'filetype': 'application/pdf', 'page_number': 8, 'file_directory': '..\\\\data\\\\pdfs-poster', 'filename': 'Tatalaksana_Hemodialisis_pada_Anak_dan_Bayi_clean_poster.pdf', 'category': 'Image', 'start_index': 0}\n"
     ]
    },
    {
     "data": {
      "text/plain": [
       "['55a6f805-fe56-11ee-99bf-b6b024e70617',\n",
       " '55a6f806-fe56-11ee-972f-b6b024e70617',\n",
       " '55a6f807-fe56-11ee-9703-b6b024e70617',\n",
       " '55a6f808-fe56-11ee-bb4d-b6b024e70617',\n",
       " '55a6f809-fe56-11ee-93d7-b6b024e70617',\n",
       " '55a6f80a-fe56-11ee-80be-b6b024e70617',\n",
       " '55a6f80b-fe56-11ee-a49f-b6b024e70617',\n",
       " '55a6f80c-fe56-11ee-a967-b6b024e70617',\n",
       " '55a6f80d-fe56-11ee-925b-b6b024e70617',\n",
       " '55a6f80e-fe56-11ee-9ae3-b6b024e70617',\n",
       " '55a6f80f-fe56-11ee-8634-b6b024e70617',\n",
       " '55a6f810-fe56-11ee-ab12-b6b024e70617',\n",
       " '55a6f811-fe56-11ee-b9ce-b6b024e70617',\n",
       " '55a6f812-fe56-11ee-b30f-b6b024e70617',\n",
       " '55a6f813-fe56-11ee-93a5-b6b024e70617',\n",
       " '55a6f814-fe56-11ee-b2e0-b6b024e70617',\n",
       " '55a6f815-fe56-11ee-ac16-b6b024e70617',\n",
       " '55a6f816-fe56-11ee-a229-b6b024e70617',\n",
       " '55a6f817-fe56-11ee-b658-b6b024e70617',\n",
       " '55a6f818-fe56-11ee-a1e7-b6b024e70617',\n",
       " '55a6f819-fe56-11ee-bdb7-b6b024e70617',\n",
       " '55a6f81a-fe56-11ee-a05a-b6b024e70617',\n",
       " '55a6f81b-fe56-11ee-9c08-b6b024e70617',\n",
       " '55a6f81c-fe56-11ee-b3ae-b6b024e70617',\n",
       " '55a6f81d-fe56-11ee-bd43-b6b024e70617',\n",
       " '55a6f81e-fe56-11ee-8686-b6b024e70617',\n",
       " '55a6f81f-fe56-11ee-b1f7-b6b024e70617',\n",
       " '55a6f820-fe56-11ee-a09a-b6b024e70617']"
      ]
     },
     "execution_count": 22,
     "metadata": {},
     "output_type": "execute_result"
    }
   ],
   "source": [
    "clean_metadata = filter_complex_metadata(clean_documents)\n",
    "chunks = split_text(clean_metadata)\n",
    "db.add_documents(chunks)\n"
   ]
  }
 ],
 "metadata": {
  "kernelspec": {
   "display_name": "Python 3",
   "language": "python",
   "name": "python3"
  },
  "language_info": {
   "codemirror_mode": {
    "name": "ipython",
    "version": 3
   },
   "file_extension": ".py",
   "mimetype": "text/x-python",
   "name": "python",
   "nbconvert_exporter": "python",
   "pygments_lexer": "ipython3",
   "version": "3.9.13"
  }
 },
 "nbformat": 4,
 "nbformat_minor": 2
}
