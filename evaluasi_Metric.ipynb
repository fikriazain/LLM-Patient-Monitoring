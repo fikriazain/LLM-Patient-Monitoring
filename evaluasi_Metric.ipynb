{
 "cells": [
  {
   "cell_type": "code",
   "execution_count": 1,
   "metadata": {},
   "outputs": [],
   "source": [
    "import pandas as pd"
   ]
  },
  {
   "cell_type": "code",
   "execution_count": 32,
   "metadata": {},
   "outputs": [],
   "source": [
    "excel_pertanyaan = pd.read_excel(\"pertanyaan benchmark terjawab dengan hasil.xlsx\", index_col=0, sheet_name=None)"
   ]
  },
  {
   "cell_type": "code",
   "execution_count": 18,
   "metadata": {},
   "outputs": [
    {
     "data": {
      "text/plain": [
       "No\n",
       "1     1,1,1,0,0\n",
       "2     0,0,0,1,1\n",
       "3     1,0,0,0,0\n",
       "4     1,0,0,0,0\n",
       "5     1,0,0,0,0\n",
       "6     1,0,0,0,0\n",
       "7     0,0,0,0,1\n",
       "8     0,1,0,0,0\n",
       "9     1,0,1,0,0\n",
       "10    0,0,0,0,0\n",
       "Name: Hasil, dtype: object"
      ]
     },
     "execution_count": 18,
     "metadata": {},
     "output_type": "execute_result"
    }
   ],
   "source": [
    "excel_pertanyaan[\"Nutrisi\"][\"Hasil\"]"
   ]
  },
  {
   "cell_type": "code",
   "execution_count": 38,
   "metadata": {},
   "outputs": [],
   "source": [
    "lst_nums = []\n",
    "for sheet in excel_pertanyaan:\n",
    "    for i in excel_pertanyaan[sheet][\"Hasil\"]:\n",
    "        if type(i) == str:\n",
    "            lst_str = i.split(\",\")\n",
    "            lst_num = [int(x) for x in lst_str]\n",
    "            lst_nums.append(lst_num)"
   ]
  },
  {
   "cell_type": "code",
   "execution_count": 44,
   "metadata": {},
   "outputs": [
    {
     "data": {
      "text/plain": [
       "[[1, 1, 1, 0, 0],\n",
       " [0, 0, 0, 1, 1],\n",
       " [1, 0, 0, 0, 0],\n",
       " [1, 0, 0, 0, 0],\n",
       " [1, 0, 0, 0, 0],\n",
       " [1, 0, 0, 0, 0],\n",
       " [0, 0, 0, 0, 1],\n",
       " [0, 1, 0, 0, 0],\n",
       " [1, 0, 1, 0, 0],\n",
       " [0, 0, 0, 0, 0],\n",
       " [1, 1, 0, 0, 0],\n",
       " [1, 0, 0, 0, 0],\n",
       " [1, 0, 0, 0, 0],\n",
       " [1, 0, 0, 0, 0],\n",
       " [1, 0, 0, 0, 0],\n",
       " [1, 0, 0, 0, 0],\n",
       " [1, 0, 0, 0, 0],\n",
       " [1, 0, 0, 0, 0],\n",
       " [0, 1, 0, 0, 0],\n",
       " [0, 1, 0, 0, 0],\n",
       " [1, 1, 0, 0, 0],\n",
       " [1, 1, 0, 0, 0],\n",
       " [1, 0, 0, 0, 0],\n",
       " [1, 1, 0, 0, 0],\n",
       " [1, 0, 0, 0, 0],\n",
       " [1, 0, 0, 0, 0],\n",
       " [1, 0, 0, 0, 0]]"
      ]
     },
     "execution_count": 44,
     "metadata": {},
     "output_type": "execute_result"
    }
   ],
   "source": [
    "lst_nums"
   ]
  },
  {
   "cell_type": "code",
   "execution_count": 45,
   "metadata": {},
   "outputs": [
    {
     "name": "stdout",
     "output_type": "stream",
     "text": [
      "MAP  0.44913580246913587\n"
     ]
    }
   ],
   "source": [
    "list_prec_list = []\n",
    "for qr in lst_nums:\n",
    "    prec_list = []\n",
    "    jumlah = 0\n",
    "    for num, i in enumerate(qr):\n",
    "        jumlah += i\n",
    "        prec_list.append(jumlah/(num+1))\n",
    "    list_prec_list.append(prec_list)\n",
    "\n",
    "list_avg_prec = []\n",
    "for prec_list in list_prec_list:\n",
    "    avg_prec = sum(prec_list) / len(prec_list)\n",
    "    list_avg_prec.append(avg_prec)\n",
    "\n",
    "map = sum(list_avg_prec) / len(list_avg_prec)\n",
    "print(\"MAP \", map)"
   ]
  },
  {
   "cell_type": "code",
   "execution_count": 46,
   "metadata": {},
   "outputs": [
    {
     "name": "stdout",
     "output_type": "stream",
     "text": [
      "MRR  0.85\n"
     ]
    }
   ],
   "source": [
    "total_rr = 0.0\n",
    "num_queries = len(lst_nums)\n",
    "\n",
    "for query_results in lst_nums:\n",
    "    rr = 0.0\n",
    "    for i, result in enumerate(query_results, start=1):\n",
    "        if result == 1:  # If the result is relevant\n",
    "            rr = 1.0 / i  # Reciprocal Rank\n",
    "            break  # Stop calculating RR after finding the first relevant result\n",
    "    total_rr += rr\n",
    "\n",
    "if num_queries == 0:\n",
    "    print(0.0)\n",
    "else:\n",
    "    print(\"MRR \", total_rr / num_queries)"
   ]
  }
 ],
 "metadata": {
  "kernelspec": {
   "display_name": "Python 3",
   "language": "python",
   "name": "python3"
  },
  "language_info": {
   "codemirror_mode": {
    "name": "ipython",
    "version": 3
   },
   "file_extension": ".py",
   "mimetype": "text/x-python",
   "name": "python",
   "nbconvert_exporter": "python",
   "pygments_lexer": "ipython3",
   "version": "3.9.13"
  }
 },
 "nbformat": 4,
 "nbformat_minor": 2
}
