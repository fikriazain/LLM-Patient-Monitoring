{
 "cells": [
  {
   "cell_type": "code",
   "execution_count": 1,
   "metadata": {},
   "outputs": [],
   "source": [
    "import os\n",
    "from pdf2image import convert_from_path\n",
    "import pytesseract\n",
    "import cv2\n",
    "import matplotlib.pyplot as plt"
   ]
  },
  {
   "cell_type": "code",
   "execution_count": 13,
   "metadata": {},
   "outputs": [],
   "source": [
    "filename = 'nutrisi_pada_anak_dengan_penyakit_ginjal.pdf'\n",
    "filepath = f'../data/pdfs//{filename}'\n",
    "# filepath = f'../data/pdfs//{filename}'\n",
    "doc = convert_from_path(filepath)\n",
    "path, fileName = os.path.split(filepath)\n",
    "fileBaseName, fileExtension = os.path.splitext(fileName)"
   ]
  },
  {
   "cell_type": "code",
   "execution_count": 14,
   "metadata": {},
   "outputs": [],
   "source": [
    "for count, page in enumerate(doc):\n",
    "    page.save(f'../images/out{count}.jpg', 'JPEG')"
   ]
  },
  {
   "cell_type": "code",
   "execution_count": 23,
   "metadata": {},
   "outputs": [],
   "source": [
    "text = \"\"\n",
    "for page in (doc):\n",
    "    text1 = pytesseract.image_to_string(page)\n",
    "    text += text1 + \"\\n\"\n",
    "\n",
    "# print(text)"
   ]
  },
  {
   "cell_type": "code",
   "execution_count": 26,
   "metadata": {},
   "outputs": [],
   "source": [
    "import re\n",
    "from unstructured.cleaners.core import clean_non_ascii_chars, clean_extra_whitespace\n",
    "# A text file is created \n",
    "file = open(f\"../multi_column/opencv_{fileBaseName}.txt\", \"w+\")\n",
    "file.write(\"\")\n",
    "file.close()\n",
    "\n",
    "file = open(f\"../multi_column/opencv_{fileBaseName}.txt\", \"a\")\n",
    "clean = text.replace(\"’\", \"'\")\n",
    "clean = re.sub(r\"[\\u2013_~*—]\", \" \", clean)\n",
    "# Appending the text into file\n",
    "file.write(clean)\n",
    "file.write(\"\\n\")\n",
    "\n",
    "# Close the file\n",
    "file.close()"
   ]
  },
  {
   "cell_type": "code",
   "execution_count": 12,
   "metadata": {},
   "outputs": [
    {
     "name": "stdout",
     "output_type": "stream",
     "text": [
      "Unique characters in the file:\n",
      " \n",
      "!\n",
      "\"\n",
      "%\n",
      "'\n",
      "(\n",
      ")\n",
      ",\n",
      "-\n",
      ".\n",
      "/\n",
      "0\n",
      "1\n",
      "2\n",
      "3\n",
      "4\n",
      "5\n",
      "6\n",
      "7\n",
      "8\n",
      "9\n",
      ":\n",
      ";\n",
      "=\n",
      "?\n",
      "[\n",
      "]\n",
      "|\n",
      "}\n"
     ]
    }
   ],
   "source": [
    "def find_unique_characters(file_path):\n",
    "    unique_characters = set()\n",
    "\n",
    "    try:\n",
    "        with open(file_path, 'r') as file:\n",
    "            for line in file:\n",
    "                # Remove whitespace and newline characters\n",
    "                line = line.strip()\n",
    "                # Add each character to the set\n",
    "                for char in line:\n",
    "                    if not char.isalpha():  # Check if the character is not a letter\n",
    "                        unique_characters.add(char)\n",
    "    except FileNotFoundError:\n",
    "        print(f\"File not found. {file_path}\")\n",
    "        return\n",
    "    except Exception as e:\n",
    "        print(\"An error occurred:\", e)\n",
    "        return\n",
    "\n",
    "    return unique_characters\n",
    "\n",
    "file_path = f'..\\multi_column\\\\opencv_{fileBaseName}.txt'  # Replace with the path to your text file\n",
    "unique_chars = sorted(find_unique_characters(file_path))\n",
    "\n",
    "if unique_chars:\n",
    "    print(\"Unique characters in the file:\")\n",
    "    for char in unique_chars:\n",
    "        print(char)\n",
    "else:\n",
    "    print(\"No unique characters found.\")\n"
   ]
  }
 ],
 "metadata": {
  "kernelspec": {
   "display_name": "Python 3",
   "language": "python",
   "name": "python3"
  },
  "language_info": {
   "codemirror_mode": {
    "name": "ipython",
    "version": 3
   },
   "file_extension": ".py",
   "mimetype": "text/x-python",
   "name": "python",
   "nbconvert_exporter": "python",
   "pygments_lexer": "ipython3",
   "version": "3.9.13"
  }
 },
 "nbformat": 4,
 "nbformat_minor": 2
}
